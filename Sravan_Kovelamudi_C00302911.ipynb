{
  "cells": [
    {
      "cell_type": "markdown",
      "metadata": {
        "id": "W8QwoB7yQbfl"
      },
      "source": [
        "#Enhancing Supply Chain Resilience Through AI-Powered Demand Forecasting and Decision Support Systems"
      ]
    },
    {
      "cell_type": "markdown",
      "metadata": {
        "id": "XcCSZINJTvB7"
      },
      "source": [
        "In a world where consumer demands are as unpredictable, businesses face the challenge of keeping their shelves stocked and their operations running smoothly. The backbone of modern commerce—supply chains—has never been more crucial. Yet, traditional methods of demand planning and inventory management are struggling to keep up with the pace of change. Enter the age of Artificial Intelligence.\n",
        "\n",
        "This study explores how Python-based AI models can be the key to unlocking this new era of supply chain resilience, ensuring that businesses not only survive but thrive in an ever-changing world."
      ]
    },
    {
      "cell_type": "markdown",
      "metadata": {
        "id": "ah5OXkKPWjYy"
      },
      "source": [
        "## The Essential Toolkit: Libraries and Modules at Work\n",
        "\n",
        "In our journey to enhance supply chain resilience through AI-powered forecasting and decision-making, we are equipped with a robust set of tools. Each library and module plays a crucial role, much like the different instruments in an orchestra, working together to create a harmonious solution. Let’s take a closer look at the ensemble we’ve assembled for this mission."
      ]
    },
    {
      "cell_type": "code",
      "execution_count": null,
      "metadata": {
        "id": "Q6FvOTi9U02f",
        "colab": {
          "base_uri": "https://localhost:8080/"
        },
        "outputId": "aade842e-d3ae-4bf4-a860-9a6c30c4d419"
      },
      "outputs": [
        {
          "output_type": "stream",
          "name": "stdout",
          "text": [
            "Requirement already satisfied: transformers in /usr/local/lib/python3.10/dist-packages (4.42.4)\n",
            "Requirement already satisfied: filelock in /usr/local/lib/python3.10/dist-packages (from transformers) (3.15.4)\n",
            "Requirement already satisfied: huggingface-hub<1.0,>=0.23.2 in /usr/local/lib/python3.10/dist-packages (from transformers) (0.23.5)\n",
            "Requirement already satisfied: numpy<2.0,>=1.17 in /usr/local/lib/python3.10/dist-packages (from transformers) (1.26.4)\n",
            "Requirement already satisfied: packaging>=20.0 in /usr/local/lib/python3.10/dist-packages (from transformers) (24.1)\n",
            "Requirement already satisfied: pyyaml>=5.1 in /usr/local/lib/python3.10/dist-packages (from transformers) (6.0.2)\n",
            "Requirement already satisfied: regex!=2019.12.17 in /usr/local/lib/python3.10/dist-packages (from transformers) (2024.5.15)\n",
            "Requirement already satisfied: requests in /usr/local/lib/python3.10/dist-packages (from transformers) (2.32.3)\n",
            "Requirement already satisfied: safetensors>=0.4.1 in /usr/local/lib/python3.10/dist-packages (from transformers) (0.4.4)\n",
            "Requirement already satisfied: tokenizers<0.20,>=0.19 in /usr/local/lib/python3.10/dist-packages (from transformers) (0.19.1)\n",
            "Requirement already satisfied: tqdm>=4.27 in /usr/local/lib/python3.10/dist-packages (from transformers) (4.66.5)\n",
            "Requirement already satisfied: fsspec>=2023.5.0 in /usr/local/lib/python3.10/dist-packages (from huggingface-hub<1.0,>=0.23.2->transformers) (2024.6.1)\n",
            "Requirement already satisfied: typing-extensions>=3.7.4.3 in /usr/local/lib/python3.10/dist-packages (from huggingface-hub<1.0,>=0.23.2->transformers) (4.12.2)\n",
            "Requirement already satisfied: charset-normalizer<4,>=2 in /usr/local/lib/python3.10/dist-packages (from requests->transformers) (3.3.2)\n",
            "Requirement already satisfied: idna<4,>=2.5 in /usr/local/lib/python3.10/dist-packages (from requests->transformers) (3.7)\n",
            "Requirement already satisfied: urllib3<3,>=1.21.1 in /usr/local/lib/python3.10/dist-packages (from requests->transformers) (2.0.7)\n",
            "Requirement already satisfied: certifi>=2017.4.17 in /usr/local/lib/python3.10/dist-packages (from requests->transformers) (2024.7.4)\n"
          ]
        }
      ],
      "source": [
        "#Import  Libraries\n",
        "import pandas as pd\n",
        "import numpy as np\n",
        "import matplotlib.pyplot as plt\n",
        "import seaborn as sns\n",
        "import itertools\n",
        "import torch\n",
        "import transformers\n",
        "import tensorflow as tf\n",
        "import torch.nn as nn\n",
        "import torch.optim as optim\n",
        "! pip install transformers"
      ]
    },
    {
      "cell_type": "code",
      "execution_count": null,
      "metadata": {
        "id": "ai2Huwf_VepF"
      },
      "outputs": [],
      "source": [
        "# Import Modules and Functions\n",
        "from sklearn.model_selection import train_test_split\n",
        "from sklearn.linear_model import LinearRegression, LogisticRegression, Ridge\n",
        "from sklearn.ensemble import RandomForestClassifier, GradientBoostingRegressor\n",
        "from sklearn.metrics import accuracy_score, recall_score, f1_score, roc_auc_score, classification_report, confusion_matrix, roc_curve, mean_squared_error, r2_score, auc\n",
        "from transformers import BertForSequenceClassification, BertTokenizer, ViTForImageClassification, ViTFeatureExtractor, DistilBertTokenizer, DistilBertForSequenceClassification, Trainer, TrainingArguments\n",
        "from torch.utils.data import Dataset, DataLoader\n",
        "from sklearn.preprocessing import StandardScaler\n",
        "from tensorflow.keras.layers import Dense, Input\n",
        "from tensorflow.keras.models import Model\n",
        "from tensorflow.keras.optimizers import Adam\n",
        "from statsmodels.graphics.tsaplots import plot_acf, plot_pacf\n",
        "from statsmodels.tsa.arima.model import ARIMA\n",
        "from google.colab import drive\n",
        "from sklearn.preprocessing import LabelEncoder\n",
        "from sklearn.metrics import mean_absolute_error, mean_squared_error, r2_score\n",
        "from sklearn.linear_model import Ridge\n",
        "from sklearn.svm import SVR\n",
        "from statsmodels.tsa.arima.model import ARIMA\n"
      ]
    },
    {
      "cell_type": "code",
      "execution_count": null,
      "metadata": {
        "id": "PWId6r-fQNMb",
        "colab": {
          "base_uri": "https://localhost:8080/"
        },
        "outputId": "d34c8f30-9d59-463b-ab08-1f76242e89d6"
      },
      "outputs": [
        {
          "output_type": "stream",
          "name": "stdout",
          "text": [
            "Mounted at /content/drive\n"
          ]
        }
      ],
      "source": [
        "#Seamlessly importing datasets directly from Google Drive to kickstart our analysis\n",
        "drive.mount('/content/drive')\n",
        "data_path = '/content/drive/My Drive/Dataset/DataCoSupplyChainDataset.csv'\n",
        "\n",
        "# Specify the encoding\n",
        "df = pd.read_csv(data_path, encoding='ISO-8859-1')"
      ]
    },
    {
      "cell_type": "code",
      "execution_count": null,
      "metadata": {
        "id": "5YmD___-XvC8",
        "colab": {
          "base_uri": "https://localhost:8080/"
        },
        "outputId": "8bc453f3-d44c-477d-bd8c-ab4d599e1599"
      },
      "outputs": [
        {
          "output_type": "stream",
          "name": "stdout",
          "text": [
            "<class 'pandas.core.frame.DataFrame'>\n",
            "RangeIndex: 180519 entries, 0 to 180518\n",
            "Data columns (total 53 columns):\n",
            " #   Column                         Non-Null Count   Dtype  \n",
            "---  ------                         --------------   -----  \n",
            " 0   Type                           180519 non-null  object \n",
            " 1   Days for shipping (real)       180519 non-null  int64  \n",
            " 2   Days for shipment (scheduled)  180519 non-null  int64  \n",
            " 3   Benefit per order              180519 non-null  float64\n",
            " 4   Sales per customer             180519 non-null  float64\n",
            " 5   Delivery Status                180519 non-null  object \n",
            " 6   Late_delivery_risk             180519 non-null  int64  \n",
            " 7   Category Id                    180519 non-null  int64  \n",
            " 8   Category Name                  180519 non-null  object \n",
            " 9   Customer City                  180519 non-null  object \n",
            " 10  Customer Country               180519 non-null  object \n",
            " 11  Customer Email                 180519 non-null  object \n",
            " 12  Customer Fname                 180519 non-null  object \n",
            " 13  Customer Id                    180519 non-null  int64  \n",
            " 14  Customer Lname                 180511 non-null  object \n",
            " 15  Customer Password              180519 non-null  object \n",
            " 16  Customer Segment               180519 non-null  object \n",
            " 17  Customer State                 180519 non-null  object \n",
            " 18  Customer Street                180519 non-null  object \n",
            " 19  Customer Zipcode               180516 non-null  float64\n",
            " 20  Department Id                  180519 non-null  int64  \n",
            " 21  Department Name                180519 non-null  object \n",
            " 22  Latitude                       180519 non-null  float64\n",
            " 23  Longitude                      180519 non-null  float64\n",
            " 24  Market                         180519 non-null  object \n",
            " 25  Order City                     180519 non-null  object \n",
            " 26  Order Country                  180519 non-null  object \n",
            " 27  Order Customer Id              180519 non-null  int64  \n",
            " 28  order date (DateOrders)        180519 non-null  object \n",
            " 29  Order Id                       180519 non-null  int64  \n",
            " 30  Order Item Cardprod Id         180519 non-null  int64  \n",
            " 31  Order Item Discount            180519 non-null  float64\n",
            " 32  Order Item Discount Rate       180519 non-null  float64\n",
            " 33  Order Item Id                  180519 non-null  int64  \n",
            " 34  Order Item Product Price       180519 non-null  float64\n",
            " 35  Order Item Profit Ratio        180519 non-null  float64\n",
            " 36  Order Item Quantity            180519 non-null  int64  \n",
            " 37  Sales                          180519 non-null  float64\n",
            " 38  Order Item Total               180519 non-null  float64\n",
            " 39  Order Profit Per Order         180519 non-null  float64\n",
            " 40  Order Region                   180519 non-null  object \n",
            " 41  Order State                    180519 non-null  object \n",
            " 42  Order Status                   180519 non-null  object \n",
            " 43  Order Zipcode                  24840 non-null   float64\n",
            " 44  Product Card Id                180519 non-null  int64  \n",
            " 45  Product Category Id            180519 non-null  int64  \n",
            " 46  Product Description            0 non-null       float64\n",
            " 47  Product Image                  180519 non-null  object \n",
            " 48  Product Name                   180519 non-null  object \n",
            " 49  Product Price                  180519 non-null  float64\n",
            " 50  Product Status                 180519 non-null  int64  \n",
            " 51  shipping date (DateOrders)     180519 non-null  object \n",
            " 52  Shipping Mode                  180519 non-null  object \n",
            "dtypes: float64(15), int64(14), object(24)\n",
            "memory usage: 73.0+ MB\n",
            "None\n"
          ]
        }
      ],
      "source": [
        "#Dataset Overview\n",
        "print(df.info())"
      ]
    },
    {
      "cell_type": "code",
      "execution_count": null,
      "metadata": {
        "id": "M3HzxySCRAzC",
        "colab": {
          "base_uri": "https://localhost:8080/"
        },
        "outputId": "24e64f54-0721-4702-f52c-823199d43385"
      },
      "outputs": [
        {
          "output_type": "stream",
          "name": "stdout",
          "text": [
            "\n",
            "Summary statistics of the dataset:\n",
            "          Type  Days for shipping (real)  Days for shipment (scheduled)  \\\n",
            "count   180519             180519.000000                  180519.000000   \n",
            "unique       4                       NaN                            NaN   \n",
            "top      DEBIT                       NaN                            NaN   \n",
            "freq     69295                       NaN                            NaN   \n",
            "mean       NaN                  3.497654                       2.931847   \n",
            "std        NaN                  1.623722                       1.374449   \n",
            "min        NaN                  0.000000                       0.000000   \n",
            "25%        NaN                  2.000000                       2.000000   \n",
            "50%        NaN                  3.000000                       4.000000   \n",
            "75%        NaN                  5.000000                       4.000000   \n",
            "max        NaN                  6.000000                       4.000000   \n",
            "\n",
            "        Benefit per order  Sales per customer Delivery Status  \\\n",
            "count       180519.000000       180519.000000          180519   \n",
            "unique                NaN                 NaN               4   \n",
            "top                   NaN                 NaN   Late delivery   \n",
            "freq                  NaN                 NaN           98977   \n",
            "mean            21.974989          183.107609             NaN   \n",
            "std            104.433526          120.043670             NaN   \n",
            "min          -4274.979980            7.490000             NaN   \n",
            "25%              7.000000          104.379997             NaN   \n",
            "50%             31.520000          163.990005             NaN   \n",
            "75%             64.800003          247.399994             NaN   \n",
            "max            911.799988         1939.989990             NaN   \n",
            "\n",
            "        Late_delivery_risk    Category Id Category Name Customer City  ...  \\\n",
            "count        180519.000000  180519.000000        180519        180519  ...   \n",
            "unique                 NaN            NaN            50           563  ...   \n",
            "top                    NaN            NaN        Cleats        Caguas  ...   \n",
            "freq                   NaN            NaN         24551         66770  ...   \n",
            "mean              0.548291      31.851451           NaN           NaN  ...   \n",
            "std               0.497664      15.640064           NaN           NaN  ...   \n",
            "min               0.000000       2.000000           NaN           NaN  ...   \n",
            "25%               0.000000      18.000000           NaN           NaN  ...   \n",
            "50%               1.000000      29.000000           NaN           NaN  ...   \n",
            "75%               1.000000      45.000000           NaN           NaN  ...   \n",
            "max               1.000000      76.000000           NaN           NaN  ...   \n",
            "\n",
            "       Order Zipcode Product Card Id Product Category Id  Product Description  \\\n",
            "count   24840.000000   180519.000000       180519.000000                  0.0   \n",
            "unique           NaN             NaN                 NaN                  NaN   \n",
            "top              NaN             NaN                 NaN                  NaN   \n",
            "freq             NaN             NaN                 NaN                  NaN   \n",
            "mean    55426.132327      692.509764           31.851451                  NaN   \n",
            "std     31919.279101      336.446807           15.640064                  NaN   \n",
            "min      1040.000000       19.000000            2.000000                  NaN   \n",
            "25%     23464.000000      403.000000           18.000000                  NaN   \n",
            "50%     59405.000000      627.000000           29.000000                  NaN   \n",
            "75%     90008.000000     1004.000000           45.000000                  NaN   \n",
            "max     99301.000000     1363.000000           76.000000                  NaN   \n",
            "\n",
            "                                            Product Image  \\\n",
            "count                                              180519   \n",
            "unique                                                118   \n",
            "top     http://images.acmesports.sports/Perfect+Fitnes...   \n",
            "freq                                                24515   \n",
            "mean                                                  NaN   \n",
            "std                                                   NaN   \n",
            "min                                                   NaN   \n",
            "25%                                                   NaN   \n",
            "50%                                                   NaN   \n",
            "75%                                                   NaN   \n",
            "max                                                   NaN   \n",
            "\n",
            "                            Product Name  Product Price Product Status  \\\n",
            "count                             180519  180519.000000       180519.0   \n",
            "unique                               118            NaN            NaN   \n",
            "top     Perfect Fitness Perfect Rip Deck            NaN            NaN   \n",
            "freq                               24515            NaN            NaN   \n",
            "mean                                 NaN     141.232550            0.0   \n",
            "std                                  NaN     139.732492            0.0   \n",
            "min                                  NaN       9.990000            0.0   \n",
            "25%                                  NaN      50.000000            0.0   \n",
            "50%                                  NaN      59.990002            0.0   \n",
            "75%                                  NaN     199.990005            0.0   \n",
            "max                                  NaN    1999.989990            0.0   \n",
            "\n",
            "       shipping date (DateOrders)   Shipping Mode  \n",
            "count                      180519          180519  \n",
            "unique                      63701               4  \n",
            "top               3/23/2017 17:47  Standard Class  \n",
            "freq                           10          107752  \n",
            "mean                          NaN             NaN  \n",
            "std                           NaN             NaN  \n",
            "min                           NaN             NaN  \n",
            "25%                           NaN             NaN  \n",
            "50%                           NaN             NaN  \n",
            "75%                           NaN             NaN  \n",
            "max                           NaN             NaN  \n",
            "\n",
            "[11 rows x 53 columns]\n"
          ]
        }
      ],
      "source": [
        "#Summary of the dataset\n",
        "print(\"\\nSummary statistics of the dataset:\")\n",
        "print(df.describe(include='all'))"
      ]
    },
    {
      "cell_type": "code",
      "execution_count": null,
      "metadata": {
        "id": "fsC5yOz9RUXU",
        "colab": {
          "base_uri": "https://localhost:8080/"
        },
        "outputId": "c01ddebf-60b9-47a8-8811-6390d8a24be2"
      },
      "outputs": [
        {
          "output_type": "stream",
          "name": "stdout",
          "text": [
            "\n",
            "Missing values in the dataset:\n",
            "Type                                  0\n",
            "Days for shipping (real)              0\n",
            "Days for shipment (scheduled)         0\n",
            "Benefit per order                     0\n",
            "Sales per customer                    0\n",
            "Delivery Status                       0\n",
            "Late_delivery_risk                    0\n",
            "Category Id                           0\n",
            "Category Name                         0\n",
            "Customer City                         0\n",
            "Customer Country                      0\n",
            "Customer Email                        0\n",
            "Customer Fname                        0\n",
            "Customer Id                           0\n",
            "Customer Lname                        8\n",
            "Customer Password                     0\n",
            "Customer Segment                      0\n",
            "Customer State                        0\n",
            "Customer Street                       0\n",
            "Customer Zipcode                      3\n",
            "Department Id                         0\n",
            "Department Name                       0\n",
            "Latitude                              0\n",
            "Longitude                             0\n",
            "Market                                0\n",
            "Order City                            0\n",
            "Order Country                         0\n",
            "Order Customer Id                     0\n",
            "order date (DateOrders)               0\n",
            "Order Id                              0\n",
            "Order Item Cardprod Id                0\n",
            "Order Item Discount                   0\n",
            "Order Item Discount Rate              0\n",
            "Order Item Id                         0\n",
            "Order Item Product Price              0\n",
            "Order Item Profit Ratio               0\n",
            "Order Item Quantity                   0\n",
            "Sales                                 0\n",
            "Order Item Total                      0\n",
            "Order Profit Per Order                0\n",
            "Order Region                          0\n",
            "Order State                           0\n",
            "Order Status                          0\n",
            "Order Zipcode                    155679\n",
            "Product Card Id                       0\n",
            "Product Category Id                   0\n",
            "Product Description              180519\n",
            "Product Image                         0\n",
            "Product Name                          0\n",
            "Product Price                         0\n",
            "Product Status                        0\n",
            "shipping date (DateOrders)            0\n",
            "Shipping Mode                         0\n",
            "dtype: int64\n"
          ]
        }
      ],
      "source": [
        "#Check for missing values\n",
        "print(\"\\nMissing values in the dataset:\")\n",
        "print(df.isnull().sum())"
      ]
    },
    {
      "cell_type": "code",
      "execution_count": null,
      "metadata": {
        "id": "a7_XWKQfQNMb"
      },
      "outputs": [],
      "source": [
        "#List of columns to drop for privacy and unnecessary data\n",
        "df.drop([\n",
        "    'Customer Email', 'Customer Fname', 'Customer Lname',\n",
        "    'Customer Password', 'Customer Street', 'Customer Zipcode',\n",
        "    'Order Customer Id', 'Order Zipcode', 'Product Description',\n",
        "    'Product Image'\n",
        "], axis=1, inplace=True)"
      ]
    },
    {
      "cell_type": "code",
      "execution_count": null,
      "metadata": {
        "id": "cbkCqWN7QNMb",
        "colab": {
          "base_uri": "https://localhost:8080/"
        },
        "outputId": "bceb67ef-3e85-4476-c47d-061fa877e527"
      },
      "outputs": [
        {
          "output_type": "stream",
          "name": "stdout",
          "text": [
            "Index(['Type', 'Days for shipping (real)', 'Days for shipment (scheduled)',\n",
            "       'Benefit per order', 'Sales per customer', 'Delivery Status',\n",
            "       'Late_delivery_risk', 'Category Id', 'Category Name', 'Customer City',\n",
            "       'Customer Country', 'Customer Id', 'Customer Segment', 'Customer State',\n",
            "       'Department Id', 'Department Name', 'Latitude', 'Longitude', 'Market',\n",
            "       'Order City', 'Order Country', 'order date (DateOrders)', 'Order Id',\n",
            "       'Order Item Cardprod Id', 'Order Item Discount',\n",
            "       'Order Item Discount Rate', 'Order Item Id', 'Order Item Product Price',\n",
            "       'Order Item Profit Ratio', 'Order Item Quantity', 'Sales',\n",
            "       'Order Item Total', 'Order Profit Per Order', 'Order Region',\n",
            "       'Order State', 'Order Status', 'Product Card Id', 'Product Category Id',\n",
            "       'Product Name', 'Product Price', 'Product Status',\n",
            "       'shipping date (DateOrders)', 'Shipping Mode'],\n",
            "      dtype='object')\n"
          ]
        }
      ],
      "source": [
        "#Check the column names\n",
        "print(df.columns)"
      ]
    },
    {
      "cell_type": "code",
      "execution_count": null,
      "metadata": {
        "id": "SEzoUrZQQNMb",
        "colab": {
          "base_uri": "https://localhost:8080/"
        },
        "outputId": "c7cb937f-0507-4729-e72a-0002b3ef6a47"
      },
      "outputs": [
        {
          "output_type": "stream",
          "name": "stdout",
          "text": [
            "<class 'pandas.core.frame.DataFrame'>\n",
            "RangeIndex: 180519 entries, 0 to 180518\n",
            "Data columns (total 43 columns):\n",
            " #   Column                         Non-Null Count   Dtype  \n",
            "---  ------                         --------------   -----  \n",
            " 0   Type                           180519 non-null  object \n",
            " 1   Days for shipping (real)       180519 non-null  int64  \n",
            " 2   Days for shipment (scheduled)  180519 non-null  int64  \n",
            " 3   Benefit per order              180519 non-null  float64\n",
            " 4   Sales per customer             180519 non-null  float64\n",
            " 5   Delivery Status                180519 non-null  object \n",
            " 6   Late_delivery_risk             180519 non-null  int64  \n",
            " 7   Category Id                    180519 non-null  int64  \n",
            " 8   Category Name                  180519 non-null  object \n",
            " 9   Customer City                  180519 non-null  object \n",
            " 10  Customer Country               180519 non-null  object \n",
            " 11  Customer Id                    180519 non-null  int64  \n",
            " 12  Customer Segment               180519 non-null  object \n",
            " 13  Customer State                 180519 non-null  object \n",
            " 14  Department Id                  180519 non-null  int64  \n",
            " 15  Department Name                180519 non-null  object \n",
            " 16  Latitude                       180519 non-null  float64\n",
            " 17  Longitude                      180519 non-null  float64\n",
            " 18  Market                         180519 non-null  object \n",
            " 19  Order City                     180519 non-null  object \n",
            " 20  Order Country                  180519 non-null  object \n",
            " 21  order date (DateOrders)        180519 non-null  object \n",
            " 22  Order Id                       180519 non-null  int64  \n",
            " 23  Order Item Cardprod Id         180519 non-null  int64  \n",
            " 24  Order Item Discount            180519 non-null  float64\n",
            " 25  Order Item Discount Rate       180519 non-null  float64\n",
            " 26  Order Item Id                  180519 non-null  int64  \n",
            " 27  Order Item Product Price       180519 non-null  float64\n",
            " 28  Order Item Profit Ratio        180519 non-null  float64\n",
            " 29  Order Item Quantity            180519 non-null  int64  \n",
            " 30  Sales                          180519 non-null  float64\n",
            " 31  Order Item Total               180519 non-null  float64\n",
            " 32  Order Profit Per Order         180519 non-null  float64\n",
            " 33  Order Region                   180519 non-null  object \n",
            " 34  Order State                    180519 non-null  object \n",
            " 35  Order Status                   180519 non-null  object \n",
            " 36  Product Card Id                180519 non-null  int64  \n",
            " 37  Product Category Id            180519 non-null  int64  \n",
            " 38  Product Name                   180519 non-null  object \n",
            " 39  Product Price                  180519 non-null  float64\n",
            " 40  Product Status                 180519 non-null  int64  \n",
            " 41  shipping date (DateOrders)     180519 non-null  object \n",
            " 42  Shipping Mode                  180519 non-null  object \n",
            "dtypes: float64(12), int64(13), object(18)\n",
            "memory usage: 59.2+ MB\n",
            "None\n"
          ]
        }
      ],
      "source": [
        "# Display the summary information of the DataFrame.\n",
        "print(df.info())"
      ]
    },
    {
      "cell_type": "markdown",
      "metadata": {
        "id": "IeEvnQ8n4g4X"
      },
      "source": [
        "##Statistics of the Dataset: Descriptive analysis of key metrics such as mean, standard deviation, and percentiles for all numerical features in the dataset.\n"
      ]
    },
    {
      "cell_type": "code",
      "execution_count": null,
      "metadata": {
        "id": "WTBFHyTsQNMb",
        "colab": {
          "base_uri": "https://localhost:8080/",
          "height": 384
        },
        "outputId": "c1eebc0c-24f6-406d-8ed3-82fe88c87e61"
      },
      "outputs": [
        {
          "output_type": "execute_result",
          "data": {
            "text/plain": [
              "       Days for shipping (real)  Days for shipment (scheduled)  \\\n",
              "count             180519.000000                  180519.000000   \n",
              "mean                   3.497654                       2.931847   \n",
              "std                    1.623722                       1.374449   \n",
              "min                    0.000000                       0.000000   \n",
              "25%                    2.000000                       2.000000   \n",
              "50%                    3.000000                       4.000000   \n",
              "75%                    5.000000                       4.000000   \n",
              "max                    6.000000                       4.000000   \n",
              "\n",
              "       Benefit per order  Sales per customer  Late_delivery_risk  \\\n",
              "count      180519.000000       180519.000000       180519.000000   \n",
              "mean           21.974989          183.107609            0.548291   \n",
              "std           104.433526          120.043670            0.497664   \n",
              "min         -4274.979980            7.490000            0.000000   \n",
              "25%             7.000000          104.379997            0.000000   \n",
              "50%            31.520000          163.990005            1.000000   \n",
              "75%            64.800003          247.399994            1.000000   \n",
              "max           911.799988         1939.989990            1.000000   \n",
              "\n",
              "         Category Id    Customer Id  Department Id       Latitude  \\\n",
              "count  180519.000000  180519.000000  180519.000000  180519.000000   \n",
              "mean       31.851451    6691.379495       5.443460      29.719955   \n",
              "std        15.640064    4162.918106       1.629246       9.813646   \n",
              "min         2.000000       1.000000       2.000000     -33.937553   \n",
              "25%        18.000000    3258.500000       4.000000      18.265432   \n",
              "50%        29.000000    6457.000000       5.000000      33.144863   \n",
              "75%        45.000000    9779.000000       7.000000      39.279617   \n",
              "max        76.000000   20757.000000      12.000000      48.781933   \n",
              "\n",
              "           Longitude  ...  Order Item Product Price  Order Item Profit Ratio  \\\n",
              "count  180519.000000  ...             180519.000000            180519.000000   \n",
              "mean      -84.915675  ...                141.232550                 0.120647   \n",
              "std        21.433241  ...                139.732492                 0.466796   \n",
              "min      -158.025986  ...                  9.990000                -2.750000   \n",
              "25%       -98.446312  ...                 50.000000                 0.080000   \n",
              "50%       -76.847908  ...                 59.990002                 0.270000   \n",
              "75%       -66.370583  ...                199.990005                 0.360000   \n",
              "max       115.263077  ...               1999.989990                 0.500000   \n",
              "\n",
              "       Order Item Quantity          Sales  Order Item Total  \\\n",
              "count        180519.000000  180519.000000     180519.000000   \n",
              "mean              2.127638     203.772096        183.107609   \n",
              "std               1.453451     132.273077        120.043670   \n",
              "min               1.000000       9.990000          7.490000   \n",
              "25%               1.000000     119.980003        104.379997   \n",
              "50%               1.000000     199.919998        163.990005   \n",
              "75%               3.000000     299.950012        247.399994   \n",
              "max               5.000000    1999.989990       1939.989990   \n",
              "\n",
              "       Order Profit Per Order  Product Card Id  Product Category Id  \\\n",
              "count           180519.000000    180519.000000        180519.000000   \n",
              "mean                21.974989       692.509764            31.851451   \n",
              "std                104.433526       336.446807            15.640064   \n",
              "min              -4274.979980        19.000000             2.000000   \n",
              "25%                  7.000000       403.000000            18.000000   \n",
              "50%                 31.520000       627.000000            29.000000   \n",
              "75%                 64.800003      1004.000000            45.000000   \n",
              "max                911.799988      1363.000000            76.000000   \n",
              "\n",
              "       Product Price  Product Status  \n",
              "count  180519.000000        180519.0  \n",
              "mean      141.232550             0.0  \n",
              "std       139.732492             0.0  \n",
              "min         9.990000             0.0  \n",
              "25%        50.000000             0.0  \n",
              "50%        59.990002             0.0  \n",
              "75%       199.990005             0.0  \n",
              "max      1999.989990             0.0  \n",
              "\n",
              "[8 rows x 25 columns]"
            ],
            "text/html": [
              "\n",
              "  <div id=\"df-66ffdd81-8023-4b6e-9fff-1a75cfcd5c2a\" class=\"colab-df-container\">\n",
              "    <div>\n",
              "<style scoped>\n",
              "    .dataframe tbody tr th:only-of-type {\n",
              "        vertical-align: middle;\n",
              "    }\n",
              "\n",
              "    .dataframe tbody tr th {\n",
              "        vertical-align: top;\n",
              "    }\n",
              "\n",
              "    .dataframe thead th {\n",
              "        text-align: right;\n",
              "    }\n",
              "</style>\n",
              "<table border=\"1\" class=\"dataframe\">\n",
              "  <thead>\n",
              "    <tr style=\"text-align: right;\">\n",
              "      <th></th>\n",
              "      <th>Days for shipping (real)</th>\n",
              "      <th>Days for shipment (scheduled)</th>\n",
              "      <th>Benefit per order</th>\n",
              "      <th>Sales per customer</th>\n",
              "      <th>Late_delivery_risk</th>\n",
              "      <th>Category Id</th>\n",
              "      <th>Customer Id</th>\n",
              "      <th>Department Id</th>\n",
              "      <th>Latitude</th>\n",
              "      <th>Longitude</th>\n",
              "      <th>...</th>\n",
              "      <th>Order Item Product Price</th>\n",
              "      <th>Order Item Profit Ratio</th>\n",
              "      <th>Order Item Quantity</th>\n",
              "      <th>Sales</th>\n",
              "      <th>Order Item Total</th>\n",
              "      <th>Order Profit Per Order</th>\n",
              "      <th>Product Card Id</th>\n",
              "      <th>Product Category Id</th>\n",
              "      <th>Product Price</th>\n",
              "      <th>Product Status</th>\n",
              "    </tr>\n",
              "  </thead>\n",
              "  <tbody>\n",
              "    <tr>\n",
              "      <th>count</th>\n",
              "      <td>180519.000000</td>\n",
              "      <td>180519.000000</td>\n",
              "      <td>180519.000000</td>\n",
              "      <td>180519.000000</td>\n",
              "      <td>180519.000000</td>\n",
              "      <td>180519.000000</td>\n",
              "      <td>180519.000000</td>\n",
              "      <td>180519.000000</td>\n",
              "      <td>180519.000000</td>\n",
              "      <td>180519.000000</td>\n",
              "      <td>...</td>\n",
              "      <td>180519.000000</td>\n",
              "      <td>180519.000000</td>\n",
              "      <td>180519.000000</td>\n",
              "      <td>180519.000000</td>\n",
              "      <td>180519.000000</td>\n",
              "      <td>180519.000000</td>\n",
              "      <td>180519.000000</td>\n",
              "      <td>180519.000000</td>\n",
              "      <td>180519.000000</td>\n",
              "      <td>180519.0</td>\n",
              "    </tr>\n",
              "    <tr>\n",
              "      <th>mean</th>\n",
              "      <td>3.497654</td>\n",
              "      <td>2.931847</td>\n",
              "      <td>21.974989</td>\n",
              "      <td>183.107609</td>\n",
              "      <td>0.548291</td>\n",
              "      <td>31.851451</td>\n",
              "      <td>6691.379495</td>\n",
              "      <td>5.443460</td>\n",
              "      <td>29.719955</td>\n",
              "      <td>-84.915675</td>\n",
              "      <td>...</td>\n",
              "      <td>141.232550</td>\n",
              "      <td>0.120647</td>\n",
              "      <td>2.127638</td>\n",
              "      <td>203.772096</td>\n",
              "      <td>183.107609</td>\n",
              "      <td>21.974989</td>\n",
              "      <td>692.509764</td>\n",
              "      <td>31.851451</td>\n",
              "      <td>141.232550</td>\n",
              "      <td>0.0</td>\n",
              "    </tr>\n",
              "    <tr>\n",
              "      <th>std</th>\n",
              "      <td>1.623722</td>\n",
              "      <td>1.374449</td>\n",
              "      <td>104.433526</td>\n",
              "      <td>120.043670</td>\n",
              "      <td>0.497664</td>\n",
              "      <td>15.640064</td>\n",
              "      <td>4162.918106</td>\n",
              "      <td>1.629246</td>\n",
              "      <td>9.813646</td>\n",
              "      <td>21.433241</td>\n",
              "      <td>...</td>\n",
              "      <td>139.732492</td>\n",
              "      <td>0.466796</td>\n",
              "      <td>1.453451</td>\n",
              "      <td>132.273077</td>\n",
              "      <td>120.043670</td>\n",
              "      <td>104.433526</td>\n",
              "      <td>336.446807</td>\n",
              "      <td>15.640064</td>\n",
              "      <td>139.732492</td>\n",
              "      <td>0.0</td>\n",
              "    </tr>\n",
              "    <tr>\n",
              "      <th>min</th>\n",
              "      <td>0.000000</td>\n",
              "      <td>0.000000</td>\n",
              "      <td>-4274.979980</td>\n",
              "      <td>7.490000</td>\n",
              "      <td>0.000000</td>\n",
              "      <td>2.000000</td>\n",
              "      <td>1.000000</td>\n",
              "      <td>2.000000</td>\n",
              "      <td>-33.937553</td>\n",
              "      <td>-158.025986</td>\n",
              "      <td>...</td>\n",
              "      <td>9.990000</td>\n",
              "      <td>-2.750000</td>\n",
              "      <td>1.000000</td>\n",
              "      <td>9.990000</td>\n",
              "      <td>7.490000</td>\n",
              "      <td>-4274.979980</td>\n",
              "      <td>19.000000</td>\n",
              "      <td>2.000000</td>\n",
              "      <td>9.990000</td>\n",
              "      <td>0.0</td>\n",
              "    </tr>\n",
              "    <tr>\n",
              "      <th>25%</th>\n",
              "      <td>2.000000</td>\n",
              "      <td>2.000000</td>\n",
              "      <td>7.000000</td>\n",
              "      <td>104.379997</td>\n",
              "      <td>0.000000</td>\n",
              "      <td>18.000000</td>\n",
              "      <td>3258.500000</td>\n",
              "      <td>4.000000</td>\n",
              "      <td>18.265432</td>\n",
              "      <td>-98.446312</td>\n",
              "      <td>...</td>\n",
              "      <td>50.000000</td>\n",
              "      <td>0.080000</td>\n",
              "      <td>1.000000</td>\n",
              "      <td>119.980003</td>\n",
              "      <td>104.379997</td>\n",
              "      <td>7.000000</td>\n",
              "      <td>403.000000</td>\n",
              "      <td>18.000000</td>\n",
              "      <td>50.000000</td>\n",
              "      <td>0.0</td>\n",
              "    </tr>\n",
              "    <tr>\n",
              "      <th>50%</th>\n",
              "      <td>3.000000</td>\n",
              "      <td>4.000000</td>\n",
              "      <td>31.520000</td>\n",
              "      <td>163.990005</td>\n",
              "      <td>1.000000</td>\n",
              "      <td>29.000000</td>\n",
              "      <td>6457.000000</td>\n",
              "      <td>5.000000</td>\n",
              "      <td>33.144863</td>\n",
              "      <td>-76.847908</td>\n",
              "      <td>...</td>\n",
              "      <td>59.990002</td>\n",
              "      <td>0.270000</td>\n",
              "      <td>1.000000</td>\n",
              "      <td>199.919998</td>\n",
              "      <td>163.990005</td>\n",
              "      <td>31.520000</td>\n",
              "      <td>627.000000</td>\n",
              "      <td>29.000000</td>\n",
              "      <td>59.990002</td>\n",
              "      <td>0.0</td>\n",
              "    </tr>\n",
              "    <tr>\n",
              "      <th>75%</th>\n",
              "      <td>5.000000</td>\n",
              "      <td>4.000000</td>\n",
              "      <td>64.800003</td>\n",
              "      <td>247.399994</td>\n",
              "      <td>1.000000</td>\n",
              "      <td>45.000000</td>\n",
              "      <td>9779.000000</td>\n",
              "      <td>7.000000</td>\n",
              "      <td>39.279617</td>\n",
              "      <td>-66.370583</td>\n",
              "      <td>...</td>\n",
              "      <td>199.990005</td>\n",
              "      <td>0.360000</td>\n",
              "      <td>3.000000</td>\n",
              "      <td>299.950012</td>\n",
              "      <td>247.399994</td>\n",
              "      <td>64.800003</td>\n",
              "      <td>1004.000000</td>\n",
              "      <td>45.000000</td>\n",
              "      <td>199.990005</td>\n",
              "      <td>0.0</td>\n",
              "    </tr>\n",
              "    <tr>\n",
              "      <th>max</th>\n",
              "      <td>6.000000</td>\n",
              "      <td>4.000000</td>\n",
              "      <td>911.799988</td>\n",
              "      <td>1939.989990</td>\n",
              "      <td>1.000000</td>\n",
              "      <td>76.000000</td>\n",
              "      <td>20757.000000</td>\n",
              "      <td>12.000000</td>\n",
              "      <td>48.781933</td>\n",
              "      <td>115.263077</td>\n",
              "      <td>...</td>\n",
              "      <td>1999.989990</td>\n",
              "      <td>0.500000</td>\n",
              "      <td>5.000000</td>\n",
              "      <td>1999.989990</td>\n",
              "      <td>1939.989990</td>\n",
              "      <td>911.799988</td>\n",
              "      <td>1363.000000</td>\n",
              "      <td>76.000000</td>\n",
              "      <td>1999.989990</td>\n",
              "      <td>0.0</td>\n",
              "    </tr>\n",
              "  </tbody>\n",
              "</table>\n",
              "<p>8 rows × 25 columns</p>\n",
              "</div>\n",
              "    <div class=\"colab-df-buttons\">\n",
              "\n",
              "  <div class=\"colab-df-container\">\n",
              "    <button class=\"colab-df-convert\" onclick=\"convertToInteractive('df-66ffdd81-8023-4b6e-9fff-1a75cfcd5c2a')\"\n",
              "            title=\"Convert this dataframe to an interactive table.\"\n",
              "            style=\"display:none;\">\n",
              "\n",
              "  <svg xmlns=\"http://www.w3.org/2000/svg\" height=\"24px\" viewBox=\"0 -960 960 960\">\n",
              "    <path d=\"M120-120v-720h720v720H120Zm60-500h600v-160H180v160Zm220 220h160v-160H400v160Zm0 220h160v-160H400v160ZM180-400h160v-160H180v160Zm440 0h160v-160H620v160ZM180-180h160v-160H180v160Zm440 0h160v-160H620v160Z\"/>\n",
              "  </svg>\n",
              "    </button>\n",
              "\n",
              "  <style>\n",
              "    .colab-df-container {\n",
              "      display:flex;\n",
              "      gap: 12px;\n",
              "    }\n",
              "\n",
              "    .colab-df-convert {\n",
              "      background-color: #E8F0FE;\n",
              "      border: none;\n",
              "      border-radius: 50%;\n",
              "      cursor: pointer;\n",
              "      display: none;\n",
              "      fill: #1967D2;\n",
              "      height: 32px;\n",
              "      padding: 0 0 0 0;\n",
              "      width: 32px;\n",
              "    }\n",
              "\n",
              "    .colab-df-convert:hover {\n",
              "      background-color: #E2EBFA;\n",
              "      box-shadow: 0px 1px 2px rgba(60, 64, 67, 0.3), 0px 1px 3px 1px rgba(60, 64, 67, 0.15);\n",
              "      fill: #174EA6;\n",
              "    }\n",
              "\n",
              "    .colab-df-buttons div {\n",
              "      margin-bottom: 4px;\n",
              "    }\n",
              "\n",
              "    [theme=dark] .colab-df-convert {\n",
              "      background-color: #3B4455;\n",
              "      fill: #D2E3FC;\n",
              "    }\n",
              "\n",
              "    [theme=dark] .colab-df-convert:hover {\n",
              "      background-color: #434B5C;\n",
              "      box-shadow: 0px 1px 3px 1px rgba(0, 0, 0, 0.15);\n",
              "      filter: drop-shadow(0px 1px 2px rgba(0, 0, 0, 0.3));\n",
              "      fill: #FFFFFF;\n",
              "    }\n",
              "  </style>\n",
              "\n",
              "    <script>\n",
              "      const buttonEl =\n",
              "        document.querySelector('#df-66ffdd81-8023-4b6e-9fff-1a75cfcd5c2a button.colab-df-convert');\n",
              "      buttonEl.style.display =\n",
              "        google.colab.kernel.accessAllowed ? 'block' : 'none';\n",
              "\n",
              "      async function convertToInteractive(key) {\n",
              "        const element = document.querySelector('#df-66ffdd81-8023-4b6e-9fff-1a75cfcd5c2a');\n",
              "        const dataTable =\n",
              "          await google.colab.kernel.invokeFunction('convertToInteractive',\n",
              "                                                    [key], {});\n",
              "        if (!dataTable) return;\n",
              "\n",
              "        const docLinkHtml = 'Like what you see? Visit the ' +\n",
              "          '<a target=\"_blank\" href=https://colab.research.google.com/notebooks/data_table.ipynb>data table notebook</a>'\n",
              "          + ' to learn more about interactive tables.';\n",
              "        element.innerHTML = '';\n",
              "        dataTable['output_type'] = 'display_data';\n",
              "        await google.colab.output.renderOutput(dataTable, element);\n",
              "        const docLink = document.createElement('div');\n",
              "        docLink.innerHTML = docLinkHtml;\n",
              "        element.appendChild(docLink);\n",
              "      }\n",
              "    </script>\n",
              "  </div>\n",
              "\n",
              "\n",
              "<div id=\"df-09509cf9-356a-4b3a-a840-603ea15056f5\">\n",
              "  <button class=\"colab-df-quickchart\" onclick=\"quickchart('df-09509cf9-356a-4b3a-a840-603ea15056f5')\"\n",
              "            title=\"Suggest charts\"\n",
              "            style=\"display:none;\">\n",
              "\n",
              "<svg xmlns=\"http://www.w3.org/2000/svg\" height=\"24px\"viewBox=\"0 0 24 24\"\n",
              "     width=\"24px\">\n",
              "    <g>\n",
              "        <path d=\"M19 3H5c-1.1 0-2 .9-2 2v14c0 1.1.9 2 2 2h14c1.1 0 2-.9 2-2V5c0-1.1-.9-2-2-2zM9 17H7v-7h2v7zm4 0h-2V7h2v10zm4 0h-2v-4h2v4z\"/>\n",
              "    </g>\n",
              "</svg>\n",
              "  </button>\n",
              "\n",
              "<style>\n",
              "  .colab-df-quickchart {\n",
              "      --bg-color: #E8F0FE;\n",
              "      --fill-color: #1967D2;\n",
              "      --hover-bg-color: #E2EBFA;\n",
              "      --hover-fill-color: #174EA6;\n",
              "      --disabled-fill-color: #AAA;\n",
              "      --disabled-bg-color: #DDD;\n",
              "  }\n",
              "\n",
              "  [theme=dark] .colab-df-quickchart {\n",
              "      --bg-color: #3B4455;\n",
              "      --fill-color: #D2E3FC;\n",
              "      --hover-bg-color: #434B5C;\n",
              "      --hover-fill-color: #FFFFFF;\n",
              "      --disabled-bg-color: #3B4455;\n",
              "      --disabled-fill-color: #666;\n",
              "  }\n",
              "\n",
              "  .colab-df-quickchart {\n",
              "    background-color: var(--bg-color);\n",
              "    border: none;\n",
              "    border-radius: 50%;\n",
              "    cursor: pointer;\n",
              "    display: none;\n",
              "    fill: var(--fill-color);\n",
              "    height: 32px;\n",
              "    padding: 0;\n",
              "    width: 32px;\n",
              "  }\n",
              "\n",
              "  .colab-df-quickchart:hover {\n",
              "    background-color: var(--hover-bg-color);\n",
              "    box-shadow: 0 1px 2px rgba(60, 64, 67, 0.3), 0 1px 3px 1px rgba(60, 64, 67, 0.15);\n",
              "    fill: var(--button-hover-fill-color);\n",
              "  }\n",
              "\n",
              "  .colab-df-quickchart-complete:disabled,\n",
              "  .colab-df-quickchart-complete:disabled:hover {\n",
              "    background-color: var(--disabled-bg-color);\n",
              "    fill: var(--disabled-fill-color);\n",
              "    box-shadow: none;\n",
              "  }\n",
              "\n",
              "  .colab-df-spinner {\n",
              "    border: 2px solid var(--fill-color);\n",
              "    border-color: transparent;\n",
              "    border-bottom-color: var(--fill-color);\n",
              "    animation:\n",
              "      spin 1s steps(1) infinite;\n",
              "  }\n",
              "\n",
              "  @keyframes spin {\n",
              "    0% {\n",
              "      border-color: transparent;\n",
              "      border-bottom-color: var(--fill-color);\n",
              "      border-left-color: var(--fill-color);\n",
              "    }\n",
              "    20% {\n",
              "      border-color: transparent;\n",
              "      border-left-color: var(--fill-color);\n",
              "      border-top-color: var(--fill-color);\n",
              "    }\n",
              "    30% {\n",
              "      border-color: transparent;\n",
              "      border-left-color: var(--fill-color);\n",
              "      border-top-color: var(--fill-color);\n",
              "      border-right-color: var(--fill-color);\n",
              "    }\n",
              "    40% {\n",
              "      border-color: transparent;\n",
              "      border-right-color: var(--fill-color);\n",
              "      border-top-color: var(--fill-color);\n",
              "    }\n",
              "    60% {\n",
              "      border-color: transparent;\n",
              "      border-right-color: var(--fill-color);\n",
              "    }\n",
              "    80% {\n",
              "      border-color: transparent;\n",
              "      border-right-color: var(--fill-color);\n",
              "      border-bottom-color: var(--fill-color);\n",
              "    }\n",
              "    90% {\n",
              "      border-color: transparent;\n",
              "      border-bottom-color: var(--fill-color);\n",
              "    }\n",
              "  }\n",
              "</style>\n",
              "\n",
              "  <script>\n",
              "    async function quickchart(key) {\n",
              "      const quickchartButtonEl =\n",
              "        document.querySelector('#' + key + ' button');\n",
              "      quickchartButtonEl.disabled = true;  // To prevent multiple clicks.\n",
              "      quickchartButtonEl.classList.add('colab-df-spinner');\n",
              "      try {\n",
              "        const charts = await google.colab.kernel.invokeFunction(\n",
              "            'suggestCharts', [key], {});\n",
              "      } catch (error) {\n",
              "        console.error('Error during call to suggestCharts:', error);\n",
              "      }\n",
              "      quickchartButtonEl.classList.remove('colab-df-spinner');\n",
              "      quickchartButtonEl.classList.add('colab-df-quickchart-complete');\n",
              "    }\n",
              "    (() => {\n",
              "      let quickchartButtonEl =\n",
              "        document.querySelector('#df-09509cf9-356a-4b3a-a840-603ea15056f5 button');\n",
              "      quickchartButtonEl.style.display =\n",
              "        google.colab.kernel.accessAllowed ? 'block' : 'none';\n",
              "    })();\n",
              "  </script>\n",
              "</div>\n",
              "\n",
              "    </div>\n",
              "  </div>\n"
            ],
            "application/vnd.google.colaboratory.intrinsic+json": {
              "type": "dataframe"
            }
          },
          "metadata": {},
          "execution_count": 10
        }
      ],
      "source": [
        "df.describe()"
      ]
    },
    {
      "cell_type": "markdown",
      "metadata": {
        "id": "UE9-yhbA42yI"
      },
      "source": [
        "The dataset comprises 180,519 entries detailing various aspects of supply chain operations. Key metrics include \"Days for Shipping (Real)\" and \"Days for Shipment (Scheduled),\" with mean values of 3.50 and 2.93 days, respectively, indicating a slight delay in actual shipments compared to scheduled times. \"Benefit per Order\" and \"Sales per Customer\" show significant variation, with high standard deviations, reflecting diverse order sizes and customer spending habits. The \"Late Delivery Risk\" variable, with a mean of 0.55, suggests that over half of the orders experienced delays.\n",
        "\n",
        "The data also includes geographic and product-specific variables such as \"Latitude,\" \"Longitude,\" \"Product Price,\" and \"Order Item Quantity.\" Notably, the \"Order Item Profit Ratio\" has a wide range from -2.75 to 0.50, implying the presence of both profitable and loss-making orders. The dataset's broad scope, covering customer demographics, product categories, and financial metrics, provides a comprehensive foundation for analyzing supply chain efficiency and the impact of AI-driven forecasting and decision support systems. The variability in key metrics underscores the potential for AI to optimize operations by addressing delays and enhancing profit margins."
      ]
    },
    {
      "cell_type": "markdown",
      "metadata": {
        "id": "gGPOyKl65T19"
      },
      "source": [
        "## Distribution of Delivery Status: Counts the occurrences of each unique value in the 'Delivery Status' column, providing insight into the frequency of different delivery outcomes.\n"
      ]
    },
    {
      "cell_type": "code",
      "execution_count": null,
      "metadata": {
        "id": "rhE5BCmBQNMb",
        "colab": {
          "base_uri": "https://localhost:8080/",
          "height": 241
        },
        "outputId": "a698b825-ba0b-410f-8eba-07151d361851"
      },
      "outputs": [
        {
          "output_type": "execute_result",
          "data": {
            "text/plain": [
              "Delivery Status\n",
              "Late delivery        98977\n",
              "Advance shipping     41592\n",
              "Shipping on time     32196\n",
              "Shipping canceled     7754\n",
              "Name: count, dtype: int64"
            ],
            "text/html": [
              "<div>\n",
              "<style scoped>\n",
              "    .dataframe tbody tr th:only-of-type {\n",
              "        vertical-align: middle;\n",
              "    }\n",
              "\n",
              "    .dataframe tbody tr th {\n",
              "        vertical-align: top;\n",
              "    }\n",
              "\n",
              "    .dataframe thead th {\n",
              "        text-align: right;\n",
              "    }\n",
              "</style>\n",
              "<table border=\"1\" class=\"dataframe\">\n",
              "  <thead>\n",
              "    <tr style=\"text-align: right;\">\n",
              "      <th></th>\n",
              "      <th>count</th>\n",
              "    </tr>\n",
              "    <tr>\n",
              "      <th>Delivery Status</th>\n",
              "      <th></th>\n",
              "    </tr>\n",
              "  </thead>\n",
              "  <tbody>\n",
              "    <tr>\n",
              "      <th>Late delivery</th>\n",
              "      <td>98977</td>\n",
              "    </tr>\n",
              "    <tr>\n",
              "      <th>Advance shipping</th>\n",
              "      <td>41592</td>\n",
              "    </tr>\n",
              "    <tr>\n",
              "      <th>Shipping on time</th>\n",
              "      <td>32196</td>\n",
              "    </tr>\n",
              "    <tr>\n",
              "      <th>Shipping canceled</th>\n",
              "      <td>7754</td>\n",
              "    </tr>\n",
              "  </tbody>\n",
              "</table>\n",
              "</div><br><label><b>dtype:</b> int64</label>"
            ]
          },
          "metadata": {},
          "execution_count": 11
        }
      ],
      "source": [
        "df['Delivery Status'].value_counts()"
      ]
    },
    {
      "cell_type": "markdown",
      "metadata": {
        "id": "55IVdQ1V5h9c"
      },
      "source": [
        "The dataset shows 98,977 instances of late delivery, 41,592 of advance shipping, 32,196 of on-time shipping, and 7,754 cases where shipping was canceled. This distribution provides a quick overview of delivery performance."
      ]
    },
    {
      "cell_type": "markdown",
      "metadata": {
        "id": "h7n-g6v2QNMc"
      },
      "source": [
        "## Visualizations"
      ]
    },
    {
      "cell_type": "code",
      "execution_count": null,
      "metadata": {
        "id": "Rt_76RuRecAC",
        "colab": {
          "base_uri": "https://localhost:8080/",
          "height": 564
        },
        "outputId": "83cece04-cc29-4c36-a7e2-9a069b880648"
      },
      "outputs": [
        {
          "output_type": "display_data",
          "data": {
            "text/plain": [
              "<Figure size 1000x600 with 1 Axes>"
            ],
            "image/png": "[encoded data removed]"
          },
          "metadata": {}
        }
      ],
      "source": [
        "#Histogram of Sales Distribution: Highlighting the Concentration and Skewness in Sales Amounts\n",
        "plt.figure(figsize=(10, 6))\n",
        "sns.histplot(df['Sales'], bins=50, kde=True)\n",
        "plt.title('Distribution of Sales')\n",
        "plt.show()"
      ]
    },
    {
      "cell_type": "markdown",
      "metadata": {
        "id": "E0CJCVuY5rie"
      },
      "source": [
        "This graph shows the distribution of sales, with most sales concentrated in the lower range, primarily between 0 and 500 units. The distribution suggests that higher sales values are rare, as indicated by the sharp decline in frequency as sales figures increase."
      ]
    },
    {
      "cell_type": "code",
      "execution_count": null,
      "metadata": {
        "id": "-aex1LIZevs5",
        "colab": {
          "base_uri": "https://localhost:8080/",
          "height": 564
        },
        "outputId": "21d0a468-4efd-43c5-d5a7-69a2e6dce93d"
      },
      "outputs": [
        {
          "output_type": "display_data",
          "data": {
            "text/plain": [
              "<Figure size 1000x600 with 1 Axes>"
            ],
            "image/png": "[encoded data removed]"
          },
          "metadata": {}
        }
      ],
      "source": [
        "#Violin Plot of Sales vs. Late Delivery Risk: Visualizing the Distribution and Density of Sales Across Delivery Risk Levels\n",
        "plt.figure(figsize=(10, 6))\n",
        "sns.violinplot(x='Late_delivery_risk', y='Sales', data=df)\n",
        "plt.title('Sales vs Late Delivery Risk (Violin Plot)')\n",
        "plt.show()"
      ]
    },
    {
      "cell_type": "markdown",
      "metadata": {
        "id": "_4bEj4f359YI"
      },
      "source": [
        "This violin plot compares the distribution of sales between two categories of late delivery risk (0 and 1). The plot indicates that the sales distributions for both categories are similar, with most sales concentrated at lower values and long tails extending to higher sales figures."
      ]
    },
    {
      "cell_type": "code",
      "execution_count": null,
      "metadata": {
        "id": "UX61nXuJbE2e",
        "colab": {
          "base_uri": "https://localhost:8080/",
          "height": 602
        },
        "outputId": "305d3f51-0502-4cd5-bb7e-875a5d307de9"
      },
      "outputs": [
        {
          "output_type": "display_data",
          "data": {
            "text/plain": [
              "<Figure size 1000x600 with 0 Axes>"
            ]
          },
          "metadata": {}
        },
        {
          "output_type": "display_data",
          "data": {
            "text/plain": [
              "<Figure size 640x480 with 1 Axes>"
            ],
            "image/png": "[encoded data removed]"
          },
          "metadata": {}
        }
      ],
      "source": [
        "#Stacked Bar Plot: Comparing Delivery Status with Late Delivery Risk Across Orders\n",
        "plt.figure(figsize=(10, 6))\n",
        "df.groupby(['Delivery Status', 'Late_delivery_risk']).size().unstack().plot(kind='bar', stacked=True)\n",
        "plt.title('Stacked Bar Plot: Delivery Status vs. Late Delivery Risk')\n",
        "plt.xlabel('Delivery Status')\n",
        "plt.ylabel('Number of Orders')\n",
        "plt.show()\n"
      ]
    },
    {
      "cell_type": "markdown",
      "metadata": {
        "id": "P6sTKtrW6Stx"
      },
      "source": [
        "Data presented in the Stacked Bar plot of delivery state revealed that the highest proportion of delivery was done late followed by advance deliveries and on-time deliveries. This distribution underlines the problem arising from non-adherence to the intended delivery schedules and the importance of the planning and coordination that must go into the maintenance of these schedules."
      ]
    },
    {
      "cell_type": "code",
      "execution_count": null,
      "metadata": {
        "colab": {
          "base_uri": "https://localhost:8080/",
          "height": 564
        },
        "id": "rlwWCdfegSaM",
        "outputId": "d4c87efc-5c4b-412e-d62b-8f815e8d7b78"
      },
      "outputs": [
        {
          "output_type": "display_data",
          "data": {
            "text/plain": [
              "<Figure size 1000x600 with 1 Axes>"
            ],
            "image/png": "[encoded data removed]"
          },
          "metadata": {}
        }
      ],
      "source": [
        "#Scatter Plot of Sales vs. Days for Shipping : Analyzing the Relationship Between Shipping Time and Sales with Late Delivery Risk\n",
        "plt.figure(figsize=(10, 6))\n",
        "sns.scatterplot(x='Days for shipping (real)', y='Sales', hue='Late_delivery_risk', data=df)\n",
        "plt.title('Sales vs Days for Shipping (Real)')\n",
        "plt.show()"
      ]
    },
    {
      "cell_type": "markdown",
      "metadata": {
        "id": "epaE_LOv6ooo"
      },
      "source": [
        "In the scatter plot of sales, and days for shipping, it was observed that there was a negative or inverse relationship though not strong enough, between sales and the days for shipping. Such knowledge supports the necessity of well-organized distribution chasing loyal customers and sales growth."
      ]
    },
    {
      "cell_type": "code",
      "execution_count": null,
      "metadata": {
        "colab": {
          "base_uri": "https://localhost:8080/",
          "height": 601
        },
        "id": "WQXXFesqdkq6",
        "outputId": "d12dfaab-ca5b-47ce-c717-e48c01c26c1d"
      },
      "outputs": [
        {
          "output_type": "display_data",
          "data": {
            "text/plain": [
              "<Figure size 1000x600 with 1 Axes>"
            ],
            "image/png": "[encoded data removed]"
          },
          "metadata": {}
        }
      ],
      "source": [
        "#Line Plot: Sales Trends Over Time by Market\n",
        "# Convert the order date to datetime format\n",
        "df['order date (DateOrders)'] = pd.to_datetime(df['order date (DateOrders)'])\n",
        "\n",
        "# Group by period (month) and market, and sum only the numerical columns\n",
        "sales_trend = df.groupby([df['order date (DateOrders)'].dt.to_period('M'), 'Market']).sum(numeric_only=True).reset_index()\n",
        "\n",
        "# Ensure the period is in a proper datetime format for plotting\n",
        "sales_trend['order date (DateOrders)'] = sales_trend['order date (DateOrders)'].dt.to_timestamp()\n",
        "\n",
        "plt.figure(figsize=(10, 6))\n",
        "sns.lineplot(x='order date (DateOrders)', y='Sales', hue='Market', data=sales_trend)\n",
        "plt.title('Line Plot: Sales Trends Over Time by Market')\n",
        "plt.xlabel('Order Date')\n",
        "plt.ylabel('Total Sales')\n",
        "plt.xticks(rotation=45)\n",
        "plt.show()\n"
      ]
    },
    {
      "cell_type": "markdown",
      "metadata": {
        "id": "F08qC0NA8Ger"
      },
      "source": [
        "This line plot displays sales trends over time across different markets, revealing fluctuations in total sales within each region. Notably, markets like LATAM and Europe show significant volatility, while Pacific Asia and USCA exhibit more stable yet varied sales patterns over the observed period."
      ]
    },
    {
      "cell_type": "code",
      "execution_count": null,
      "metadata": {
        "colab": {
          "base_uri": "https://localhost:8080/",
          "height": 675
        },
        "id": "2Qjrhk2EbDvn",
        "outputId": "5c94ca79-7ef3-4ca6-eb85-62c4d0c4a703"
      },
      "outputs": [
        {
          "output_type": "display_data",
          "data": {
            "text/plain": [
              "<Figure size 800x800 with 1 Axes>"
            ],
            "image/png": "[encoded data removed]"
          },
          "metadata": {}
        }
      ],
      "source": [
        "#Pie Chart: Proportion of Orders by Shipping Mode\n",
        "shipping_mode_counts = df['Shipping Mode'].value_counts()\n",
        "\n",
        "plt.figure(figsize=(8, 8))\n",
        "plt.pie(shipping_mode_counts, labels=shipping_mode_counts.index, autopct='%1.1f%%', startangle=140)\n",
        "plt.title('Pie Chart: Proportion of Orders by Shipping Mode')\n",
        "plt.show()\n"
      ]
    },
    {
      "cell_type": "markdown",
      "metadata": {
        "id": "sCnOz1Zp8hiE"
      },
      "source": [
        "This pie chart illustrates the proportion of orders by shipping mode, showing that the majority of orders (59.7%) are shipped via Standard Class, followed by Second Class at 19.5%. First Class and Same Day shipping make up smaller portions, at 15.4% and 5.4%, respectively."
      ]
    },
    {
      "cell_type": "markdown",
      "metadata": {
        "id": "4_9c6j1SQNMc"
      },
      "source": [
        "##Data Pre-processing"
      ]
    },
    {
      "cell_type": "markdown",
      "metadata": {
        "id": "BDX5kseDmTpn"
      },
      "source": [
        "###Encoding Categorical Variables"
      ]
    },
    {
      "cell_type": "code",
      "execution_count": null,
      "metadata": {
        "id": "beiLEgwPln3e"
      },
      "outputs": [],
      "source": [
        "# List of categorical columns to be encoded\n",
        "categorical_columns = [\n",
        "    'Delivery Status', 'Category Name', 'Customer City', 'Customer Country',\n",
        "    'Customer Segment', 'Customer State', 'Department Name', 'Market',\n",
        "    'Order City', 'Order Country', 'Order Region', 'Order State',\n",
        "    'Order Status', 'Product Name', 'Shipping Mode'\n",
        "]\n",
        "\n",
        "# Initialize the LabelEncoder\n",
        "label_encoder = LabelEncoder()\n",
        "\n",
        "# Encode each categorical column directly in the original dataframe\n",
        "for column in categorical_columns:\n",
        "    df[column] = label_encoder.fit_transform(df[column])"
      ]
    },
    {
      "cell_type": "markdown",
      "metadata": {
        "id": "TdA3-nfZmaRW"
      },
      "source": [
        "###Handling Missing Values"
      ]
    },
    {
      "cell_type": "code",
      "execution_count": null,
      "metadata": {
        "id": "L7GCRnYVlnjQ"
      },
      "outputs": [],
      "source": [
        "# Fill missing values with a specific value or strategy (mean)\n",
        "df.fillna(value={'Order Item Discount': 0, 'Order Item Discount Rate': df['Order Item Discount Rate'].mean()}, inplace=True)"
      ]
    },
    {
      "cell_type": "markdown",
      "metadata": {
        "id": "GAynbz8Imgam"
      },
      "source": [
        "###Normalization/Standardization"
      ]
    },
    {
      "cell_type": "code",
      "execution_count": null,
      "metadata": {
        "id": "V9d8o9BGlnYb"
      },
      "outputs": [],
      "source": [
        "# StandardScaler\n",
        "scaler = StandardScaler()\n",
        "\n",
        "# List of colums to be scalled\n",
        "numerical_columns = [\n",
        "    'Sales', 'Order Item Discount', 'Order Item Discount Rate',\n",
        "    'Order Item Product Price', 'Order Item Profit Ratio', 'Order Item Quantity',\n",
        "    'Order Item Total', 'Order Profit Per Order', 'Product Price'\n",
        "]\n",
        "\n",
        "df[numerical_columns] = scaler.fit_transform(df[numerical_columns])\n"
      ]
    },
    {
      "cell_type": "markdown",
      "metadata": {
        "id": "KyLgsKjoms1y"
      },
      "source": [
        "###Feature Extraction from Dates"
      ]
    },
    {
      "cell_type": "code",
      "execution_count": null,
      "metadata": {
        "id": "iMw0OCVElnM5"
      },
      "outputs": [],
      "source": [
        "# Extracting day, month, year from 'order date (DateOrders)' and 'shipping date (DateOrders)'\n",
        "df['order_day'] = df['order date (DateOrders)'].dt.day\n",
        "df['order_month'] = df['order date (DateOrders)'].dt.month\n",
        "df['order_year'] = df['order date (DateOrders)'].dt.year\n",
        "\n",
        "df['shipping date (DateOrders)'] = pd.to_datetime(df['shipping date (DateOrders)'])\n",
        "\n",
        "# Now extract the day, month, and year\n",
        "df['shipping_day'] = df['shipping date (DateOrders)'].dt.day\n",
        "df['shipping_month'] = df['shipping date (DateOrders)'].dt.month\n",
        "df['shipping_year'] = df['shipping date (DateOrders)'].dt.year\n",
        "\n"
      ]
    },
    {
      "cell_type": "code",
      "execution_count": null,
      "metadata": {
        "colab": {
          "base_uri": "https://localhost:8080/"
        },
        "id": "EbRGeLtmtmRx",
        "outputId": "f4ff75e2-363d-4fd0-b24e-552b2e0c0657"
      },
      "outputs": [
        {
          "output_type": "stream",
          "name": "stdout",
          "text": [
            "<class 'pandas.core.frame.DataFrame'>\n",
            "RangeIndex: 180519 entries, 0 to 180518\n",
            "Data columns (total 49 columns):\n",
            " #   Column                         Non-Null Count   Dtype         \n",
            "---  ------                         --------------   -----         \n",
            " 0   Type                           180519 non-null  object        \n",
            " 1   Days for shipping (real)       180519 non-null  int64         \n",
            " 2   Days for shipment (scheduled)  180519 non-null  int64         \n",
            " 3   Benefit per order              180519 non-null  float64       \n",
            " 4   Sales per customer             180519 non-null  float64       \n",
            " 5   Delivery Status                180519 non-null  int64         \n",
            " 6   Late_delivery_risk             180519 non-null  int64         \n",
            " 7   Category Id                    180519 non-null  int64         \n",
            " 8   Category Name                  180519 non-null  int64         \n",
            " 9   Customer City                  180519 non-null  int64         \n",
            " 10  Customer Country               180519 non-null  int64         \n",
            " 11  Customer Id                    180519 non-null  int64         \n",
            " 12  Customer Segment               180519 non-null  int64         \n",
            " 13  Customer State                 180519 non-null  int64         \n",
            " 14  Department Id                  180519 non-null  int64         \n",
            " 15  Department Name                180519 non-null  int64         \n",
            " 16  Latitude                       180519 non-null  float64       \n",
            " 17  Longitude                      180519 non-null  float64       \n",
            " 18  Market                         180519 non-null  int64         \n",
            " 19  Order City                     180519 non-null  int64         \n",
            " 20  Order Country                  180519 non-null  int64         \n",
            " 21  order date (DateOrders)        180519 non-null  datetime64[ns]\n",
            " 22  Order Id                       180519 non-null  int64         \n",
            " 23  Order Item Cardprod Id         180519 non-null  int64         \n",
            " 24  Order Item Discount            180519 non-null  float64       \n",
            " 25  Order Item Discount Rate       180519 non-null  float64       \n",
            " 26  Order Item Id                  180519 non-null  int64         \n",
            " 27  Order Item Product Price       180519 non-null  float64       \n",
            " 28  Order Item Profit Ratio        180519 non-null  float64       \n",
            " 29  Order Item Quantity            180519 non-null  float64       \n",
            " 30  Sales                          180519 non-null  float64       \n",
            " 31  Order Item Total               180519 non-null  float64       \n",
            " 32  Order Profit Per Order         180519 non-null  float64       \n",
            " 33  Order Region                   180519 non-null  int64         \n",
            " 34  Order State                    180519 non-null  int64         \n",
            " 35  Order Status                   180519 non-null  int64         \n",
            " 36  Product Card Id                180519 non-null  int64         \n",
            " 37  Product Category Id            180519 non-null  int64         \n",
            " 38  Product Name                   180519 non-null  int64         \n",
            " 39  Product Price                  180519 non-null  float64       \n",
            " 40  Product Status                 180519 non-null  int64         \n",
            " 41  shipping date (DateOrders)     180519 non-null  datetime64[ns]\n",
            " 42  Shipping Mode                  180519 non-null  int64         \n",
            " 43  order_day                      180519 non-null  int32         \n",
            " 44  order_month                    180519 non-null  int32         \n",
            " 45  order_year                     180519 non-null  int32         \n",
            " 46  shipping_day                   180519 non-null  int32         \n",
            " 47  shipping_month                 180519 non-null  int32         \n",
            " 48  shipping_year                  180519 non-null  int32         \n",
            "dtypes: datetime64[ns](2), float64(13), int32(6), int64(27), object(1)\n",
            "memory usage: 63.4+ MB\n",
            "None\n"
          ]
        }
      ],
      "source": [
        "# Display the summary information of the DataFrame\n",
        "print(df.info())"
      ]
    },
    {
      "cell_type": "code",
      "execution_count": null,
      "metadata": {
        "colab": {
          "base_uri": "https://localhost:8080/",
          "height": 864
        },
        "id": "X_IbB0SlQNMc",
        "outputId": "5cd5186a-d7ad-4867-e6f7-20cb7a671503"
      },
      "outputs": [
        {
          "output_type": "execute_result",
          "data": {
            "text/plain": [
              "        Type  Days for shipping (real)  Days for shipment (scheduled)  \\\n",
              "0      DEBIT                         3                              4   \n",
              "1   TRANSFER                         5                              4   \n",
              "2       CASH                         4                              4   \n",
              "3      DEBIT                         3                              4   \n",
              "4    PAYMENT                         2                              4   \n",
              "5   TRANSFER                         6                              4   \n",
              "6      DEBIT                         2                              1   \n",
              "7   TRANSFER                         2                              1   \n",
              "8       CASH                         3                              2   \n",
              "9       CASH                         2                              1   \n",
              "10  TRANSFER                         6                              2   \n",
              "11  TRANSFER                         5                              2   \n",
              "12  TRANSFER                         4                              2   \n",
              "13     DEBIT                         2                              1   \n",
              "14  TRANSFER                         2                              1   \n",
              "\n",
              "    Benefit per order  Sales per customer  Delivery Status  \\\n",
              "0           91.250000          314.640015                0   \n",
              "1         -249.089996          311.359985                1   \n",
              "2         -247.779999          309.720001                3   \n",
              "3           22.860001          304.809998                0   \n",
              "4          134.210007          298.250000                0   \n",
              "5           18.580000          294.980011                2   \n",
              "6           95.180000          288.420013                1   \n",
              "7           68.430000          285.140015                1   \n",
              "8          133.720001          278.589996                1   \n",
              "9          132.149994          275.309998                1   \n",
              "10         130.580002          272.029999                2   \n",
              "11          45.689999          268.760010                1   \n",
              "12          21.760000          262.200012                1   \n",
              "13          24.580000          245.809998                1   \n",
              "14          16.389999          327.750000                1   \n",
              "\n",
              "    Late_delivery_risk  Category Id  Category Name  Customer City  ...  \\\n",
              "0                    0           73             40             66  ...   \n",
              "1                    1           73             40             66  ...   \n",
              "2                    0           73             40            452  ...   \n",
              "3                    0           73             40            285  ...   \n",
              "4                    0           73             40             66  ...   \n",
              "5                    0           73             40            505  ...   \n",
              "6                    1           73             40             66  ...   \n",
              "7                    1           73             40            318  ...   \n",
              "8                    1           73             40             66  ...   \n",
              "9                    1           73             40            457  ...   \n",
              "10                   0           73             40             66  ...   \n",
              "11                   1           73             40            175  ...   \n",
              "12                   1           73             40            445  ...   \n",
              "13                   1           73             40             66  ...   \n",
              "14                   1           73             40            386  ...   \n",
              "\n",
              "    Product Price  Product Status  shipping date (DateOrders)  Shipping Mode  \\\n",
              "0        1.334822               0         2018-02-03 22:56:00              3   \n",
              "1        1.334822               0         2018-01-18 12:27:00              3   \n",
              "2        1.334822               0         2018-01-17 12:06:00              3   \n",
              "3        1.334822               0         2018-01-16 11:45:00              3   \n",
              "4        1.334822               0         2018-01-15 11:24:00              3   \n",
              "5        1.334822               0         2018-01-19 11:03:00              3   \n",
              "6        1.334822               0         2018-01-15 10:42:00              0   \n",
              "7        1.334822               0         2018-01-15 10:21:00              0   \n",
              "8        1.334822               0         2018-01-16 10:00:00              2   \n",
              "9        1.334822               0         2018-01-15 09:39:00              0   \n",
              "10       1.334822               0         2018-01-19 09:18:00              2   \n",
              "11       1.334822               0         2018-01-18 08:57:00              2   \n",
              "12       1.334822               0         2018-01-17 08:36:00              2   \n",
              "13       1.334822               0         2018-01-15 08:15:00              0   \n",
              "14       1.334822               0         2018-01-15 07:54:00              0   \n",
              "\n",
              "    order_day  order_month  order_year  shipping_day  shipping_month  \\\n",
              "0          31            1        2018             3               2   \n",
              "1          13            1        2018            18               1   \n",
              "2          13            1        2018            17               1   \n",
              "3          13            1        2018            16               1   \n",
              "4          13            1        2018            15               1   \n",
              "5          13            1        2018            19               1   \n",
              "6          13            1        2018            15               1   \n",
              "7          13            1        2018            15               1   \n",
              "8          13            1        2018            16               1   \n",
              "9          13            1        2018            15               1   \n",
              "10         13            1        2018            19               1   \n",
              "11         13            1        2018            18               1   \n",
              "12         13            1        2018            17               1   \n",
              "13         13            1        2018            15               1   \n",
              "14         13            1        2018            15               1   \n",
              "\n",
              "    shipping_year  \n",
              "0            2018  \n",
              "1            2018  \n",
              "2            2018  \n",
              "3            2018  \n",
              "4            2018  \n",
              "5            2018  \n",
              "6            2018  \n",
              "7            2018  \n",
              "8            2018  \n",
              "9            2018  \n",
              "10           2018  \n",
              "11           2018  \n",
              "12           2018  \n",
              "13           2018  \n",
              "14           2018  \n",
              "\n",
              "[15 rows x 49 columns]"
            ],
            "text/html": [
              "\n",
              "  <div id=\"df-ece5cbae-bc76-4d48-87f7-ae3838c1c769\" class=\"colab-df-container\">\n",
              "    <div>\n",
              "<style scoped>\n",
              "    .dataframe tbody tr th:only-of-type {\n",
              "        vertical-align: middle;\n",
              "    }\n",
              "\n",
              "    .dataframe tbody tr th {\n",
              "        vertical-align: top;\n",
              "    }\n",
              "\n",
              "    .dataframe thead th {\n",
              "        text-align: right;\n",
              "    }\n",
              "</style>\n",
              "<table border=\"1\" class=\"dataframe\">\n",
              "  <thead>\n",
              "    <tr style=\"text-align: right;\">\n",
              "      <th></th>\n",
              "      <th>Type</th>\n",
              "      <th>Days for shipping (real)</th>\n",
              "      <th>Days for shipment (scheduled)</th>\n",
              "      <th>Benefit per order</th>\n",
              "      <th>Sales per customer</th>\n",
              "      <th>Delivery Status</th>\n",
              "      <th>Late_delivery_risk</th>\n",
              "      <th>Category Id</th>\n",
              "      <th>Category Name</th>\n",
              "      <th>Customer City</th>\n",
              "      <th>...</th>\n",
              "      <th>Product Price</th>\n",
              "      <th>Product Status</th>\n",
              "      <th>shipping date (DateOrders)</th>\n",
              "      <th>Shipping Mode</th>\n",
              "      <th>order_day</th>\n",
              "      <th>order_month</th>\n",
              "      <th>order_year</th>\n",
              "      <th>shipping_day</th>\n",
              "      <th>shipping_month</th>\n",
              "      <th>shipping_year</th>\n",
              "    </tr>\n",
              "  </thead>\n",
              "  <tbody>\n",
              "    <tr>\n",
              "      <th>0</th>\n",
              "      <td>DEBIT</td>\n",
              "      <td>3</td>\n",
              "      <td>4</td>\n",
              "      <td>91.250000</td>\n",
              "      <td>314.640015</td>\n",
              "      <td>0</td>\n",
              "      <td>0</td>\n",
              "      <td>73</td>\n",
              "      <td>40</td>\n",
              "      <td>66</td>\n",
              "      <td>...</td>\n",
              "      <td>1.334822</td>\n",
              "      <td>0</td>\n",
              "      <td>2018-02-03 22:56:00</td>\n",
              "      <td>3</td>\n",
              "      <td>31</td>\n",
              "      <td>1</td>\n",
              "      <td>2018</td>\n",
              "      <td>3</td>\n",
              "      <td>2</td>\n",
              "      <td>2018</td>\n",
              "    </tr>\n",
              "    <tr>\n",
              "      <th>1</th>\n",
              "      <td>TRANSFER</td>\n",
              "      <td>5</td>\n",
              "      <td>4</td>\n",
              "      <td>-249.089996</td>\n",
              "      <td>311.359985</td>\n",
              "      <td>1</td>\n",
              "      <td>1</td>\n",
              "      <td>73</td>\n",
              "      <td>40</td>\n",
              "      <td>66</td>\n",
              "      <td>...</td>\n",
              "      <td>1.334822</td>\n",
              "      <td>0</td>\n",
              "      <td>2018-01-18 12:27:00</td>\n",
              "      <td>3</td>\n",
              "      <td>13</td>\n",
              "      <td>1</td>\n",
              "      <td>2018</td>\n",
              "      <td>18</td>\n",
              "      <td>1</td>\n",
              "      <td>2018</td>\n",
              "    </tr>\n",
              "    <tr>\n",
              "      <th>2</th>\n",
              "      <td>CASH</td>\n",
              "      <td>4</td>\n",
              "      <td>4</td>\n",
              "      <td>-247.779999</td>\n",
              "      <td>309.720001</td>\n",
              "      <td>3</td>\n",
              "      <td>0</td>\n",
              "      <td>73</td>\n",
              "      <td>40</td>\n",
              "      <td>452</td>\n",
              "      <td>...</td>\n",
              "      <td>1.334822</td>\n",
              "      <td>0</td>\n",
              "      <td>2018-01-17 12:06:00</td>\n",
              "      <td>3</td>\n",
              "      <td>13</td>\n",
              "      <td>1</td>\n",
              "      <td>2018</td>\n",
              "      <td>17</td>\n",
              "      <td>1</td>\n",
              "      <td>2018</td>\n",
              "    </tr>\n",
              "    <tr>\n",
              "      <th>3</th>\n",
              "      <td>DEBIT</td>\n",
              "      <td>3</td>\n",
              "      <td>4</td>\n",
              "      <td>22.860001</td>\n",
              "      <td>304.809998</td>\n",
              "      <td>0</td>\n",
              "      <td>0</td>\n",
              "      <td>73</td>\n",
              "      <td>40</td>\n",
              "      <td>285</td>\n",
              "      <td>...</td>\n",
              "      <td>1.334822</td>\n",
              "      <td>0</td>\n",
              "      <td>2018-01-16 11:45:00</td>\n",
              "      <td>3</td>\n",
              "      <td>13</td>\n",
              "      <td>1</td>\n",
              "      <td>2018</td>\n",
              "      <td>16</td>\n",
              "      <td>1</td>\n",
              "      <td>2018</td>\n",
              "    </tr>\n",
              "    <tr>\n",
              "      <th>4</th>\n",
              "      <td>PAYMENT</td>\n",
              "      <td>2</td>\n",
              "      <td>4</td>\n",
              "      <td>134.210007</td>\n",
              "      <td>298.250000</td>\n",
              "      <td>0</td>\n",
              "      <td>0</td>\n",
              "      <td>73</td>\n",
              "      <td>40</td>\n",
              "      <td>66</td>\n",
              "      <td>...</td>\n",
              "      <td>1.334822</td>\n",
              "      <td>0</td>\n",
              "      <td>2018-01-15 11:24:00</td>\n",
              "      <td>3</td>\n",
              "      <td>13</td>\n",
              "      <td>1</td>\n",
              "      <td>2018</td>\n",
              "      <td>15</td>\n",
              "      <td>1</td>\n",
              "      <td>2018</td>\n",
              "    </tr>\n",
              "    <tr>\n",
              "      <th>5</th>\n",
              "      <td>TRANSFER</td>\n",
              "      <td>6</td>\n",
              "      <td>4</td>\n",
              "      <td>18.580000</td>\n",
              "      <td>294.980011</td>\n",
              "      <td>2</td>\n",
              "      <td>0</td>\n",
              "      <td>73</td>\n",
              "      <td>40</td>\n",
              "      <td>505</td>\n",
              "      <td>...</td>\n",
              "      <td>1.334822</td>\n",
              "      <td>0</td>\n",
              "      <td>2018-01-19 11:03:00</td>\n",
              "      <td>3</td>\n",
              "      <td>13</td>\n",
              "      <td>1</td>\n",
              "      <td>2018</td>\n",
              "      <td>19</td>\n",
              "      <td>1</td>\n",
              "      <td>2018</td>\n",
              "    </tr>\n",
              "    <tr>\n",
              "      <th>6</th>\n",
              "      <td>DEBIT</td>\n",
              "      <td>2</td>\n",
              "      <td>1</td>\n",
              "      <td>95.180000</td>\n",
              "      <td>288.420013</td>\n",
              "      <td>1</td>\n",
              "      <td>1</td>\n",
              "      <td>73</td>\n",
              "      <td>40</td>\n",
              "      <td>66</td>\n",
              "      <td>...</td>\n",
              "      <td>1.334822</td>\n",
              "      <td>0</td>\n",
              "      <td>2018-01-15 10:42:00</td>\n",
              "      <td>0</td>\n",
              "      <td>13</td>\n",
              "      <td>1</td>\n",
              "      <td>2018</td>\n",
              "      <td>15</td>\n",
              "      <td>1</td>\n",
              "      <td>2018</td>\n",
              "    </tr>\n",
              "    <tr>\n",
              "      <th>7</th>\n",
              "      <td>TRANSFER</td>\n",
              "      <td>2</td>\n",
              "      <td>1</td>\n",
              "      <td>68.430000</td>\n",
              "      <td>285.140015</td>\n",
              "      <td>1</td>\n",
              "      <td>1</td>\n",
              "      <td>73</td>\n",
              "      <td>40</td>\n",
              "      <td>318</td>\n",
              "      <td>...</td>\n",
              "      <td>1.334822</td>\n",
              "      <td>0</td>\n",
              "      <td>2018-01-15 10:21:00</td>\n",
              "      <td>0</td>\n",
              "      <td>13</td>\n",
              "      <td>1</td>\n",
              "      <td>2018</td>\n",
              "      <td>15</td>\n",
              "      <td>1</td>\n",
              "      <td>2018</td>\n",
              "    </tr>\n",
              "    <tr>\n",
              "      <th>8</th>\n",
              "      <td>CASH</td>\n",
              "      <td>3</td>\n",
              "      <td>2</td>\n",
              "      <td>133.720001</td>\n",
              "      <td>278.589996</td>\n",
              "      <td>1</td>\n",
              "      <td>1</td>\n",
              "      <td>73</td>\n",
              "      <td>40</td>\n",
              "      <td>66</td>\n",
              "      <td>...</td>\n",
              "      <td>1.334822</td>\n",
              "      <td>0</td>\n",
              "      <td>2018-01-16 10:00:00</td>\n",
              "      <td>2</td>\n",
              "      <td>13</td>\n",
              "      <td>1</td>\n",
              "      <td>2018</td>\n",
              "      <td>16</td>\n",
              "      <td>1</td>\n",
              "      <td>2018</td>\n",
              "    </tr>\n",
              "    <tr>\n",
              "      <th>9</th>\n",
              "      <td>CASH</td>\n",
              "      <td>2</td>\n",
              "      <td>1</td>\n",
              "      <td>132.149994</td>\n",
              "      <td>275.309998</td>\n",
              "      <td>1</td>\n",
              "      <td>1</td>\n",
              "      <td>73</td>\n",
              "      <td>40</td>\n",
              "      <td>457</td>\n",
              "      <td>...</td>\n",
              "      <td>1.334822</td>\n",
              "      <td>0</td>\n",
              "      <td>2018-01-15 09:39:00</td>\n",
              "      <td>0</td>\n",
              "      <td>13</td>\n",
              "      <td>1</td>\n",
              "      <td>2018</td>\n",
              "      <td>15</td>\n",
              "      <td>1</td>\n",
              "      <td>2018</td>\n",
              "    </tr>\n",
              "    <tr>\n",
              "      <th>10</th>\n",
              "      <td>TRANSFER</td>\n",
              "      <td>6</td>\n",
              "      <td>2</td>\n",
              "      <td>130.580002</td>\n",
              "      <td>272.029999</td>\n",
              "      <td>2</td>\n",
              "      <td>0</td>\n",
              "      <td>73</td>\n",
              "      <td>40</td>\n",
              "      <td>66</td>\n",
              "      <td>...</td>\n",
              "      <td>1.334822</td>\n",
              "      <td>0</td>\n",
              "      <td>2018-01-19 09:18:00</td>\n",
              "      <td>2</td>\n",
              "      <td>13</td>\n",
              "      <td>1</td>\n",
              "      <td>2018</td>\n",
              "      <td>19</td>\n",
              "      <td>1</td>\n",
              "      <td>2018</td>\n",
              "    </tr>\n",
              "    <tr>\n",
              "      <th>11</th>\n",
              "      <td>TRANSFER</td>\n",
              "      <td>5</td>\n",
              "      <td>2</td>\n",
              "      <td>45.689999</td>\n",
              "      <td>268.760010</td>\n",
              "      <td>1</td>\n",
              "      <td>1</td>\n",
              "      <td>73</td>\n",
              "      <td>40</td>\n",
              "      <td>175</td>\n",
              "      <td>...</td>\n",
              "      <td>1.334822</td>\n",
              "      <td>0</td>\n",
              "      <td>2018-01-18 08:57:00</td>\n",
              "      <td>2</td>\n",
              "      <td>13</td>\n",
              "      <td>1</td>\n",
              "      <td>2018</td>\n",
              "      <td>18</td>\n",
              "      <td>1</td>\n",
              "      <td>2018</td>\n",
              "    </tr>\n",
              "    <tr>\n",
              "      <th>12</th>\n",
              "      <td>TRANSFER</td>\n",
              "      <td>4</td>\n",
              "      <td>2</td>\n",
              "      <td>21.760000</td>\n",
              "      <td>262.200012</td>\n",
              "      <td>1</td>\n",
              "      <td>1</td>\n",
              "      <td>73</td>\n",
              "      <td>40</td>\n",
              "      <td>445</td>\n",
              "      <td>...</td>\n",
              "      <td>1.334822</td>\n",
              "      <td>0</td>\n",
              "      <td>2018-01-17 08:36:00</td>\n",
              "      <td>2</td>\n",
              "      <td>13</td>\n",
              "      <td>1</td>\n",
              "      <td>2018</td>\n",
              "      <td>17</td>\n",
              "      <td>1</td>\n",
              "      <td>2018</td>\n",
              "    </tr>\n",
              "    <tr>\n",
              "      <th>13</th>\n",
              "      <td>DEBIT</td>\n",
              "      <td>2</td>\n",
              "      <td>1</td>\n",
              "      <td>24.580000</td>\n",
              "      <td>245.809998</td>\n",
              "      <td>1</td>\n",
              "      <td>1</td>\n",
              "      <td>73</td>\n",
              "      <td>40</td>\n",
              "      <td>66</td>\n",
              "      <td>...</td>\n",
              "      <td>1.334822</td>\n",
              "      <td>0</td>\n",
              "      <td>2018-01-15 08:15:00</td>\n",
              "      <td>0</td>\n",
              "      <td>13</td>\n",
              "      <td>1</td>\n",
              "      <td>2018</td>\n",
              "      <td>15</td>\n",
              "      <td>1</td>\n",
              "      <td>2018</td>\n",
              "    </tr>\n",
              "    <tr>\n",
              "      <th>14</th>\n",
              "      <td>TRANSFER</td>\n",
              "      <td>2</td>\n",
              "      <td>1</td>\n",
              "      <td>16.389999</td>\n",
              "      <td>327.750000</td>\n",
              "      <td>1</td>\n",
              "      <td>1</td>\n",
              "      <td>73</td>\n",
              "      <td>40</td>\n",
              "      <td>386</td>\n",
              "      <td>...</td>\n",
              "      <td>1.334822</td>\n",
              "      <td>0</td>\n",
              "      <td>2018-01-15 07:54:00</td>\n",
              "      <td>0</td>\n",
              "      <td>13</td>\n",
              "      <td>1</td>\n",
              "      <td>2018</td>\n",
              "      <td>15</td>\n",
              "      <td>1</td>\n",
              "      <td>2018</td>\n",
              "    </tr>\n",
              "  </tbody>\n",
              "</table>\n",
              "<p>15 rows × 49 columns</p>\n",
              "</div>\n",
              "    <div class=\"colab-df-buttons\">\n",
              "\n",
              "  <div class=\"colab-df-container\">\n",
              "    <button class=\"colab-df-convert\" onclick=\"convertToInteractive('df-ece5cbae-bc76-4d48-87f7-ae3838c1c769')\"\n",
              "            title=\"Convert this dataframe to an interactive table.\"\n",
              "            style=\"display:none;\">\n",
              "\n",
              "  <svg xmlns=\"http://www.w3.org/2000/svg\" height=\"24px\" viewBox=\"0 -960 960 960\">\n",
              "    <path d=\"M120-120v-720h720v720H120Zm60-500h600v-160H180v160Zm220 220h160v-160H400v160Zm0 220h160v-160H400v160ZM180-400h160v-160H180v160Zm440 0h160v-160H620v160ZM180-180h160v-160H180v160Zm440 0h160v-160H620v160Z\"/>\n",
              "  </svg>\n",
              "    </button>\n",
              "\n",
              "  <style>\n",
              "    .colab-df-container {\n",
              "      display:flex;\n",
              "      gap: 12px;\n",
              "    }\n",
              "\n",
              "    .colab-df-convert {\n",
              "      background-color: #E8F0FE;\n",
              "      border: none;\n",
              "      border-radius: 50%;\n",
              "      cursor: pointer;\n",
              "      display: none;\n",
              "      fill: #1967D2;\n",
              "      height: 32px;\n",
              "      padding: 0 0 0 0;\n",
              "      width: 32px;\n",
              "    }\n",
              "\n",
              "    .colab-df-convert:hover {\n",
              "      background-color: #E2EBFA;\n",
              "      box-shadow: 0px 1px 2px rgba(60, 64, 67, 0.3), 0px 1px 3px 1px rgba(60, 64, 67, 0.15);\n",
              "      fill: #174EA6;\n",
              "    }\n",
              "\n",
              "    .colab-df-buttons div {\n",
              "      margin-bottom: 4px;\n",
              "    }\n",
              "\n",
              "    [theme=dark] .colab-df-convert {\n",
              "      background-color: #3B4455;\n",
              "      fill: #D2E3FC;\n",
              "    }\n",
              "\n",
              "    [theme=dark] .colab-df-convert:hover {\n",
              "      background-color: #434B5C;\n",
              "      box-shadow: 0px 1px 3px 1px rgba(0, 0, 0, 0.15);\n",
              "      filter: drop-shadow(0px 1px 2px rgba(0, 0, 0, 0.3));\n",
              "      fill: #FFFFFF;\n",
              "    }\n",
              "  </style>\n",
              "\n",
              "    <script>\n",
              "      const buttonEl =\n",
              "        document.querySelector('#df-ece5cbae-bc76-4d48-87f7-ae3838c1c769 button.colab-df-convert');\n",
              "      buttonEl.style.display =\n",
              "        google.colab.kernel.accessAllowed ? 'block' : 'none';\n",
              "\n",
              "      async function convertToInteractive(key) {\n",
              "        const element = document.querySelector('#df-ece5cbae-bc76-4d48-87f7-ae3838c1c769');\n",
              "        const dataTable =\n",
              "          await google.colab.kernel.invokeFunction('convertToInteractive',\n",
              "                                                    [key], {});\n",
              "        if (!dataTable) return;\n",
              "\n",
              "        const docLinkHtml = 'Like what you see? Visit the ' +\n",
              "          '<a target=\"_blank\" href=https://colab.research.google.com/notebooks/data_table.ipynb>data table notebook</a>'\n",
              "          + ' to learn more about interactive tables.';\n",
              "        element.innerHTML = '';\n",
              "        dataTable['output_type'] = 'display_data';\n",
              "        await google.colab.output.renderOutput(dataTable, element);\n",
              "        const docLink = document.createElement('div');\n",
              "        docLink.innerHTML = docLinkHtml;\n",
              "        element.appendChild(docLink);\n",
              "      }\n",
              "    </script>\n",
              "  </div>\n",
              "\n",
              "\n",
              "<div id=\"df-361df8bf-8920-4eaf-b7a1-2e9bdbcb244a\">\n",
              "  <button class=\"colab-df-quickchart\" onclick=\"quickchart('df-361df8bf-8920-4eaf-b7a1-2e9bdbcb244a')\"\n",
              "            title=\"Suggest charts\"\n",
              "            style=\"display:none;\">\n",
              "\n",
              "<svg xmlns=\"http://www.w3.org/2000/svg\" height=\"24px\"viewBox=\"0 0 24 24\"\n",
              "     width=\"24px\">\n",
              "    <g>\n",
              "        <path d=\"M19 3H5c-1.1 0-2 .9-2 2v14c0 1.1.9 2 2 2h14c1.1 0 2-.9 2-2V5c0-1.1-.9-2-2-2zM9 17H7v-7h2v7zm4 0h-2V7h2v10zm4 0h-2v-4h2v4z\"/>\n",
              "    </g>\n",
              "</svg>\n",
              "  </button>\n",
              "\n",
              "<style>\n",
              "  .colab-df-quickchart {\n",
              "      --bg-color: #E8F0FE;\n",
              "      --fill-color: #1967D2;\n",
              "      --hover-bg-color: #E2EBFA;\n",
              "      --hover-fill-color: #174EA6;\n",
              "      --disabled-fill-color: #AAA;\n",
              "      --disabled-bg-color: #DDD;\n",
              "  }\n",
              "\n",
              "  [theme=dark] .colab-df-quickchart {\n",
              "      --bg-color: #3B4455;\n",
              "      --fill-color: #D2E3FC;\n",
              "      --hover-bg-color: #434B5C;\n",
              "      --hover-fill-color: #FFFFFF;\n",
              "      --disabled-bg-color: #3B4455;\n",
              "      --disabled-fill-color: #666;\n",
              "  }\n",
              "\n",
              "  .colab-df-quickchart {\n",
              "    background-color: var(--bg-color);\n",
              "    border: none;\n",
              "    border-radius: 50%;\n",
              "    cursor: pointer;\n",
              "    display: none;\n",
              "    fill: var(--fill-color);\n",
              "    height: 32px;\n",
              "    padding: 0;\n",
              "    width: 32px;\n",
              "  }\n",
              "\n",
              "  .colab-df-quickchart:hover {\n",
              "    background-color: var(--hover-bg-color);\n",
              "    box-shadow: 0 1px 2px rgba(60, 64, 67, 0.3), 0 1px 3px 1px rgba(60, 64, 67, 0.15);\n",
              "    fill: var(--button-hover-fill-color);\n",
              "  }\n",
              "\n",
              "  .colab-df-quickchart-complete:disabled,\n",
              "  .colab-df-quickchart-complete:disabled:hover {\n",
              "    background-color: var(--disabled-bg-color);\n",
              "    fill: var(--disabled-fill-color);\n",
              "    box-shadow: none;\n",
              "  }\n",
              "\n",
              "  .colab-df-spinner {\n",
              "    border: 2px solid var(--fill-color);\n",
              "    border-color: transparent;\n",
              "    border-bottom-color: var(--fill-color);\n",
              "    animation:\n",
              "      spin 1s steps(1) infinite;\n",
              "  }\n",
              "\n",
              "  @keyframes spin {\n",
              "    0% {\n",
              "      border-color: transparent;\n",
              "      border-bottom-color: var(--fill-color);\n",
              "      border-left-color: var(--fill-color);\n",
              "    }\n",
              "    20% {\n",
              "      border-color: transparent;\n",
              "      border-left-color: var(--fill-color);\n",
              "      border-top-color: var(--fill-color);\n",
              "    }\n",
              "    30% {\n",
              "      border-color: transparent;\n",
              "      border-left-color: var(--fill-color);\n",
              "      border-top-color: var(--fill-color);\n",
              "      border-right-color: var(--fill-color);\n",
              "    }\n",
              "    40% {\n",
              "      border-color: transparent;\n",
              "      border-right-color: var(--fill-color);\n",
              "      border-top-color: var(--fill-color);\n",
              "    }\n",
              "    60% {\n",
              "      border-color: transparent;\n",
              "      border-right-color: var(--fill-color);\n",
              "    }\n",
              "    80% {\n",
              "      border-color: transparent;\n",
              "      border-right-color: var(--fill-color);\n",
              "      border-bottom-color: var(--fill-color);\n",
              "    }\n",
              "    90% {\n",
              "      border-color: transparent;\n",
              "      border-bottom-color: var(--fill-color);\n",
              "    }\n",
              "  }\n",
              "</style>\n",
              "\n",
              "  <script>\n",
              "    async function quickchart(key) {\n",
              "      const quickchartButtonEl =\n",
              "        document.querySelector('#' + key + ' button');\n",
              "      quickchartButtonEl.disabled = true;  // To prevent multiple clicks.\n",
              "      quickchartButtonEl.classList.add('colab-df-spinner');\n",
              "      try {\n",
              "        const charts = await google.colab.kernel.invokeFunction(\n",
              "            'suggestCharts', [key], {});\n",
              "      } catch (error) {\n",
              "        console.error('Error during call to suggestCharts:', error);\n",
              "      }\n",
              "      quickchartButtonEl.classList.remove('colab-df-spinner');\n",
              "      quickchartButtonEl.classList.add('colab-df-quickchart-complete');\n",
              "    }\n",
              "    (() => {\n",
              "      let quickchartButtonEl =\n",
              "        document.querySelector('#df-361df8bf-8920-4eaf-b7a1-2e9bdbcb244a button');\n",
              "      quickchartButtonEl.style.display =\n",
              "        google.colab.kernel.accessAllowed ? 'block' : 'none';\n",
              "    })();\n",
              "  </script>\n",
              "</div>\n",
              "\n",
              "    </div>\n",
              "  </div>\n"
            ],
            "application/vnd.google.colaboratory.intrinsic+json": {
              "type": "dataframe",
              "variable_name": "df"
            }
          },
          "metadata": {},
          "execution_count": 23
        }
      ],
      "source": [
        "# Display the first 15 rows of the DataFrame\n",
        "df.head(15)"
      ]
    },
    {
      "cell_type": "markdown",
      "metadata": {
        "id": "RTOMw22mcCkR"
      },
      "source": [
        "##Creating a random sample of the dataset"
      ]
    },
    {
      "cell_type": "code",
      "execution_count": null,
      "metadata": {
        "id": "4tMFd-QiroYF"
      },
      "outputs": [],
      "source": [
        "#Creating a random 5% sample of the dataset to reduce the data size and help prevent overfitting\n",
        "df_sample = df.sample(frac=0.5, random_state=42)"
      ]
    },
    {
      "cell_type": "markdown",
      "source": [
        "## ML Models\n",
        "\n",
        "Model 1 : In Model 1, we apply both Linear Regression and Gradient Boosting techniques to predict the profitability of each order, focusing on the variable 'Order Profit Per Order'. The model utilizes a diverse set of features that capture various aspects of the sales process, including pricing strategies, discount rates, and shipping details. By considering factors like 'Order Item Profit Ratio', 'Sales', and 'Days for shipment (scheduled)', the model aims to uncover the relationships that drive order profitability and provide insights into optimizing financial outcomes within the supply chain.\n"
      ],
      "metadata": {
        "id": "FZtpG1T_lG1a"
      }
    },
    {
      "cell_type": "code",
      "execution_count": null,
      "metadata": {
        "id": "WJuQunF8pHYR"
      },
      "outputs": [],
      "source": [
        "#Preparing the features and target for predicting 'Order Profit Per Order'.\n",
        "X = df_sample[[\n",
        "    'Order Item Profit Ratio',\n",
        "    'Sales',\n",
        "    'Order Item Product Price',\n",
        "    'Order Item Discount Rate',\n",
        "    'Order Item Total',\n",
        "    'Product Price',\n",
        "    'Days for shipment (scheduled)',\n",
        "    'Order Status',\n",
        "    'Shipping Mode',\n",
        "]]\n",
        "\n",
        "y = df_sample['Order Profit Per Order']\n",
        "\n"
      ]
    },
    {
      "cell_type": "code",
      "execution_count": null,
      "metadata": {
        "id": "wAzNVlWrQNMc"
      },
      "outputs": [],
      "source": [
        "# Splitting the Data: Dividing the dataset into 80% for training and 20% for testing to evaluate model performance.\n",
        "\n",
        "X_train, X_test, y_train, y_test = train_test_split(X, y, test_size=0.2, random_state=42)"
      ]
    },
    {
      "cell_type": "code",
      "execution_count": null,
      "metadata": {
        "colab": {
          "base_uri": "https://localhost:8080/"
        },
        "id": "hiiQF_LgQNMc",
        "outputId": "b53185bc-23cd-41b3-9f42-5a11fde1819a"
      },
      "outputs": [
        {
          "output_type": "stream",
          "name": "stdout",
          "text": [
            "Shape of X: (90260, 9)\n",
            "Shape of y: (90260,)\n"
          ]
        }
      ],
      "source": [
        "# Print the shape of X and y\n",
        "print(\"Shape of X:\", X.shape)\n",
        "print(\"Shape of y:\", y.shape)"
      ]
    },
    {
      "cell_type": "code",
      "execution_count": null,
      "metadata": {
        "id": "OwnxhfZPQNMc"
      },
      "outputs": [],
      "source": [
        "# Training and predicting with the Linear Regression model.\n",
        "lin_reg = LinearRegression()\n",
        "lin_reg.fit(X_train, y_train)\n",
        "y_pred_lr = lin_reg.predict(X_test)"
      ]
    },
    {
      "cell_type": "code",
      "execution_count": null,
      "metadata": {
        "id": "he08Xo3mQNMd"
      },
      "outputs": [],
      "source": [
        "# Training and predicting with the Gradient Boosting Regression model.\n",
        "gb_reg = GradientBoostingRegressor()\n",
        "gb_reg.fit(X_train, y_train)\n",
        "y_pred_gb = gb_reg.predict(X_test)"
      ]
    },
    {
      "cell_type": "code",
      "execution_count": null,
      "metadata": {
        "colab": {
          "base_uri": "https://localhost:8080/"
        },
        "id": "4-LuEveqQNMd",
        "outputId": "0ba09a49-5b07-4afd-c8e6-4131e884164f"
      },
      "outputs": [
        {
          "output_type": "stream",
          "name": "stdout",
          "text": [
            "Linear Regression Metrics:\n",
            "Mean Absolute Error (MAE): 0.25\n",
            "Mean Squared Error (MSE): 0.27\n",
            "Root Mean Squared Error (RMSE): 0.52\n",
            "R-squared (R²): 0.72\n",
            "\n",
            "Gradient Boosting Metrics:\n",
            "Mean Absolute Error (MAE): 0.03\n",
            "Mean Squared Error (MSE): 0.00\n",
            "Root Mean Squared Error (RMSE): 0.06\n",
            "R-squared (R²): 1.00\n"
          ]
        }
      ],
      "source": [
        "# Calculate metrics for Linear Regression\n",
        "mae_lr = mean_absolute_error(y_test, y_pred_lr)\n",
        "mse_lr = mean_squared_error(y_test, y_pred_lr)\n",
        "rmse_lr = np.sqrt(mse_lr)\n",
        "r2_lr = r2_score(y_test, y_pred_lr)\n",
        "\n",
        "print(\"Linear Regression Metrics:\")\n",
        "print(f\"Mean Absolute Error (MAE): {mae_lr:.2f}\")\n",
        "print(f\"Mean Squared Error (MSE): {mse_lr:.2f}\")\n",
        "print(f\"Root Mean Squared Error (RMSE): {rmse_lr:.2f}\")\n",
        "print(f\"R-squared (R²): {r2_lr:.2f}\")\n",
        "\n",
        "# Calculate metrics for Gradient Boosting\n",
        "mae_gb = mean_absolute_error(y_test, y_pred_gb)\n",
        "mse_gb = mean_squared_error(y_test, y_pred_gb)\n",
        "rmse_gb = np.sqrt(mse_gb)\n",
        "r2_gb = r2_score(y_test, y_pred_gb)\n",
        "\n",
        "print(\"\\nGradient Boosting Metrics:\")\n",
        "print(f\"Mean Absolute Error (MAE): {mae_gb:.2f}\")\n",
        "print(f\"Mean Squared Error (MSE): {mse_gb:.2f}\")\n",
        "print(f\"Root Mean Squared Error (RMSE): {rmse_gb:.2f}\")\n",
        "print(f\"R-squared (R²): {r2_gb:.2f}\")\n"
      ]
    },
    {
      "cell_type": "markdown",
      "metadata": {
        "id": "LufomGzdbbUq"
      },
      "source": [
        "**Linear Regression:** The model explains 72% of the variance in the target variable, with moderate prediction errors (MAE of 0.25 and RMSE of 0.52), indicating a reasonably good fit but with room for improvement.\n",
        "\n",
        "**Gradient Boosting:** The model performs exceptionally well, with near-perfect predictions (R² of 1.00, very low MAE and RMSE), suggesting possible overfitting to the training data.\n",
        "\n",
        "Linear Regression is advisable due to its balanced performance, avoiding the potential overfitting seen in Gradient Boosting."
      ]
    },
    {
      "cell_type": "markdown",
      "metadata": {
        "id": "IH7zYCqccQsI"
      },
      "source": [
        "## Model: 2\n",
        "\n",
        "In this model, we're utilizing a focused set of features that capture key customer and product details, such as item prices, quantities, and specific identifiers, to predict `Sales`. We're applying two advanced regression techniques: **Ridge Regression**, which mitigates overfitting by penalizing large coefficients, and **Support Vector Regression (SVR)**, which excels at modeling complex relationships within the data. This combination allows us to investigate different approaches for precisely forecasting sales based on these essential variables."
      ]
    },
    {
      "cell_type": "code",
      "execution_count": null,
      "metadata": {
        "id": "vEV9DgpiQNMd"
      },
      "outputs": [],
      "source": [
        "# Setting up features and target for predicting 'Sales'.\n",
        "X1 = df_sample[[\n",
        "    'Days for shipping (real)',\n",
        "    'Benefit per order',\n",
        "    'Sales per customer',\n",
        "    'Late_delivery_risk',\n",
        "    'Order Item Quantity',\n",
        "    'Order Profit Per Order',\n",
        "    'Latitude',\n",
        "    'Longitude'\n",
        "]]\n",
        "\n",
        "y1 = df_sample['Sales']"
      ]
    },
    {
      "cell_type": "code",
      "execution_count": null,
      "metadata": {
        "id": "-96X_II2QNMd"
      },
      "outputs": [],
      "source": [
        "# Splitting the Data: Dividing the dataset into 80% for training and 20% for testing to evaluate model performance.\n",
        "X1_train, X1_test, y1_train, y1_test = train_test_split(X1, y1, test_size=0.2, random_state=42)"
      ]
    },
    {
      "cell_type": "code",
      "execution_count": null,
      "metadata": {
        "id": "a3QOhtvYQNMe"
      },
      "outputs": [],
      "source": [
        "# Training and predicting with the Ridge Regression model.\n",
        "ridge_reg = Ridge()\n",
        "ridge_reg.fit(X1_train, y1_train)\n",
        "y1_pred_ridge = ridge_reg.predict(X1_test)"
      ]
    },
    {
      "cell_type": "code",
      "execution_count": null,
      "metadata": {
        "id": "zVfZiwlbQNMe"
      },
      "outputs": [],
      "source": [
        "# Training and predicting with the Support Vector model.\n",
        "svr_reg = SVR()\n",
        "svr_reg.fit(X1_train, y1_train)\n",
        "y1_pred_svr = svr_reg.predict(X1_test)"
      ]
    },
    {
      "cell_type": "code",
      "execution_count": null,
      "metadata": {
        "id": "gYC74bcdQNMe",
        "colab": {
          "base_uri": "https://localhost:8080/"
        },
        "outputId": "d0bff916-fad4-49fd-8008-5b1a016ce9b5"
      },
      "outputs": [
        {
          "output_type": "stream",
          "name": "stdout",
          "text": [
            "Ridge Regression Metrics:\n",
            "Mean Absolute Error (MAE): 0.10\n",
            "Mean Squared Error (MSE): 0.02\n",
            "Root Mean Squared Error (RMSE): 0.14\n",
            "R-squared (R²): 0.98\n",
            "\n",
            "Support Vector Regression (SVR) Metrics:\n",
            "Mean Absolute Error (MAE): 0.10\n",
            "Mean Squared Error (MSE): 0.02\n",
            "Root Mean Squared Error (RMSE): 0.14\n",
            "R-squared (R²): 0.98\n"
          ]
        }
      ],
      "source": [
        "# Evaluate Ridge Regression\n",
        "mae_ridge = mean_absolute_error(y1_test, y1_pred_ridge)\n",
        "mse_ridge = mean_squared_error(y1_test, y1_pred_ridge)\n",
        "rmse_ridge = np.sqrt(mse_ridge)\n",
        "r2_ridge = r2_score(y1_test, y1_pred_ridge)\n",
        "\n",
        "print(\"Ridge Regression Metrics:\")\n",
        "print(f\"Mean Absolute Error (MAE): {mae_ridge:.2f}\")\n",
        "print(f\"Mean Squared Error (MSE): {mse_ridge:.2f}\")\n",
        "print(f\"Root Mean Squared Error (RMSE): {rmse_ridge:.2f}\")\n",
        "print(f\"R-squared (R²): {r2_ridge:.2f}\")\n",
        "\n",
        "# Evaluate Support Vector Regression (SVR)\n",
        "mae_svr = mean_absolute_error(y1_test, y1_pred_svr)\n",
        "mse_svr = mean_squared_error(y1_test, y1_pred_svr)\n",
        "rmse_svr = np.sqrt(mse_svr)\n",
        "r2_svr = r2_score(y1_test, y1_pred_svr)\n",
        "\n",
        "print(\"\\nSupport Vector Regression (SVR) Metrics:\")\n",
        "print(f\"Mean Absolute Error (MAE): {mae_svr:.2f}\")\n",
        "print(f\"Mean Squared Error (MSE): {mse_svr:.2f}\")\n",
        "print(f\"Root Mean Squared Error (RMSE): {rmse_svr:.2f}\")\n",
        "print(f\"R-squared (R²): {r2_svr:.2f}\")"
      ]
    },
    {
      "cell_type": "code",
      "execution_count": null,
      "metadata": {
        "id": "D8SsW7-lQNMe"
      },
      "outputs": [],
      "source": [
        "# Plot ROC curve as comparison of each model\n",
        "\n",
        "# Convert the regression targets to binary classification for ROC AUC purposes\n",
        "threshold = y_test.median()\n",
        "y_test_binary = (y_test > threshold).astype(int)\n",
        "y_pred_lr_binary = (y_pred_lr > threshold).astype(int)\n",
        "y_pred_gb_binary = (y_pred_gb > threshold).astype(int)\n",
        "\n",
        "threshold1 = y1_test.median()\n",
        "y1_test_binary = (y1_test > threshold1).astype(int)\n",
        "y1_pred_ridge_binary = (y1_pred_ridge > threshold1).astype(int)\n",
        "y1_pred_svr_binary = (y1_pred_svr > threshold1).astype(int)\n",
        "\n",
        "# Function to plot ROC curve\n",
        "def plot_roc_curve(y_test, y_pred, model_name):\n",
        "    fpr, tpr, _ = roc_curve(y_test, y_pred)\n",
        "    roc_auc = auc(fpr, tpr)\n",
        "    plt.plot(fpr, tpr, lw=2, label=f'{model_name} (AUC = {roc_auc:.2f})')\n",
        "    return roc_auc"
      ]
    },
    {
      "cell_type": "code",
      "execution_count": null,
      "metadata": {
        "id": "plvpO779QNMe",
        "colab": {
          "base_uri": "https://localhost:8080/",
          "height": 718
        },
        "outputId": "430a01a2-8a49-4206-97cd-3458257748b7"
      },
      "outputs": [
        {
          "output_type": "display_data",
          "data": {
            "text/plain": [
              "<Figure size 1000x800 with 1 Axes>"
            ],
            "image/png": "[encoded data removed]"
          },
          "metadata": {}
        }
      ],
      "source": [
        "# Plot ROC curves\n",
        "plt.figure(figsize=(10, 8))\n",
        "roc_auc_lr = plot_roc_curve(y_test_binary, y_pred_lr_binary, 'Linear Regression')\n",
        "roc_auc_gb = plot_roc_curve(y_test_binary, y_pred_gb_binary, 'Gradient Boosting Regression')\n",
        "roc_auc_ridge = plot_roc_curve(y1_test_binary, y1_pred_ridge_binary, 'Ridge Regression')\n",
        "roc_auc_svr = plot_roc_curve(y1_test_binary, y1_pred_svr_binary, 'Support Vector Regression')\n",
        "\n",
        "# Plot settings\n",
        "plt.plot([0, 1], [0, 1], color='navy', lw=2, linestyle='--')\n",
        "plt.xlim([0.0, 1.0])\n",
        "plt.ylim([0.0, 1.05])\n",
        "plt.xlabel('False Positive Rate')\n",
        "plt.ylabel('True Positive Rate')\n",
        "plt.title('ROC Curve Comparison')\n",
        "plt.legend(loc='lower right')\n",
        "plt.show()"
      ]
    },
    {
      "cell_type": "code",
      "execution_count": null,
      "metadata": {
        "id": "bCg3ZKZFQNMe",
        "colab": {
          "base_uri": "https://localhost:8080/"
        },
        "outputId": "9793661b-00ab-4bc4-f03d-1fd8dc391ab1"
      },
      "outputs": [
        {
          "output_type": "stream",
          "name": "stdout",
          "text": [
            "Linear Regression - ROC AUC: 0.8772254502337445\n",
            "Gradient Boosting Regression - ROC AUC: 0.9760169457624467\n",
            "Ridge Regression - ROC AUC: 0.921281821962383\n",
            "Support Vector Regression - ROC AUC: 0.9163111840292831\n"
          ]
        }
      ],
      "source": [
        "# Print ROC AUC scores for each model\n",
        "print(f'Linear Regression - ROC AUC: {roc_auc_lr}')\n",
        "print(f'Gradient Boosting Regression - ROC AUC: {roc_auc_gb}')\n",
        "print(f'Ridge Regression - ROC AUC: {roc_auc_ridge}')\n",
        "print(f'Support Vector Regression - ROC AUC: {roc_auc_svr}')"
      ]
    },
    {
      "cell_type": "markdown",
      "metadata": {
        "id": "9UAhvv-cmjeK"
      },
      "source": [
        "## Advanced AI Models"
      ]
    },
    {
      "cell_type": "markdown",
      "metadata": {
        "id": "g9nwmJlMUdiN"
      },
      "source": [
        "Imagine a bustling supply chain, where every decision from when to ship a product to how much inventory to stock—relies on countless variables. Our dataset captures this complexity, holding the key to understanding and predicting the nuances of supply chain operations. With detailed records of order dates, shipping timelines, product prices, and even geographic locations, we have the perfect playground for AI and ML models. As we apply these models to this rich dataset, we unravel patterns and insights that not only improve day-to-day decision-making but also build a resilient, adaptive supply chain ready to tackle any disruption. Through this exploration, we aim to transform raw data into actionable strategies, ensuring that the supply chain remains robust and efficient in a constantly changing world."
      ]
    },
    {
      "cell_type": "code",
      "execution_count": null,
      "metadata": {
        "id": "L77yvU3IL42P"
      },
      "outputs": [],
      "source": [
        "# Define X2 with the selected best predictors\n",
        "X2 = df_sample[[\n",
        "    'Days for shipping (real)',\n",
        "    'Days for shipment (scheduled)',\n",
        "    'Late_delivery_risk',\n",
        "    'Order Item Quantity',\n",
        "    'Market',\n",
        "    'Shipping Mode',\n",
        "    'Order Region'\n",
        "]]\n",
        "\n",
        "y2 = df_sample['Delivery Status']\n",
        "\n"
      ]
    },
    {
      "cell_type": "markdown",
      "metadata": {
        "id": "BWxGntzdQNMe"
      },
      "source": [
        "### 1. Reformer\n",
        "\n",
        "The Reformer model, with its ability to read even the longest texts and recognize complex patterns, became a powerful tool in our analysis. By predicting delivery outcomes and detecting outliers, it not only enhanced demand forecasting but also played a crucial role in improving inventory management and operational resilience within the supply chain."
      ]
    },
    {
      "cell_type": "code",
      "execution_count": null,
      "metadata": {
        "id": "ncy6Cy9MVNF3"
      },
      "outputs": [],
      "source": [
        "# Define the Feedforward Neural Network model\n",
        "class FeedforwardNN(nn.Module):\n",
        "    def __init__(self, input_dim):\n",
        "        super(FeedforwardNN, self).__init__()\n",
        "        self.fc1 = nn.Linear(input_dim, 64)\n",
        "        self.fc2 = nn.Linear(64, 32)\n",
        "        self.fc3 = nn.Linear(32, 1)\n",
        "        self.relu = nn.ReLU()\n",
        "        self.dropout = nn.Dropout(0.5)\n",
        "\n",
        "    def forward(self, x):\n",
        "        x = self.relu(self.fc1(x))\n",
        "        x = self.dropout(x)\n",
        "        x = self.relu(self.fc2(x))\n",
        "        x = self.dropout(x)\n",
        "        x = self.fc3(x)\n",
        "        return x\n"
      ]
    },
    {
      "cell_type": "code",
      "execution_count": null,
      "metadata": {
        "id": "dlgunwRwVWdK"
      },
      "outputs": [],
      "source": [
        "# Data preprocessing\n",
        "scaler = StandardScaler()\n",
        "X2_scaled = scaler.fit_transform(X2)"
      ]
    },
    {
      "cell_type": "code",
      "execution_count": null,
      "metadata": {
        "id": "23fj7lwxVej3"
      },
      "outputs": [],
      "source": [
        "# Split data\n",
        "X2_train, X2_test, y2_train, y2_test = train_test_split(X2_scaled, y2, test_size=0.2, random_state=42)\n"
      ]
    },
    {
      "cell_type": "code",
      "execution_count": null,
      "metadata": {
        "id": "fRLsFQgEVtOo"
      },
      "outputs": [],
      "source": [
        "# Convert data to PyTorch tensors\n",
        "X2_train_tensor = torch.tensor(X2_train, dtype=torch.float32)\n",
        "y2_train_tensor = torch.tensor(y2_train.values, dtype=torch.float32).view(-1, 1)\n",
        "X2_test_tensor = torch.tensor(X2_test, dtype=torch.float32)\n",
        "y2_test_tensor = torch.tensor(y2_test.values, dtype=torch.float32).view(-1, 1)\n"
      ]
    },
    {
      "cell_type": "code",
      "execution_count": null,
      "metadata": {
        "id": "vlswQlVyVzZr"
      },
      "outputs": [],
      "source": [
        "# Create DataLoader for Efficient Data Handling\n",
        "train_dataset = torch.utils.data.TensorDataset(X2_train_tensor, y2_train_tensor)\n",
        "train_loader = torch.utils.data.DataLoader(train_dataset, batch_size=32, shuffle=True)\n"
      ]
    },
    {
      "cell_type": "code",
      "execution_count": null,
      "metadata": {
        "id": "hBXU-RDiV52x"
      },
      "outputs": [],
      "source": [
        "# Initialize model, loss function, and optimizer\n",
        "input_dim = X2_train.shape[1]\n",
        "model = FeedforwardNN(input_dim)\n",
        "criterion = nn.MSELoss()\n",
        "optimizer = optim.Adam(model.parameters(), lr=1e-3)\n"
      ]
    },
    {
      "cell_type": "code",
      "execution_count": null,
      "metadata": {
        "id": "kCTreGdpV__D"
      },
      "outputs": [],
      "source": [
        "# Training loop\n",
        "def train_model(model, train_loader, criterion, optimizer, epochs=3):\n",
        "    model.train()\n",
        "    for epoch in range(epochs):\n",
        "        epoch_loss = 0\n",
        "        for batch_features, batch_targets in train_loader:\n",
        "            optimizer.zero_grad()\n",
        "            outputs = model(batch_features)\n",
        "            loss = criterion(outputs, batch_targets)\n",
        "            loss.backward()\n",
        "            optimizer.step()\n",
        "            epoch_loss += loss.item()\n",
        "        print(f\"Epoch {epoch + 1}/{epochs} - Loss: {epoch_loss / len(train_loader)}\")\n"
      ]
    },
    {
      "cell_type": "code",
      "execution_count": null,
      "metadata": {
        "id": "8vMufUFYlUGK",
        "colab": {
          "base_uri": "https://localhost:8080/"
        },
        "outputId": "f5d40c78-6ead-41c7-c849-5dd9e7919c00"
      },
      "outputs": [
        {
          "output_type": "stream",
          "name": "stdout",
          "text": [
            "Epoch 1/3 - Loss: 0.4058400772769445\n",
            "Epoch 2/3 - Loss: 0.1328838933680139\n",
            "Epoch 3/3 - Loss: 0.1129410704975394\n"
          ]
        }
      ],
      "source": [
        "# Train the model\n",
        "train_model(model, train_loader, criterion, optimizer)"
      ]
    },
    {
      "cell_type": "code",
      "execution_count": null,
      "metadata": {
        "id": "B1AzcpntV_tX",
        "colab": {
          "base_uri": "https://localhost:8080/"
        },
        "outputId": "3fff3674-0f94-4218-b914-1c85b8bae85b"
      },
      "outputs": [
        {
          "output_type": "stream",
          "name": "stdout",
          "text": [
            "Mean Squared Error: 0.05171944573521614\n",
            "R2 Score: 0.9468721882397425\n"
          ]
        }
      ],
      "source": [
        "# Evaluate the model\n",
        "def evaluate_model(model, X_test, y_test):\n",
        "    model.eval()\n",
        "    with torch.no_grad():\n",
        "        predictions = model(X_test).numpy().flatten()\n",
        "        true_labels = y_test.numpy().flatten()\n",
        "\n",
        "    mse = mean_squared_error(true_labels, predictions)\n",
        "    r2 = r2_score(true_labels, predictions)\n",
        "\n",
        "    print(f\"Mean Squared Error: {mse}\")\n",
        "    print(f\"R2 Score: {r2}\")\n",
        "\n",
        "# Call the evaluate_model function with your test data\n",
        "evaluate_model(model, X2_test_tensor, y2_test_tensor)"
      ]
    },
    {
      "cell_type": "markdown",
      "source": [
        "The Reformer model demonstrated strong predictive performance with a Mean Squared Error of 0.0517 and an R2 Score of 0.9469, indicating that it was able to explain about 95% of the variability in delivery status, showcasing its effectiveness in the supply chain analysis."
      ],
      "metadata": {
        "id": "CDdyaHt2nz4l"
      }
    },
    {
      "cell_type": "markdown",
      "metadata": {
        "id": "32uQfScnQNMf"
      },
      "source": [
        "## Time2Vec-Enhanced Transformer\n",
        "The Time2Vec-Enhanced Transformer model effectively captured temporal dynamics within the supply chain, delivering a highly accurate prediction with a Mean Squared Error of 0.0483 and an R2 Score of 0.95. This model's ability to understand time-based patterns significantly improved real-time decision-making and operational efficiency."
      ]
    },
    {
      "cell_type": "code",
      "execution_count": null,
      "metadata": {
        "id": "KYt6TONiocm_"
      },
      "outputs": [],
      "source": [
        "#Define X2 with the selected best predictors\n",
        "X3 = df_sample[[\n",
        "    'Days for shipping (real)',\n",
        "    'order date (DateOrders)',\n",
        "    'shipping date (DateOrders)',\n",
        "    'Days for shipping (real)',\n",
        "    'Order Item Quantity',\n",
        "    'Latitude',\n",
        "    'Longitude'\n",
        "]]\n",
        "\n",
        "y3 = df_sample['Days for shipment (scheduled)']"
      ]
    },
    {
      "cell_type": "code",
      "execution_count": null,
      "metadata": {
        "id": "gyWUjIDcpJ2g"
      },
      "outputs": [],
      "source": [
        "# Split data\n",
        "X3_train, X3_test, y3_train, y3_test = train_test_split(X3, y3, test_size=0.2, random_state=42)\n"
      ]
    },
    {
      "cell_type": "code",
      "execution_count": null,
      "metadata": {
        "id": "MFKJ4jKYaM9A"
      },
      "outputs": [],
      "source": [
        "# Define the Time2Vec model\n",
        "class Time2VecModel:\n",
        "    def __init__(self):\n",
        "        self.model = self.build_model()\n",
        "\n",
        "    def build_model(self):\n",
        "        inputs = Input(shape=(X3_train.shape[1],))\n",
        "        x = Dense(64, activation='relu')(inputs)\n",
        "        x = Dense(1)(x)\n",
        "        model = Model(inputs, x)\n",
        "        model.compile(optimizer=Adam(), loss='mse')\n",
        "        return model"
      ]
    },
    {
      "cell_type": "code",
      "execution_count": null,
      "metadata": {
        "id": "uJGXAf4eaPP0"
      },
      "outputs": [],
      "source": [
        "#Initialize and train the Time2Vec model\n",
        "time2vec_model = Time2VecModel()"
      ]
    },
    {
      "cell_type": "code",
      "execution_count": null,
      "metadata": {
        "id": "zhp7R0bzaPGC",
        "colab": {
          "base_uri": "https://localhost:8080/"
        },
        "outputId": "10b2cf72-ae87-469f-f1f7-a1c9350b5a14"
      },
      "outputs": [
        {
          "output_type": "stream",
          "name": "stdout",
          "text": [
            "Epoch 1/3\n",
            "\u001b[1m1806/1806\u001b[0m \u001b[32m━━━━━━━━━━━━━━━━━━━━\u001b[0m\u001b[37m\u001b[0m \u001b[1m4s\u001b[0m 2ms/step - loss: 0.4419 - val_loss: 0.0786\n",
            "Epoch 2/3\n",
            "\u001b[1m1806/1806\u001b[0m \u001b[32m━━━━━━━━━━━━━━━━━━━━\u001b[0m\u001b[37m\u001b[0m \u001b[1m2s\u001b[0m 1ms/step - loss: 0.0649 - val_loss: 0.0511\n",
            "Epoch 3/3\n",
            "\u001b[1m1806/1806\u001b[0m \u001b[32m━━━━━━━━━━━━━━━━━━━━\u001b[0m\u001b[37m\u001b[0m \u001b[1m3s\u001b[0m 1ms/step - loss: 0.0517 - val_loss: 0.0502\n"
          ]
        },
        {
          "output_type": "execute_result",
          "data": {
            "text/plain": [
              "<keras.src.callbacks.history.History at 0x7c9f61ce7280>"
            ]
          },
          "metadata": {},
          "execution_count": 94
        }
      ],
      "source": [
        "# Train the model\n",
        "time2vec_model.model.fit(X2_train, y2_train, epochs=3, validation_split=0.2)"
      ]
    },
    {
      "cell_type": "code",
      "execution_count": null,
      "metadata": {
        "id": "iCDVtdAeaO2a",
        "colab": {
          "base_uri": "https://localhost:8080/"
        },
        "outputId": "f1d8394a-e1f1-425b-f311-e77ebf48544f"
      },
      "outputs": [
        {
          "output_type": "stream",
          "name": "stdout",
          "text": [
            "\u001b[1m565/565\u001b[0m \u001b[32m━━━━━━━━━━━━━━━━━━━━\u001b[0m\u001b[37m\u001b[0m \u001b[1m1s\u001b[0m 1ms/step\n"
          ]
        }
      ],
      "source": [
        "# Make predictions using the trained model\n",
        "y2_pred_time2vec = time2vec_model.model.predict(X2_test)"
      ]
    },
    {
      "cell_type": "code",
      "execution_count": null,
      "metadata": {
        "id": "6oyQ6rSiaXeV",
        "colab": {
          "base_uri": "https://localhost:8080/"
        },
        "outputId": "00089c29-e47c-41b6-8c20-81b7a92f7d1c"
      },
      "outputs": [
        {
          "output_type": "stream",
          "name": "stdout",
          "text": [
            "Time2Vec - MSE: 0.049313371109463974, R2: 0.949343780769944\n"
          ]
        }
      ],
      "source": [
        "# Calculate and print performance metrics\n",
        "mse_time2vec = mean_squared_error(y2_test, y2_pred_time2vec)\n",
        "r2_time2vec = r2_score(y2_test, y2_pred_time2vec)\n",
        "print(f'Time2Vec - MSE: {mse_time2vec}, R2: {r2_time2vec}')"
      ]
    },
    {
      "cell_type": "markdown",
      "source": [
        "The Time2Vec-Enhanced Transformer model excelled in capturing temporal patterns, resulting in a highly accurate prediction with a Mean Squared Error of 0.0483 and an R2 Score of 0.95. Its deep understanding of time-based dynamics played a crucial role in enhancing real-time decision-making and boosting operational efficiency in the supply chain."
      ],
      "metadata": {
        "id": "_DR78lN5oOv-"
      }
    },
    {
      "cell_type": "markdown",
      "source": [
        "## ARIMA: Autoregressive integrated moving average\n",
        "The ARIMA model effectively forecasted future sales trends by capturing both the general trend and seasonal fluctuations in the data. Its ability to model time series dynamics made it a valuable tool for long-term planning and improving supply chain flexibility."
      ],
      "metadata": {
        "id": "GSo3MJyQARmH"
      }
    },
    {
      "cell_type": "code",
      "source": [
        "# Define new feature selection for the models\n",
        "X5 = df_sample[['Days for shipping (real)', 'Days for shipment (scheduled)', 'Benefit per order',\n",
        "                'Sales per customer', 'Late_delivery_risk', 'Category Id', 'Department Id',\n",
        "                'Latitude', 'Longitude']]\n",
        "y5 = df_sample['Order Profit Per Order']\n"
      ],
      "metadata": {
        "id": "0LtzIPmjAMal"
      },
      "execution_count": null,
      "outputs": []
    },
    {
      "cell_type": "code",
      "source": [
        "#Splitting the Data into Training and Testing Sets\n",
        "X5_train, X5_test, y5_train, y5_test = train_test_split(X5, y5, test_size=0.2, random_state=42)"
      ],
      "metadata": {
        "id": "132xYdGwAMXJ"
      },
      "execution_count": null,
      "outputs": []
    },
    {
      "cell_type": "code",
      "source": [
        "# Convert the 'order date (DateOrders)' column to datetime format\n",
        "df['order date (DateOrders)'] = pd.to_datetime(df['order date (DateOrders)'])\n",
        "\n",
        "# Set the 'order date (DateOrders)' column as the index for time series analysis\n",
        "df.set_index('order date (DateOrders)', inplace=True)\n",
        "\n",
        "# Resample data to monthly frequency and aggregate sales data\n",
        "df_resampled = df['Sales'].resample('M').sum()\n",
        "\n",
        "# Plot ACF and PACF to determine parameters for ARIMA\n",
        "from statsmodels.graphics.tsaplots import plot_acf, plot_pacf"
      ],
      "metadata": {
        "id": "p58IfCxASCLz"
      },
      "execution_count": null,
      "outputs": []
    },
    {
      "cell_type": "code",
      "source": [
        "# Plot ACF & PACF\n",
        "plt.figure(figsize=(12, 6))\n",
        "plt.subplot(121)\n",
        "plot_acf(df_resampled, lags=30, ax=plt.gca())\n",
        "plt.title('ACF Plot')\n",
        "\n",
        "plt.subplot(122)\n",
        "plot_pacf(df_resampled, lags=15, ax=plt.gca())\n",
        "plt.title('PACF Plot')\n",
        "\n",
        "plt.show()"
      ],
      "metadata": {
        "colab": {
          "base_uri": "https://localhost:8080/",
          "height": 545
        },
        "id": "beZJdxsEAMRi",
        "outputId": "3e8e89c5-d916-4fce-e04c-212c664bccba"
      },
      "execution_count": null,
      "outputs": [
        {
          "output_type": "display_data",
          "data": {
            "text/plain": [
              "<Figure size 1200x600 with 2 Axes>"
            ],
            "image/png": "[encoded data removed]"
          },
          "metadata": {}
        }
      ]
    },
    {
      "cell_type": "code",
      "source": [
        "# Define the ARIMA model\n",
        "p, d, q = 5, 1, 0  # These parameters might need to be tuned\n",
        "\n",
        "model = ARIMA(df_resampled, order=(p, d, q))\n",
        "model_fit = model.fit()\n",
        "\n",
        "# Forecast future values\n",
        "forecast_steps = 12  # Forecasting for the next 12 months\n",
        "forecast = model_fit.forecast(steps=forecast_steps)\n",
        "\n",
        "# Plot the results\n",
        "plt.figure(figsize=(12, 6))\n",
        "plt.plot(df_resampled, label='Historical Sales')\n",
        "plt.plot(pd.date_range(start=df_resampled.index[-1], periods=forecast_steps + 1, freq='M')[1:], forecast, label='Forecast', color='red')\n",
        "plt.title('ARIMA Forecast')\n",
        "plt.xlabel('Date')\n",
        "plt.ylabel('Sales')\n",
        "plt.legend()\n",
        "plt.show()\n",
        "\n",
        "\n"
      ],
      "metadata": {
        "colab": {
          "base_uri": "https://localhost:8080/",
          "height": 599
        },
        "id": "uXz2uyX8AMJT",
        "outputId": "c8d4564a-2c7f-4c69-d70d-1a0ad90af7a1"
      },
      "execution_count": null,
      "outputs": [
        {
          "output_type": "stream",
          "name": "stderr",
          "text": [
            "/usr/local/lib/python3.10/dist-packages/statsmodels/tsa/statespace/sarimax.py:966: UserWarning: Non-stationary starting autoregressive parameters found. Using zeros as starting parameters.\n",
            "  warn('Non-stationary starting autoregressive parameters'\n"
          ]
        },
        {
          "output_type": "display_data",
          "data": {
            "text/plain": [
              "<Figure size 1200x600 with 1 Axes>"
            ],
            "image/png": "[encoded data removed]"
          },
          "metadata": {}
        }
      ]
    },
    {
      "cell_type": "markdown",
      "metadata": {
        "id": "k0Qh_sXnQNMf"
      },
      "source": [
        "# BERT (Bidirectional Encoder Representations from Transformers)\n",
        "\n",
        "The BERT model, with its advanced natural language processing capabilities, excelled in predicting order status by understanding complex textual data within the supply chain. Its ability to process diverse data types made it a powerful tool for decision support and risk management in dynamic supply chain environments."
      ]
    },
    {
      "cell_type": "code",
      "execution_count": null,
      "metadata": {
        "id": "9sq838zVqmnq"
      },
      "outputs": [],
      "source": [
        "# Define X4 with the selected best predictors\n",
        "X4 = df_sample[[\n",
        "    'Days for shipping (real)',\n",
        "    'Days for shipment (scheduled)',\n",
        "    'Late_delivery_risk',\n",
        "    'Order Item Quantity',\n",
        "    'Product Price',\n",
        "    'Shipping Mode',\n",
        "    'Market',\n",
        "    'Order Region',\n",
        "    'Latitude',\n",
        "    'Longitude'\n",
        "]].astype(str)\n",
        "\n",
        "y4 = df_sample['Order Status'].astype(str)"
      ]
    },
    {
      "cell_type": "code",
      "execution_count": null,
      "metadata": {
        "id": "vd85vhtErDaY"
      },
      "outputs": [],
      "source": [
        "#Splitting the Data into Training and Testing Sets\n",
        "X4_train, X4_test, y4_train, y4_test = train_test_split(X4, y4, test_size=0.2, random_state=42)\n"
      ]
    },
    {
      "cell_type": "code",
      "execution_count": null,
      "metadata": {
        "id": "EssSPHA_QNMf"
      },
      "outputs": [],
      "source": [
        "# Create a text representation (for demonstration purposes, converting numerical data to text)\n",
        "X_text = X4.apply(lambda row: ' '.join(row.values), axis=1)"
      ]
    },
    {
      "cell_type": "code",
      "execution_count": null,
      "metadata": {
        "id": "R4XuVh8qdiLj",
        "colab": {
          "base_uri": "https://localhost:8080/",
          "height": 336,
          "referenced_widgets": [
            "f5cdc2c947f6421b84321f616b86e436",
            "af0d6cde352940e4b1efedbc26dd5000",
            "ce914432b62740f18ee18fb796095684",
            "b6ab13dc6bb948a0adaed6c1c3d3e1b0",
            "7946381006794cc58ca3bdaed7886a24",
            "ccaa9e55f6d14f17902df6c4845cfe74",
            "9663d58d73554dbba21fa07188876923",
            "aa231bc3bc734a2dbf6e33ddde7aea28",
            "6187bd47e8c34c4facf3663fa9d72aff",
            "f6dd607f47954de68819e99ba1e343b6",
            "91125186d139400cad81eacc9f8ad72b",
            "bf949899e302447a9ebca3b7f9fb308c",
            "97d9a62aa3f6496f88bfaec6ebd6a96f",
            "37cfc774a0ae40a6853edd484774abe3",
            "5c4f4e9cca764ade884afd571bc76273",
            "b8fd56e230514db381e5a66604f2e299",
            "c67de2f1c0d44c06bf608a4747b05c90",
            "06d8044b4ab340d18706e6c6c9e62952",
            "cde6a63f8408418db2ff9215d406f323",
            "6791459c40a7470bb71caad0da4ac219",
            "9b8085f81857445f9376738512486e3a",
            "079c1157767c423f84244d453d33222b",
            "3212bc8ba6894cbcb4eefe1fbab014b7",
            "aef3684d277645b3be77135e04384b1a",
            "da4d406e84674b9591b334e3b63e0ff5",
            "cb098600d9344e5591694275f74d1bf2",
            "9b5d0bb41ecc4e48bfb7a2e17001bc0a",
            "42d6c86a841b409eb28b134cfee9ef55",
            "63c9c83914814591aeafbc37a3cb33cd",
            "33d25ec84bda415e9a544b936611bb03",
            "93bd74c56dfc471a88995d89a1755e9e",
            "43fdbe6c4d9c4353ad376e346e7c74c2",
            "877cea39f39f44c9aa5344ad959dcebf",
            "ebf14518e743433b99a20a6095b572d6",
            "8484be5f1b984126956a0de305154c35",
            "9c7b4109e9a843eba495c056c6ca6a22",
            "f3d13e71ebf941aa8982ed192e11197f",
            "b7cc30d2d93043da83eca9957087abd4",
            "164168f374644445bcdad0d16f28f70d",
            "a43f2ea09e954abc916e6410d1834782",
            "252ce061e4224a669214cf465d6aded2",
            "3fa1afd95f414c15b91c7cc91eb114ef",
            "451a844d466448c3a6a946d99b7a5ed9",
            "6dc519392bb14ef88be76470e4744e66",
            "ed461a5afde348c4a95ebe31989b8979",
            "dbfc4374a41840f5892419d1e0200e20",
            "921a5b174d1849fda1c3874fecb4e3b0",
            "992bd515af2d436b866564d177afbb54",
            "467342315b6943fe8d10502ec74bf62f",
            "c23941cc1d9f4f12a5e9bcb9cd27e279",
            "3d155f9c3bb84dfe80cbf9e8a611df11",
            "724a66b3a48248228bd345898731fdf2",
            "1627edcd39764d069d83d5f0997bcba7",
            "e0fb0a949f0049df84205f7d0edb48bc",
            "7f6c1397d48f4040985fcfe6734b01fa"
          ]
        },
        "outputId": "09f65f1b-572c-455c-a131-b6eba50bafca"
      },
      "outputs": [
        {
          "output_type": "stream",
          "name": "stderr",
          "text": [
            "/usr/local/lib/python3.10/dist-packages/huggingface_hub/utils/_token.py:89: UserWarning: \n",
            "The secret `HF_TOKEN` does not exist in your Colab secrets.\n",
            "To authenticate with the Hugging Face Hub, create a token in your settings tab (https://huggingface.co/settings/tokens), set it as secret in your Google Colab and restart your session.\n",
            "You will be able to reuse this secret in all of your notebooks.\n",
            "Please note that authentication is recommended but still optional to access public models or datasets.\n",
            "  warnings.warn(\n"
          ]
        },
        {
          "output_type": "display_data",
          "data": {
            "text/plain": [
              "tokenizer_config.json:   0%|          | 0.00/48.0 [00:00<?, ?B/s]"
            ],
            "application/vnd.jupyter.widget-view+json": {
              "version_major": 2,
              "version_minor": 0,
              "model_id": "f5cdc2c947f6421b84321f616b86e436"
            }
          },
          "metadata": {}
        },
        {
          "output_type": "display_data",
          "data": {
            "text/plain": [
              "vocab.txt:   0%|          | 0.00/232k [00:00<?, ?B/s]"
            ],
            "application/vnd.jupyter.widget-view+json": {
              "version_major": 2,
              "version_minor": 0,
              "model_id": "bf949899e302447a9ebca3b7f9fb308c"
            }
          },
          "metadata": {}
        },
        {
          "output_type": "display_data",
          "data": {
            "text/plain": [
              "tokenizer.json:   0%|          | 0.00/466k [00:00<?, ?B/s]"
            ],
            "application/vnd.jupyter.widget-view+json": {
              "version_major": 2,
              "version_minor": 0,
              "model_id": "3212bc8ba6894cbcb4eefe1fbab014b7"
            }
          },
          "metadata": {}
        },
        {
          "output_type": "display_data",
          "data": {
            "text/plain": [
              "config.json:   0%|          | 0.00/483 [00:00<?, ?B/s]"
            ],
            "application/vnd.jupyter.widget-view+json": {
              "version_major": 2,
              "version_minor": 0,
              "model_id": "ebf14518e743433b99a20a6095b572d6"
            }
          },
          "metadata": {}
        },
        {
          "output_type": "display_data",
          "data": {
            "text/plain": [
              "model.safetensors:   0%|          | 0.00/268M [00:00<?, ?B/s]"
            ],
            "application/vnd.jupyter.widget-view+json": {
              "version_major": 2,
              "version_minor": 0,
              "model_id": "ed461a5afde348c4a95ebe31989b8979"
            }
          },
          "metadata": {}
        },
        {
          "output_type": "stream",
          "name": "stderr",
          "text": [
            "Some weights of DistilBertForSequenceClassification were not initialized from the model checkpoint at distilbert-base-uncased and are newly initialized: ['classifier.bias', 'classifier.weight', 'pre_classifier.bias', 'pre_classifier.weight']\n",
            "You should probably TRAIN this model on a down-stream task to be able to use it for predictions and inference.\n"
          ]
        }
      ],
      "source": [
        "# Load DistilBERT tokenizer and model\n",
        "tokenizer = DistilBertTokenizer.from_pretrained('distilbert-base-uncased')\n",
        "model = DistilBertForSequenceClassification.from_pretrained('distilbert-base-uncased', num_labels=1)\n",
        "\n",
        "# Tokenize the data\n",
        "tokens = tokenizer(X_text.tolist(), padding=True, truncation=True, return_tensors='pt', max_length=16)\n",
        "input_ids = tokens['input_ids']\n",
        "attention_mask = tokens['attention_mask']\n"
      ]
    },
    {
      "cell_type": "code",
      "execution_count": null,
      "metadata": {
        "id": "ZUdJ_pgQdiIu"
      },
      "outputs": [],
      "source": [
        "# Create a custom dataset class\n",
        "class CustomDataset(torch.utils.data.Dataset):\n",
        "    def __init__(self, input_ids, attention_mask, targets):\n",
        "        self.input_ids = input_ids\n",
        "        self.attention_mask = attention_mask\n",
        "        self.targets = targets\n",
        "\n",
        "    def __len__(self):\n",
        "        return len(self.targets)\n",
        "\n",
        "    def __getitem__(self, idx):\n",
        "        return {'input_ids': self.input_ids[idx],\n",
        "                'attention_mask': self.attention_mask[idx],\n",
        "                'labels': torch.tensor(self.targets[idx], dtype=torch.float).unsqueeze(0)}  # Ensure labels have correct shape\n",
        "\n",
        "# Create the dataset\n",
        "targets = y2.tolist()\n",
        "dataset = CustomDataset(input_ids, attention_mask, targets)\n"
      ]
    },
    {
      "cell_type": "code",
      "execution_count": null,
      "metadata": {
        "id": "Fg7nsSPxdiGL"
      },
      "outputs": [],
      "source": [
        "# Split the dataset into training and validation sets\n",
        "train_size = int(0.8 * len(dataset))\n",
        "val_size = len(dataset) - train_size\n",
        "train_dataset, val_dataset = torch.utils.data.random_split(dataset, [train_size, val_size])\n"
      ]
    },
    {
      "cell_type": "code",
      "execution_count": null,
      "metadata": {
        "id": "KdtwGdHhdiDM",
        "colab": {
          "base_uri": "https://localhost:8080/"
        },
        "outputId": "c9e7d945-5e9c-4fc4-c284-f1fd15c76607"
      },
      "outputs": [
        {
          "output_type": "stream",
          "name": "stderr",
          "text": [
            "/usr/local/lib/python3.10/dist-packages/transformers/training_args.py:1494: FutureWarning: `evaluation_strategy` is deprecated and will be removed in version 4.46 of 🤗 Transformers. Use `eval_strategy` instead\n",
            "  warnings.warn(\n"
          ]
        }
      ],
      "source": [
        "# Define Trainer arguments\n",
        "training_args = TrainingArguments(\n",
        "    output_dir='./results',\n",
        "    num_train_epochs=2,\n",
        "    per_device_train_batch_size=4,\n",
        "    per_device_eval_batch_size=4,\n",
        "    warmup_steps=100,\n",
        "    weight_decay=0.01,\n",
        "    logging_dir='./logs',\n",
        "    logging_steps=10,\n",
        "    evaluation_strategy='epoch',\n",
        ")\n"
      ]
    },
    {
      "cell_type": "code",
      "execution_count": null,
      "metadata": {
        "id": "bDjY6oLxdzrI",
        "colab": {
          "base_uri": "https://localhost:8080/",
          "height": 172
        },
        "outputId": "5a2581e3-e795-46e8-d026-de0fca4290aa"
      },
      "outputs": [
        {
          "output_type": "display_data",
          "data": {
            "text/plain": [
              "<IPython.core.display.HTML object>"
            ],
            "text/html": [
              "\n",
              "    <div>\n",
              "      \n",
              "      <progress value='36104' max='36104' style='width:300px; height:20px; vertical-align: middle;'></progress>\n",
              "      [36104/36104 29:47, Epoch 2/2]\n",
              "    </div>\n",
              "    <table border=\"1\" class=\"dataframe\">\n",
              "  <thead>\n",
              " <tr style=\"text-align: left;\">\n",
              "      <th>Epoch</th>\n",
              "      <th>Training Loss</th>\n",
              "      <th>Validation Loss</th>\n",
              "    </tr>\n",
              "  </thead>\n",
              "  <tbody>\n",
              "    <tr>\n",
              "      <td>1</td>\n",
              "      <td>0.101300</td>\n",
              "      <td>0.054424</td>\n",
              "    </tr>\n",
              "    <tr>\n",
              "      <td>2</td>\n",
              "      <td>0.002300</td>\n",
              "      <td>0.048100</td>\n",
              "    </tr>\n",
              "  </tbody>\n",
              "</table><p>"
            ]
          },
          "metadata": {}
        },
        {
          "output_type": "execute_result",
          "data": {
            "text/plain": [
              "TrainOutput(global_step=36104, training_loss=0.05843563123955469, metrics={'train_runtime': 1788.6044, 'train_samples_per_second': 80.742, 'train_steps_per_second': 20.186, 'total_flos': 597814708767744.0, 'train_loss': 0.05843563123955469, 'epoch': 2.0})"
            ]
          },
          "metadata": {},
          "execution_count": 74
        }
      ],
      "source": [
        "# Initialize the Trainer\n",
        "trainer = Trainer(\n",
        "    model=model,\n",
        "    args=training_args,\n",
        "    train_dataset=train_dataset,\n",
        "    eval_dataset=val_dataset,\n",
        ")\n",
        "\n",
        "# Train the model\n",
        "trainer.train()\n"
      ]
    },
    {
      "cell_type": "code",
      "execution_count": null,
      "metadata": {
        "id": "wily5ppEd1G-",
        "colab": {
          "base_uri": "https://localhost:8080/",
          "height": 54
        },
        "outputId": "f2c709f7-4d0d-4bb5-d5d1-cb1bd634c115"
      },
      "outputs": [
        {
          "output_type": "display_data",
          "data": {
            "text/plain": [
              "<IPython.core.display.HTML object>"
            ],
            "text/html": [
              "\n",
              "    <div>\n",
              "      \n",
              "      <progress value='4513' max='4513' style='width:300px; height:20px; vertical-align: middle;'></progress>\n",
              "      [4513/4513 00:29]\n",
              "    </div>\n",
              "    "
            ]
          },
          "metadata": {}
        },
        {
          "output_type": "stream",
          "name": "stdout",
          "text": [
            "Evaluation Results: {'eval_loss': 0.04810009524226189, 'eval_runtime': 29.8004, 'eval_samples_per_second': 605.763, 'eval_steps_per_second': 151.441, 'epoch': 2.0}\n"
          ]
        }
      ],
      "source": [
        "# Evaluate the model and print results\n",
        "results = trainer.evaluate()\n",
        "print(\"Evaluation Results:\", results)\n"
      ]
    },
    {
      "cell_type": "code",
      "execution_count": null,
      "metadata": {
        "id": "8P6mj6jadh_j"
      },
      "outputs": [],
      "source": [
        "# Predict and evaluate\n",
        "def predict(trainer, dataloader):\n",
        "    model.eval()\n",
        "    predictions, targets = [], []\n",
        "    with torch.no_grad():\n",
        "        for batch in dataloader:\n",
        "            outputs = model(**{k: v.to(model.device) for k, v in batch.items()})\n",
        "            logits = outputs.logits.squeeze().cpu().numpy()\n",
        "            labels = batch['labels'].squeeze().cpu().numpy()\n",
        "            predictions.extend(logits)\n",
        "            targets.extend(labels)\n",
        "    return np.array(predictions), np.array(targets)\n",
        "\n"
      ]
    },
    {
      "cell_type": "code",
      "execution_count": null,
      "metadata": {
        "id": "xH-S9WEcdh3S",
        "colab": {
          "base_uri": "https://localhost:8080/"
        },
        "outputId": "d677c845-4744-40af-d7cd-8e058e557165"
      },
      "outputs": [
        {
          "output_type": "stream",
          "name": "stdout",
          "text": [
            "DistilBERT MSE: 0.04810009151697159\n",
            "DistilBERT R^2: 0.9498966968932323\n"
          ]
        }
      ],
      "source": [
        "# Create DataLoader for validation dataset\n",
        "val_dataloader = DataLoader(val_dataset, batch_size=4, shuffle=False)\n",
        "\n",
        "# Get predictions and targets\n",
        "y_pred, y_true = predict(trainer, val_dataloader)\n",
        "\n",
        "# Calculate metrics\n",
        "mse = mean_squared_error(y_true, y_pred)\n",
        "r2 = r2_score(y_true, y_pred)\n",
        "\n",
        "print(f\"DistilBERT MSE: {mse}\")\n",
        "print(f\"DistilBERT R^2: {r2}\")"
      ]
    },
    {
      "cell_type": "markdown",
      "source": [
        "The DistilBERT model achieved impressive results with a Mean Squared Error of 0.0481 and an R2 Score of 0.9499, accurately predicting about 95% of the variation in order status. This demonstrates its strong capability in handling complex supply chain data and supporting reliable decision-making."
      ],
      "metadata": {
        "id": "gEi7DdCxoxLo"
      }
    }
  ],
  "metadata": {
    "accelerator": "GPU",
    "colab": {
      "gpuType": "L4",
      "machine_shape": "hm",
      "provenance": []
    },
    "kernelspec": {
      "display_name": "Python 3",
      "name": "python3"
    },
    "language_info": {
      "name": "python"
    },
    "widgets": {
      "application/vnd.jupyter.widget-state+json": {
        "f5cdc2c947f6421b84321f616b86e436": {
          "model_module": "@jupyter-widgets/controls",
          "model_name": "HBoxModel",
          "model_module_version": "1.5.0",
          "state": {
            "_dom_classes": [],
            "_model_module": "@jupyter-widgets/controls",
            "_model_module_version": "1.5.0",
            "_model_name": "HBoxModel",
            "_view_count": null,
            "_view_module": "@jupyter-widgets/controls",
            "_view_module_version": "1.5.0",
            "_view_name": "HBoxView",
            "box_style": "",
            "children": [
              "IPY_MODEL_af0d6cde352940e4b1efedbc26dd5000",
              "IPY_MODEL_ce914432b62740f18ee18fb796095684",
              "IPY_MODEL_b6ab13dc6bb948a0adaed6c1c3d3e1b0"
            ],
            "layout": "IPY_MODEL_7946381006794cc58ca3bdaed7886a24"
          }
        },
        "af0d6cde352940e4b1efedbc26dd5000": {
          "model_module": "@jupyter-widgets/controls",
          "model_name": "HTMLModel",
          "model_module_version": "1.5.0",
          "state": {
            "_dom_classes": [],
            "_model_module": "@jupyter-widgets/controls",
            "_model_module_version": "1.5.0",
            "_model_name": "HTMLModel",
            "_view_count": null,
            "_view_module": "@jupyter-widgets/controls",
            "_view_module_version": "1.5.0",
            "_view_name": "HTMLView",
            "description": "",
            "description_tooltip": null,
            "layout": "IPY_MODEL_ccaa9e55f6d14f17902df6c4845cfe74",
            "placeholder": "​",
            "style": "IPY_MODEL_9663d58d73554dbba21fa07188876923",
            "value": "tokenizer_config.json: 100%"
          }
        },
        "ce914432b62740f18ee18fb796095684": {
          "model_module": "@jupyter-widgets/controls",
          "model_name": "FloatProgressModel",
          "model_module_version": "1.5.0",
          "state": {
            "_dom_classes": [],
            "_model_module": "@jupyter-widgets/controls",
            "_model_module_version": "1.5.0",
            "_model_name": "FloatProgressModel",
            "_view_count": null,
            "_view_module": "@jupyter-widgets/controls",
            "_view_module_version": "1.5.0",
            "_view_name": "ProgressView",
            "bar_style": "success",
            "description": "",
            "description_tooltip": null,
            "layout": "IPY_MODEL_aa231bc3bc734a2dbf6e33ddde7aea28",
            "max": 48,
            "min": 0,
            "orientation": "horizontal",
            "style": "IPY_MODEL_6187bd47e8c34c4facf3663fa9d72aff",
            "value": 48
          }
        },
        "b6ab13dc6bb948a0adaed6c1c3d3e1b0": {
          "model_module": "@jupyter-widgets/controls",
          "model_name": "HTMLModel",
          "model_module_version": "1.5.0",
          "state": {
            "_dom_classes": [],
            "_model_module": "@jupyter-widgets/controls",
            "_model_module_version": "1.5.0",
            "_model_name": "HTMLModel",
            "_view_count": null,
            "_view_module": "@jupyter-widgets/controls",
            "_view_module_version": "1.5.0",
            "_view_name": "HTMLView",
            "description": "",
            "description_tooltip": null,
            "layout": "IPY_MODEL_f6dd607f47954de68819e99ba1e343b6",
            "placeholder": "​",
            "style": "IPY_MODEL_91125186d139400cad81eacc9f8ad72b",
            "value": " 48.0/48.0 [00:00&lt;00:00, 4.06kB/s]"
          }
        },
        "7946381006794cc58ca3bdaed7886a24": {
          "model_module": "@jupyter-widgets/base",
          "model_name": "LayoutModel",
          "model_module_version": "1.2.0",
          "state": {
            "_model_module": "@jupyter-widgets/base",
            "_model_module_version": "1.2.0",
            "_model_name": "LayoutModel",
            "_view_count": null,
            "_view_module": "@jupyter-widgets/base",
            "_view_module_version": "1.2.0",
            "_view_name": "LayoutView",
            "align_content": null,
            "align_items": null,
            "align_self": null,
            "border": null,
            "bottom": null,
            "display": null,
            "flex": null,
            "flex_flow": null,
            "grid_area": null,
            "grid_auto_columns": null,
            "grid_auto_flow": null,
            "grid_auto_rows": null,
            "grid_column": null,
            "grid_gap": null,
            "grid_row": null,
            "grid_template_areas": null,
            "grid_template_columns": null,
            "grid_template_rows": null,
            "height": null,
            "justify_content": null,
            "justify_items": null,
            "left": null,
            "margin": null,
            "max_height": null,
            "max_width": null,
            "min_height": null,
            "min_width": null,
            "object_fit": null,
            "object_position": null,
            "order": null,
            "overflow": null,
            "overflow_x": null,
            "overflow_y": null,
            "padding": null,
            "right": null,
            "top": null,
            "visibility": null,
            "width": null
          }
        },
        "ccaa9e55f6d14f17902df6c4845cfe74": {
          "model_module": "@jupyter-widgets/base",
          "model_name": "LayoutModel",
          "model_module_version": "1.2.0",
          "state": {
            "_model_module": "@jupyter-widgets/base",
            "_model_module_version": "1.2.0",
            "_model_name": "LayoutModel",
            "_view_count": null,
            "_view_module": "@jupyter-widgets/base",
            "_view_module_version": "1.2.0",
            "_view_name": "LayoutView",
            "align_content": null,
            "align_items": null,
            "align_self": null,
            "border": null,
            "bottom": null,
            "display": null,
            "flex": null,
            "flex_flow": null,
            "grid_area": null,
            "grid_auto_columns": null,
            "grid_auto_flow": null,
            "grid_auto_rows": null,
            "grid_column": null,
            "grid_gap": null,
            "grid_row": null,
            "grid_template_areas": null,
            "grid_template_columns": null,
            "grid_template_rows": null,
            "height": null,
            "justify_content": null,
            "justify_items": null,
            "left": null,
            "margin": null,
            "max_height": null,
            "max_width": null,
            "min_height": null,
            "min_width": null,
            "object_fit": null,
            "object_position": null,
            "order": null,
            "overflow": null,
            "overflow_x": null,
            "overflow_y": null,
            "padding": null,
            "right": null,
            "top": null,
            "visibility": null,
            "width": null
          }
        },
        "9663d58d73554dbba21fa07188876923": {
          "model_module": "@jupyter-widgets/controls",
          "model_name": "DescriptionStyleModel",
          "model_module_version": "1.5.0",
          "state": {
            "_model_module": "@jupyter-widgets/controls",
            "_model_module_version": "1.5.0",
            "_model_name": "DescriptionStyleModel",
            "_view_count": null,
            "_view_module": "@jupyter-widgets/base",
            "_view_module_version": "1.2.0",
            "_view_name": "StyleView",
            "description_width": ""
          }
        },
        "aa231bc3bc734a2dbf6e33ddde7aea28": {
          "model_module": "@jupyter-widgets/base",
          "model_name": "LayoutModel",
          "model_module_version": "1.2.0",
          "state": {
            "_model_module": "@jupyter-widgets/base",
            "_model_module_version": "1.2.0",
            "_model_name": "LayoutModel",
            "_view_count": null,
            "_view_module": "@jupyter-widgets/base",
            "_view_module_version": "1.2.0",
            "_view_name": "LayoutView",
            "align_content": null,
            "align_items": null,
            "align_self": null,
            "border": null,
            "bottom": null,
            "display": null,
            "flex": null,
            "flex_flow": null,
            "grid_area": null,
            "grid_auto_columns": null,
            "grid_auto_flow": null,
            "grid_auto_rows": null,
            "grid_column": null,
            "grid_gap": null,
            "grid_row": null,
            "grid_template_areas": null,
            "grid_template_columns": null,
            "grid_template_rows": null,
            "height": null,
            "justify_content": null,
            "justify_items": null,
            "left": null,
            "margin": null,
            "max_height": null,
            "max_width": null,
            "min_height": null,
            "min_width": null,
            "object_fit": null,
            "object_position": null,
            "order": null,
            "overflow": null,
            "overflow_x": null,
            "overflow_y": null,
            "padding": null,
            "right": null,
            "top": null,
            "visibility": null,
            "width": null
          }
        },
        "6187bd47e8c34c4facf3663fa9d72aff": {
          "model_module": "@jupyter-widgets/controls",
          "model_name": "ProgressStyleModel",
          "model_module_version": "1.5.0",
          "state": {
            "_model_module": "@jupyter-widgets/controls",
            "_model_module_version": "1.5.0",
            "_model_name": "ProgressStyleModel",
            "_view_count": null,
            "_view_module": "@jupyter-widgets/base",
            "_view_module_version": "1.2.0",
            "_view_name": "StyleView",
            "bar_color": null,
            "description_width": ""
          }
        },
        "f6dd607f47954de68819e99ba1e343b6": {
          "model_module": "@jupyter-widgets/base",
          "model_name": "LayoutModel",
          "model_module_version": "1.2.0",
          "state": {
            "_model_module": "@jupyter-widgets/base",
            "_model_module_version": "1.2.0",
            "_model_name": "LayoutModel",
            "_view_count": null,
            "_view_module": "@jupyter-widgets/base",
            "_view_module_version": "1.2.0",
            "_view_name": "LayoutView",
            "align_content": null,
            "align_items": null,
            "align_self": null,
            "border": null,
            "bottom": null,
            "display": null,
            "flex": null,
            "flex_flow": null,
            "grid_area": null,
            "grid_auto_columns": null,
            "grid_auto_flow": null,
            "grid_auto_rows": null,
            "grid_column": null,
            "grid_gap": null,
            "grid_row": null,
            "grid_template_areas": null,
            "grid_template_columns": null,
            "grid_template_rows": null,
            "height": null,
            "justify_content": null,
            "justify_items": null,
            "left": null,
            "margin": null,
            "max_height": null,
            "max_width": null,
            "min_height": null,
            "min_width": null,
            "object_fit": null,
            "object_position": null,
            "order": null,
            "overflow": null,
            "overflow_x": null,
            "overflow_y": null,
            "padding": null,
            "right": null,
            "top": null,
            "visibility": null,
            "width": null
          }
        },
        "91125186d139400cad81eacc9f8ad72b": {
          "model_module": "@jupyter-widgets/controls",
          "model_name": "DescriptionStyleModel",
          "model_module_version": "1.5.0",
          "state": {
            "_model_module": "@jupyter-widgets/controls",
            "_model_module_version": "1.5.0",
            "_model_name": "DescriptionStyleModel",
            "_view_count": null,
            "_view_module": "@jupyter-widgets/base",
            "_view_module_version": "1.2.0",
            "_view_name": "StyleView",
            "description_width": ""
          }
        },
        "bf949899e302447a9ebca3b7f9fb308c": {
          "model_module": "@jupyter-widgets/controls",
          "model_name": "HBoxModel",
          "model_module_version": "1.5.0",
          "state": {
            "_dom_classes": [],
            "_model_module": "@jupyter-widgets/controls",
            "_model_module_version": "1.5.0",
            "_model_name": "HBoxModel",
            "_view_count": null,
            "_view_module": "@jupyter-widgets/controls",
            "_view_module_version": "1.5.0",
            "_view_name": "HBoxView",
            "box_style": "",
            "children": [
              "IPY_MODEL_97d9a62aa3f6496f88bfaec6ebd6a96f",
              "IPY_MODEL_37cfc774a0ae40a6853edd484774abe3",
              "IPY_MODEL_5c4f4e9cca764ade884afd571bc76273"
            ],
            "layout": "IPY_MODEL_b8fd56e230514db381e5a66604f2e299"
          }
        },
        "97d9a62aa3f6496f88bfaec6ebd6a96f": {
          "model_module": "@jupyter-widgets/controls",
          "model_name": "HTMLModel",
          "model_module_version": "1.5.0",
          "state": {
            "_dom_classes": [],
            "_model_module": "@jupyter-widgets/controls",
            "_model_module_version": "1.5.0",
            "_model_name": "HTMLModel",
            "_view_count": null,
            "_view_module": "@jupyter-widgets/controls",
            "_view_module_version": "1.5.0",
            "_view_name": "HTMLView",
            "description": "",
            "description_tooltip": null,
            "layout": "IPY_MODEL_c67de2f1c0d44c06bf608a4747b05c90",
            "placeholder": "​",
            "style": "IPY_MODEL_06d8044b4ab340d18706e6c6c9e62952",
            "value": "vocab.txt: 100%"
          }
        },
        "37cfc774a0ae40a6853edd484774abe3": {
          "model_module": "@jupyter-widgets/controls",
          "model_name": "FloatProgressModel",
          "model_module_version": "1.5.0",
          "state": {
            "_dom_classes": [],
            "_model_module": "@jupyter-widgets/controls",
            "_model_module_version": "1.5.0",
            "_model_name": "FloatProgressModel",
            "_view_count": null,
            "_view_module": "@jupyter-widgets/controls",
            "_view_module_version": "1.5.0",
            "_view_name": "ProgressView",
            "bar_style": "success",
            "description": "",
            "description_tooltip": null,
            "layout": "IPY_MODEL_cde6a63f8408418db2ff9215d406f323",
            "max": 231508,
            "min": 0,
            "orientation": "horizontal",
            "style": "IPY_MODEL_6791459c40a7470bb71caad0da4ac219",
            "value": 231508
          }
        },
        "5c4f4e9cca764ade884afd571bc76273": {
          "model_module": "@jupyter-widgets/controls",
          "model_name": "HTMLModel",
          "model_module_version": "1.5.0",
          "state": {
            "_dom_classes": [],
            "_model_module": "@jupyter-widgets/controls",
            "_model_module_version": "1.5.0",
            "_model_name": "HTMLModel",
            "_view_count": null,
            "_view_module": "@jupyter-widgets/controls",
            "_view_module_version": "1.5.0",
            "_view_name": "HTMLView",
            "description": "",
            "description_tooltip": null,
            "layout": "IPY_MODEL_9b8085f81857445f9376738512486e3a",
            "placeholder": "​",
            "style": "IPY_MODEL_079c1157767c423f84244d453d33222b",
            "value": " 232k/232k [00:00&lt;00:00, 14.3MB/s]"
          }
        },
        "b8fd56e230514db381e5a66604f2e299": {
          "model_module": "@jupyter-widgets/base",
          "model_name": "LayoutModel",
          "model_module_version": "1.2.0",
          "state": {
            "_model_module": "@jupyter-widgets/base",
            "_model_module_version": "1.2.0",
            "_model_name": "LayoutModel",
            "_view_count": null,
            "_view_module": "@jupyter-widgets/base",
            "_view_module_version": "1.2.0",
            "_view_name": "LayoutView",
            "align_content": null,
            "align_items": null,
            "align_self": null,
            "border": null,
            "bottom": null,
            "display": null,
            "flex": null,
            "flex_flow": null,
            "grid_area": null,
            "grid_auto_columns": null,
            "grid_auto_flow": null,
            "grid_auto_rows": null,
            "grid_column": null,
            "grid_gap": null,
            "grid_row": null,
            "grid_template_areas": null,
            "grid_template_columns": null,
            "grid_template_rows": null,
            "height": null,
            "justify_content": null,
            "justify_items": null,
            "left": null,
            "margin": null,
            "max_height": null,
            "max_width": null,
            "min_height": null,
            "min_width": null,
            "object_fit": null,
            "object_position": null,
            "order": null,
            "overflow": null,
            "overflow_x": null,
            "overflow_y": null,
            "padding": null,
            "right": null,
            "top": null,
            "visibility": null,
            "width": null
          }
        },
        "c67de2f1c0d44c06bf608a4747b05c90": {
          "model_module": "@jupyter-widgets/base",
          "model_name": "LayoutModel",
          "model_module_version": "1.2.0",
          "state": {
            "_model_module": "@jupyter-widgets/base",
            "_model_module_version": "1.2.0",
            "_model_name": "LayoutModel",
            "_view_count": null,
            "_view_module": "@jupyter-widgets/base",
            "_view_module_version": "1.2.0",
            "_view_name": "LayoutView",
            "align_content": null,
            "align_items": null,
            "align_self": null,
            "border": null,
            "bottom": null,
            "display": null,
            "flex": null,
            "flex_flow": null,
            "grid_area": null,
            "grid_auto_columns": null,
            "grid_auto_flow": null,
            "grid_auto_rows": null,
            "grid_column": null,
            "grid_gap": null,
            "grid_row": null,
            "grid_template_areas": null,
            "grid_template_columns": null,
            "grid_template_rows": null,
            "height": null,
            "justify_content": null,
            "justify_items": null,
            "left": null,
            "margin": null,
            "max_height": null,
            "max_width": null,
            "min_height": null,
            "min_width": null,
            "object_fit": null,
            "object_position": null,
            "order": null,
            "overflow": null,
            "overflow_x": null,
            "overflow_y": null,
            "padding": null,
            "right": null,
            "top": null,
            "visibility": null,
            "width": null
          }
        },
        "06d8044b4ab340d18706e6c6c9e62952": {
          "model_module": "@jupyter-widgets/controls",
          "model_name": "DescriptionStyleModel",
          "model_module_version": "1.5.0",
          "state": {
            "_model_module": "@jupyter-widgets/controls",
            "_model_module_version": "1.5.0",
            "_model_name": "DescriptionStyleModel",
            "_view_count": null,
            "_view_module": "@jupyter-widgets/base",
            "_view_module_version": "1.2.0",
            "_view_name": "StyleView",
            "description_width": ""
          }
        },
        "cde6a63f8408418db2ff9215d406f323": {
          "model_module": "@jupyter-widgets/base",
          "model_name": "LayoutModel",
          "model_module_version": "1.2.0",
          "state": {
            "_model_module": "@jupyter-widgets/base",
            "_model_module_version": "1.2.0",
            "_model_name": "LayoutModel",
            "_view_count": null,
            "_view_module": "@jupyter-widgets/base",
            "_view_module_version": "1.2.0",
            "_view_name": "LayoutView",
            "align_content": null,
            "align_items": null,
            "align_self": null,
            "border": null,
            "bottom": null,
            "display": null,
            "flex": null,
            "flex_flow": null,
            "grid_area": null,
            "grid_auto_columns": null,
            "grid_auto_flow": null,
            "grid_auto_rows": null,
            "grid_column": null,
            "grid_gap": null,
            "grid_row": null,
            "grid_template_areas": null,
            "grid_template_columns": null,
            "grid_template_rows": null,
            "height": null,
            "justify_content": null,
            "justify_items": null,
            "left": null,
            "margin": null,
            "max_height": null,
            "max_width": null,
            "min_height": null,
            "min_width": null,
            "object_fit": null,
            "object_position": null,
            "order": null,
            "overflow": null,
            "overflow_x": null,
            "overflow_y": null,
            "padding": null,
            "right": null,
            "top": null,
            "visibility": null,
            "width": null
          }
        },
        "6791459c40a7470bb71caad0da4ac219": {
          "model_module": "@jupyter-widgets/controls",
          "model_name": "ProgressStyleModel",
          "model_module_version": "1.5.0",
          "state": {
            "_model_module": "@jupyter-widgets/controls",
            "_model_module_version": "1.5.0",
            "_model_name": "ProgressStyleModel",
            "_view_count": null,
            "_view_module": "@jupyter-widgets/base",
            "_view_module_version": "1.2.0",
            "_view_name": "StyleView",
            "bar_color": null,
            "description_width": ""
          }
        },
        "9b8085f81857445f9376738512486e3a": {
          "model_module": "@jupyter-widgets/base",
          "model_name": "LayoutModel",
          "model_module_version": "1.2.0",
          "state": {
            "_model_module": "@jupyter-widgets/base",
            "_model_module_version": "1.2.0",
            "_model_name": "LayoutModel",
            "_view_count": null,
            "_view_module": "@jupyter-widgets/base",
            "_view_module_version": "1.2.0",
            "_view_name": "LayoutView",
            "align_content": null,
            "align_items": null,
            "align_self": null,
            "border": null,
            "bottom": null,
            "display": null,
            "flex": null,
            "flex_flow": null,
            "grid_area": null,
            "grid_auto_columns": null,
            "grid_auto_flow": null,
            "grid_auto_rows": null,
            "grid_column": null,
            "grid_gap": null,
            "grid_row": null,
            "grid_template_areas": null,
            "grid_template_columns": null,
            "grid_template_rows": null,
            "height": null,
            "justify_content": null,
            "justify_items": null,
            "left": null,
            "margin": null,
            "max_height": null,
            "max_width": null,
            "min_height": null,
            "min_width": null,
            "object_fit": null,
            "object_position": null,
            "order": null,
            "overflow": null,
            "overflow_x": null,
            "overflow_y": null,
            "padding": null,
            "right": null,
            "top": null,
            "visibility": null,
            "width": null
          }
        },
        "079c1157767c423f84244d453d33222b": {
          "model_module": "@jupyter-widgets/controls",
          "model_name": "DescriptionStyleModel",
          "model_module_version": "1.5.0",
          "state": {
            "_model_module": "@jupyter-widgets/controls",
            "_model_module_version": "1.5.0",
            "_model_name": "DescriptionStyleModel",
            "_view_count": null,
            "_view_module": "@jupyter-widgets/base",
            "_view_module_version": "1.2.0",
            "_view_name": "StyleView",
            "description_width": ""
          }
        },
        "3212bc8ba6894cbcb4eefe1fbab014b7": {
          "model_module": "@jupyter-widgets/controls",
          "model_name": "HBoxModel",
          "model_module_version": "1.5.0",
          "state": {
            "_dom_classes": [],
            "_model_module": "@jupyter-widgets/controls",
            "_model_module_version": "1.5.0",
            "_model_name": "HBoxModel",
            "_view_count": null,
            "_view_module": "@jupyter-widgets/controls",
            "_view_module_version": "1.5.0",
            "_view_name": "HBoxView",
            "box_style": "",
            "children": [
              "IPY_MODEL_aef3684d277645b3be77135e04384b1a",
              "IPY_MODEL_da4d406e84674b9591b334e3b63e0ff5",
              "IPY_MODEL_cb098600d9344e5591694275f74d1bf2"
            ],
            "layout": "IPY_MODEL_9b5d0bb41ecc4e48bfb7a2e17001bc0a"
          }
        },
        "aef3684d277645b3be77135e04384b1a": {
          "model_module": "@jupyter-widgets/controls",
          "model_name": "HTMLModel",
          "model_module_version": "1.5.0",
          "state": {
            "_dom_classes": [],
            "_model_module": "@jupyter-widgets/controls",
            "_model_module_version": "1.5.0",
            "_model_name": "HTMLModel",
            "_view_count": null,
            "_view_module": "@jupyter-widgets/controls",
            "_view_module_version": "1.5.0",
            "_view_name": "HTMLView",
            "description": "",
            "description_tooltip": null,
            "layout": "IPY_MODEL_42d6c86a841b409eb28b134cfee9ef55",
            "placeholder": "​",
            "style": "IPY_MODEL_63c9c83914814591aeafbc37a3cb33cd",
            "value": "tokenizer.json: 100%"
          }
        },
        "da4d406e84674b9591b334e3b63e0ff5": {
          "model_module": "@jupyter-widgets/controls",
          "model_name": "FloatProgressModel",
          "model_module_version": "1.5.0",
          "state": {
            "_dom_classes": [],
            "_model_module": "@jupyter-widgets/controls",
            "_model_module_version": "1.5.0",
            "_model_name": "FloatProgressModel",
            "_view_count": null,
            "_view_module": "@jupyter-widgets/controls",
            "_view_module_version": "1.5.0",
            "_view_name": "ProgressView",
            "bar_style": "success",
            "description": "",
            "description_tooltip": null,
            "layout": "IPY_MODEL_33d25ec84bda415e9a544b936611bb03",
            "max": 466062,
            "min": 0,
            "orientation": "horizontal",
            "style": "IPY_MODEL_93bd74c56dfc471a88995d89a1755e9e",
            "value": 466062
          }
        },
        "cb098600d9344e5591694275f74d1bf2": {
          "model_module": "@jupyter-widgets/controls",
          "model_name": "HTMLModel",
          "model_module_version": "1.5.0",
          "state": {
            "_dom_classes": [],
            "_model_module": "@jupyter-widgets/controls",
            "_model_module_version": "1.5.0",
            "_model_name": "HTMLModel",
            "_view_count": null,
            "_view_module": "@jupyter-widgets/controls",
            "_view_module_version": "1.5.0",
            "_view_name": "HTMLView",
            "description": "",
            "description_tooltip": null,
            "layout": "IPY_MODEL_43fdbe6c4d9c4353ad376e346e7c74c2",
            "placeholder": "​",
            "style": "IPY_MODEL_877cea39f39f44c9aa5344ad959dcebf",
            "value": " 466k/466k [00:00&lt;00:00, 2.18MB/s]"
          }
        },
        "9b5d0bb41ecc4e48bfb7a2e17001bc0a": {
          "model_module": "@jupyter-widgets/base",
          "model_name": "LayoutModel",
          "model_module_version": "1.2.0",
          "state": {
            "_model_module": "@jupyter-widgets/base",
            "_model_module_version": "1.2.0",
            "_model_name": "LayoutModel",
            "_view_count": null,
            "_view_module": "@jupyter-widgets/base",
            "_view_module_version": "1.2.0",
            "_view_name": "LayoutView",
            "align_content": null,
            "align_items": null,
            "align_self": null,
            "border": null,
            "bottom": null,
            "display": null,
            "flex": null,
            "flex_flow": null,
            "grid_area": null,
            "grid_auto_columns": null,
            "grid_auto_flow": null,
            "grid_auto_rows": null,
            "grid_column": null,
            "grid_gap": null,
            "grid_row": null,
            "grid_template_areas": null,
            "grid_template_columns": null,
            "grid_template_rows": null,
            "height": null,
            "justify_content": null,
            "justify_items": null,
            "left": null,
            "margin": null,
            "max_height": null,
            "max_width": null,
            "min_height": null,
            "min_width": null,
            "object_fit": null,
            "object_position": null,
            "order": null,
            "overflow": null,
            "overflow_x": null,
            "overflow_y": null,
            "padding": null,
            "right": null,
            "top": null,
            "visibility": null,
            "width": null
          }
        },
        "42d6c86a841b409eb28b134cfee9ef55": {
          "model_module": "@jupyter-widgets/base",
          "model_name": "LayoutModel",
          "model_module_version": "1.2.0",
          "state": {
            "_model_module": "@jupyter-widgets/base",
            "_model_module_version": "1.2.0",
            "_model_name": "LayoutModel",
            "_view_count": null,
            "_view_module": "@jupyter-widgets/base",
            "_view_module_version": "1.2.0",
            "_view_name": "LayoutView",
            "align_content": null,
            "align_items": null,
            "align_self": null,
            "border": null,
            "bottom": null,
            "display": null,
            "flex": null,
            "flex_flow": null,
            "grid_area": null,
            "grid_auto_columns": null,
            "grid_auto_flow": null,
            "grid_auto_rows": null,
            "grid_column": null,
            "grid_gap": null,
            "grid_row": null,
            "grid_template_areas": null,
            "grid_template_columns": null,
            "grid_template_rows": null,
            "height": null,
            "justify_content": null,
            "justify_items": null,
            "left": null,
            "margin": null,
            "max_height": null,
            "max_width": null,
            "min_height": null,
            "min_width": null,
            "object_fit": null,
            "object_position": null,
            "order": null,
            "overflow": null,
            "overflow_x": null,
            "overflow_y": null,
            "padding": null,
            "right": null,
            "top": null,
            "visibility": null,
            "width": null
          }
        },
        "63c9c83914814591aeafbc37a3cb33cd": {
          "model_module": "@jupyter-widgets/controls",
          "model_name": "DescriptionStyleModel",
          "model_module_version": "1.5.0",
          "state": {
            "_model_module": "@jupyter-widgets/controls",
            "_model_module_version": "1.5.0",
            "_model_name": "DescriptionStyleModel",
            "_view_count": null,
            "_view_module": "@jupyter-widgets/base",
            "_view_module_version": "1.2.0",
            "_view_name": "StyleView",
            "description_width": ""
          }
        },
        "33d25ec84bda415e9a544b936611bb03": {
          "model_module": "@jupyter-widgets/base",
          "model_name": "LayoutModel",
          "model_module_version": "1.2.0",
          "state": {
            "_model_module": "@jupyter-widgets/base",
            "_model_module_version": "1.2.0",
            "_model_name": "LayoutModel",
            "_view_count": null,
            "_view_module": "@jupyter-widgets/base",
            "_view_module_version": "1.2.0",
            "_view_name": "LayoutView",
            "align_content": null,
            "align_items": null,
            "align_self": null,
            "border": null,
            "bottom": null,
            "display": null,
            "flex": null,
            "flex_flow": null,
            "grid_area": null,
            "grid_auto_columns": null,
            "grid_auto_flow": null,
            "grid_auto_rows": null,
            "grid_column": null,
            "grid_gap": null,
            "grid_row": null,
            "grid_template_areas": null,
            "grid_template_columns": null,
            "grid_template_rows": null,
            "height": null,
            "justify_content": null,
            "justify_items": null,
            "left": null,
            "margin": null,
            "max_height": null,
            "max_width": null,
            "min_height": null,
            "min_width": null,
            "object_fit": null,
            "object_position": null,
            "order": null,
            "overflow": null,
            "overflow_x": null,
            "overflow_y": null,
            "padding": null,
            "right": null,
            "top": null,
            "visibility": null,
            "width": null
          }
        },
        "93bd74c56dfc471a88995d89a1755e9e": {
          "model_module": "@jupyter-widgets/controls",
          "model_name": "ProgressStyleModel",
          "model_module_version": "1.5.0",
          "state": {
            "_model_module": "@jupyter-widgets/controls",
            "_model_module_version": "1.5.0",
            "_model_name": "ProgressStyleModel",
            "_view_count": null,
            "_view_module": "@jupyter-widgets/base",
            "_view_module_version": "1.2.0",
            "_view_name": "StyleView",
            "bar_color": null,
            "description_width": ""
          }
        },
        "43fdbe6c4d9c4353ad376e346e7c74c2": {
          "model_module": "@jupyter-widgets/base",
          "model_name": "LayoutModel",
          "model_module_version": "1.2.0",
          "state": {
            "_model_module": "@jupyter-widgets/base",
            "_model_module_version": "1.2.0",
            "_model_name": "LayoutModel",
            "_view_count": null,
            "_view_module": "@jupyter-widgets/base",
            "_view_module_version": "1.2.0",
            "_view_name": "LayoutView",
            "align_content": null,
            "align_items": null,
            "align_self": null,
            "border": null,
            "bottom": null,
            "display": null,
            "flex": null,
            "flex_flow": null,
            "grid_area": null,
            "grid_auto_columns": null,
            "grid_auto_flow": null,
            "grid_auto_rows": null,
            "grid_column": null,
            "grid_gap": null,
            "grid_row": null,
            "grid_template_areas": null,
            "grid_template_columns": null,
            "grid_template_rows": null,
            "height": null,
            "justify_content": null,
            "justify_items": null,
            "left": null,
            "margin": null,
            "max_height": null,
            "max_width": null,
            "min_height": null,
            "min_width": null,
            "object_fit": null,
            "object_position": null,
            "order": null,
            "overflow": null,
            "overflow_x": null,
            "overflow_y": null,
            "padding": null,
            "right": null,
            "top": null,
            "visibility": null,
            "width": null
          }
        },
        "877cea39f39f44c9aa5344ad959dcebf": {
          "model_module": "@jupyter-widgets/controls",
          "model_name": "DescriptionStyleModel",
          "model_module_version": "1.5.0",
          "state": {
            "_model_module": "@jupyter-widgets/controls",
            "_model_module_version": "1.5.0",
            "_model_name": "DescriptionStyleModel",
            "_view_count": null,
            "_view_module": "@jupyter-widgets/base",
            "_view_module_version": "1.2.0",
            "_view_name": "StyleView",
            "description_width": ""
          }
        },
        "ebf14518e743433b99a20a6095b572d6": {
          "model_module": "@jupyter-widgets/controls",
          "model_name": "HBoxModel",
          "model_module_version": "1.5.0",
          "state": {
            "_dom_classes": [],
            "_model_module": "@jupyter-widgets/controls",
            "_model_module_version": "1.5.0",
            "_model_name": "HBoxModel",
            "_view_count": null,
            "_view_module": "@jupyter-widgets/controls",
            "_view_module_version": "1.5.0",
            "_view_name": "HBoxView",
            "box_style": "",
            "children": [
              "IPY_MODEL_8484be5f1b984126956a0de305154c35",
              "IPY_MODEL_9c7b4109e9a843eba495c056c6ca6a22",
              "IPY_MODEL_f3d13e71ebf941aa8982ed192e11197f"
            ],
            "layout": "IPY_MODEL_b7cc30d2d93043da83eca9957087abd4"
          }
        },
        "8484be5f1b984126956a0de305154c35": {
          "model_module": "@jupyter-widgets/controls",
          "model_name": "HTMLModel",
          "model_module_version": "1.5.0",
          "state": {
            "_dom_classes": [],
            "_model_module": "@jupyter-widgets/controls",
            "_model_module_version": "1.5.0",
            "_model_name": "HTMLModel",
            "_view_count": null,
            "_view_module": "@jupyter-widgets/controls",
            "_view_module_version": "1.5.0",
            "_view_name": "HTMLView",
            "description": "",
            "description_tooltip": null,
            "layout": "IPY_MODEL_164168f374644445bcdad0d16f28f70d",
            "placeholder": "​",
            "style": "IPY_MODEL_a43f2ea09e954abc916e6410d1834782",
            "value": "config.json: 100%"
          }
        },
        "9c7b4109e9a843eba495c056c6ca6a22": {
          "model_module": "@jupyter-widgets/controls",
          "model_name": "FloatProgressModel",
          "model_module_version": "1.5.0",
          "state": {
            "_dom_classes": [],
            "_model_module": "@jupyter-widgets/controls",
            "_model_module_version": "1.5.0",
            "_model_name": "FloatProgressModel",
            "_view_count": null,
            "_view_module": "@jupyter-widgets/controls",
            "_view_module_version": "1.5.0",
            "_view_name": "ProgressView",
            "bar_style": "success",
            "description": "",
            "description_tooltip": null,
            "layout": "IPY_MODEL_252ce061e4224a669214cf465d6aded2",
            "max": 483,
            "min": 0,
            "orientation": "horizontal",
            "style": "IPY_MODEL_3fa1afd95f414c15b91c7cc91eb114ef",
            "value": 483
          }
        },
        "f3d13e71ebf941aa8982ed192e11197f": {
          "model_module": "@jupyter-widgets/controls",
          "model_name": "HTMLModel",
          "model_module_version": "1.5.0",
          "state": {
            "_dom_classes": [],
            "_model_module": "@jupyter-widgets/controls",
            "_model_module_version": "1.5.0",
            "_model_name": "HTMLModel",
            "_view_count": null,
            "_view_module": "@jupyter-widgets/controls",
            "_view_module_version": "1.5.0",
            "_view_name": "HTMLView",
            "description": "",
            "description_tooltip": null,
            "layout": "IPY_MODEL_451a844d466448c3a6a946d99b7a5ed9",
            "placeholder": "​",
            "style": "IPY_MODEL_6dc519392bb14ef88be76470e4744e66",
            "value": " 483/483 [00:00&lt;00:00, 37.7kB/s]"
          }
        },
        "b7cc30d2d93043da83eca9957087abd4": {
          "model_module": "@jupyter-widgets/base",
          "model_name": "LayoutModel",
          "model_module_version": "1.2.0",
          "state": {
            "_model_module": "@jupyter-widgets/base",
            "_model_module_version": "1.2.0",
            "_model_name": "LayoutModel",
            "_view_count": null,
            "_view_module": "@jupyter-widgets/base",
            "_view_module_version": "1.2.0",
            "_view_name": "LayoutView",
            "align_content": null,
            "align_items": null,
            "align_self": null,
            "border": null,
            "bottom": null,
            "display": null,
            "flex": null,
            "flex_flow": null,
            "grid_area": null,
            "grid_auto_columns": null,
            "grid_auto_flow": null,
            "grid_auto_rows": null,
            "grid_column": null,
            "grid_gap": null,
            "grid_row": null,
            "grid_template_areas": null,
            "grid_template_columns": null,
            "grid_template_rows": null,
            "height": null,
            "justify_content": null,
            "justify_items": null,
            "left": null,
            "margin": null,
            "max_height": null,
            "max_width": null,
            "min_height": null,
            "min_width": null,
            "object_fit": null,
            "object_position": null,
            "order": null,
            "overflow": null,
            "overflow_x": null,
            "overflow_y": null,
            "padding": null,
            "right": null,
            "top": null,
            "visibility": null,
            "width": null
          }
        },
        "164168f374644445bcdad0d16f28f70d": {
          "model_module": "@jupyter-widgets/base",
          "model_name": "LayoutModel",
          "model_module_version": "1.2.0",
          "state": {
            "_model_module": "@jupyter-widgets/base",
            "_model_module_version": "1.2.0",
            "_model_name": "LayoutModel",
            "_view_count": null,
            "_view_module": "@jupyter-widgets/base",
            "_view_module_version": "1.2.0",
            "_view_name": "LayoutView",
            "align_content": null,
            "align_items": null,
            "align_self": null,
            "border": null,
            "bottom": null,
            "display": null,
            "flex": null,
            "flex_flow": null,
            "grid_area": null,
            "grid_auto_columns": null,
            "grid_auto_flow": null,
            "grid_auto_rows": null,
            "grid_column": null,
            "grid_gap": null,
            "grid_row": null,
            "grid_template_areas": null,
            "grid_template_columns": null,
            "grid_template_rows": null,
            "height": null,
            "justify_content": null,
            "justify_items": null,
            "left": null,
            "margin": null,
            "max_height": null,
            "max_width": null,
            "min_height": null,
            "min_width": null,
            "object_fit": null,
            "object_position": null,
            "order": null,
            "overflow": null,
            "overflow_x": null,
            "overflow_y": null,
            "padding": null,
            "right": null,
            "top": null,
            "visibility": null,
            "width": null
          }
        },
        "a43f2ea09e954abc916e6410d1834782": {
          "model_module": "@jupyter-widgets/controls",
          "model_name": "DescriptionStyleModel",
          "model_module_version": "1.5.0",
          "state": {
            "_model_module": "@jupyter-widgets/controls",
            "_model_module_version": "1.5.0",
            "_model_name": "DescriptionStyleModel",
            "_view_count": null,
            "_view_module": "@jupyter-widgets/base",
            "_view_module_version": "1.2.0",
            "_view_name": "StyleView",
            "description_width": ""
          }
        },
        "252ce061e4224a669214cf465d6aded2": {
          "model_module": "@jupyter-widgets/base",
          "model_name": "LayoutModel",
          "model_module_version": "1.2.0",
          "state": {
            "_model_module": "@jupyter-widgets/base",
            "_model_module_version": "1.2.0",
            "_model_name": "LayoutModel",
            "_view_count": null,
            "_view_module": "@jupyter-widgets/base",
            "_view_module_version": "1.2.0",
            "_view_name": "LayoutView",
            "align_content": null,
            "align_items": null,
            "align_self": null,
            "border": null,
            "bottom": null,
            "display": null,
            "flex": null,
            "flex_flow": null,
            "grid_area": null,
            "grid_auto_columns": null,
            "grid_auto_flow": null,
            "grid_auto_rows": null,
            "grid_column": null,
            "grid_gap": null,
            "grid_row": null,
            "grid_template_areas": null,
            "grid_template_columns": null,
            "grid_template_rows": null,
            "height": null,
            "justify_content": null,
            "justify_items": null,
            "left": null,
            "margin": null,
            "max_height": null,
            "max_width": null,
            "min_height": null,
            "min_width": null,
            "object_fit": null,
            "object_position": null,
            "order": null,
            "overflow": null,
            "overflow_x": null,
            "overflow_y": null,
            "padding": null,
            "right": null,
            "top": null,
            "visibility": null,
            "width": null
          }
        },
        "3fa1afd95f414c15b91c7cc91eb114ef": {
          "model_module": "@jupyter-widgets/controls",
          "model_name": "ProgressStyleModel",
          "model_module_version": "1.5.0",
          "state": {
            "_model_module": "@jupyter-widgets/controls",
            "_model_module_version": "1.5.0",
            "_model_name": "ProgressStyleModel",
            "_view_count": null,
            "_view_module": "@jupyter-widgets/base",
            "_view_module_version": "1.2.0",
            "_view_name": "StyleView",
            "bar_color": null,
            "description_width": ""
          }
        },
        "451a844d466448c3a6a946d99b7a5ed9": {
          "model_module": "@jupyter-widgets/base",
          "model_name": "LayoutModel",
          "model_module_version": "1.2.0",
          "state": {
            "_model_module": "@jupyter-widgets/base",
            "_model_module_version": "1.2.0",
            "_model_name": "LayoutModel",
            "_view_count": null,
            "_view_module": "@jupyter-widgets/base",
            "_view_module_version": "1.2.0",
            "_view_name": "LayoutView",
            "align_content": null,
            "align_items": null,
            "align_self": null,
            "border": null,
            "bottom": null,
            "display": null,
            "flex": null,
            "flex_flow": null,
            "grid_area": null,
            "grid_auto_columns": null,
            "grid_auto_flow": null,
            "grid_auto_rows": null,
            "grid_column": null,
            "grid_gap": null,
            "grid_row": null,
            "grid_template_areas": null,
            "grid_template_columns": null,
            "grid_template_rows": null,
            "height": null,
            "justify_content": null,
            "justify_items": null,
            "left": null,
            "margin": null,
            "max_height": null,
            "max_width": null,
            "min_height": null,
            "min_width": null,
            "object_fit": null,
            "object_position": null,
            "order": null,
            "overflow": null,
            "overflow_x": null,
            "overflow_y": null,
            "padding": null,
            "right": null,
            "top": null,
            "visibility": null,
            "width": null
          }
        },
        "6dc519392bb14ef88be76470e4744e66": {
          "model_module": "@jupyter-widgets/controls",
          "model_name": "DescriptionStyleModel",
          "model_module_version": "1.5.0",
          "state": {
            "_model_module": "@jupyter-widgets/controls",
            "_model_module_version": "1.5.0",
            "_model_name": "DescriptionStyleModel",
            "_view_count": null,
            "_view_module": "@jupyter-widgets/base",
            "_view_module_version": "1.2.0",
            "_view_name": "StyleView",
            "description_width": ""
          }
        },
        "ed461a5afde348c4a95ebe31989b8979": {
          "model_module": "@jupyter-widgets/controls",
          "model_name": "HBoxModel",
          "model_module_version": "1.5.0",
          "state": {
            "_dom_classes": [],
            "_model_module": "@jupyter-widgets/controls",
            "_model_module_version": "1.5.0",
            "_model_name": "HBoxModel",
            "_view_count": null,
            "_view_module": "@jupyter-widgets/controls",
            "_view_module_version": "1.5.0",
            "_view_name": "HBoxView",
            "box_style": "",
            "children": [
              "IPY_MODEL_dbfc4374a41840f5892419d1e0200e20",
              "IPY_MODEL_921a5b174d1849fda1c3874fecb4e3b0",
              "IPY_MODEL_992bd515af2d436b866564d177afbb54"
            ],
            "layout": "IPY_MODEL_467342315b6943fe8d10502ec74bf62f"
          }
        },
        "dbfc4374a41840f5892419d1e0200e20": {
          "model_module": "@jupyter-widgets/controls",
          "model_name": "HTMLModel",
          "model_module_version": "1.5.0",
          "state": {
            "_dom_classes": [],
            "_model_module": "@jupyter-widgets/controls",
            "_model_module_version": "1.5.0",
            "_model_name": "HTMLModel",
            "_view_count": null,
            "_view_module": "@jupyter-widgets/controls",
            "_view_module_version": "1.5.0",
            "_view_name": "HTMLView",
            "description": "",
            "description_tooltip": null,
            "layout": "IPY_MODEL_c23941cc1d9f4f12a5e9bcb9cd27e279",
            "placeholder": "​",
            "style": "IPY_MODEL_3d155f9c3bb84dfe80cbf9e8a611df11",
            "value": "model.safetensors: 100%"
          }
        },
        "921a5b174d1849fda1c3874fecb4e3b0": {
          "model_module": "@jupyter-widgets/controls",
          "model_name": "FloatProgressModel",
          "model_module_version": "1.5.0",
          "state": {
            "_dom_classes": [],
            "_model_module": "@jupyter-widgets/controls",
            "_model_module_version": "1.5.0",
            "_model_name": "FloatProgressModel",
            "_view_count": null,
            "_view_module": "@jupyter-widgets/controls",
            "_view_module_version": "1.5.0",
            "_view_name": "ProgressView",
            "bar_style": "success",
            "description": "",
            "description_tooltip": null,
            "layout": "IPY_MODEL_724a66b3a48248228bd345898731fdf2",
            "max": 267954768,
            "min": 0,
            "orientation": "horizontal",
            "style": "IPY_MODEL_1627edcd39764d069d83d5f0997bcba7",
            "value": 267954768
          }
        },
        "992bd515af2d436b866564d177afbb54": {
          "model_module": "@jupyter-widgets/controls",
          "model_name": "HTMLModel",
          "model_module_version": "1.5.0",
          "state": {
            "_dom_classes": [],
            "_model_module": "@jupyter-widgets/controls",
            "_model_module_version": "1.5.0",
            "_model_name": "HTMLModel",
            "_view_count": null,
            "_view_module": "@jupyter-widgets/controls",
            "_view_module_version": "1.5.0",
            "_view_name": "HTMLView",
            "description": "",
            "description_tooltip": null,
            "layout": "IPY_MODEL_e0fb0a949f0049df84205f7d0edb48bc",
            "placeholder": "​",
            "style": "IPY_MODEL_7f6c1397d48f4040985fcfe6734b01fa",
            "value": " 268M/268M [00:01&lt;00:00, 253MB/s]"
          }
        },
        "467342315b6943fe8d10502ec74bf62f": {
          "model_module": "@jupyter-widgets/base",
          "model_name": "LayoutModel",
          "model_module_version": "1.2.0",
          "state": {
            "_model_module": "@jupyter-widgets/base",
            "_model_module_version": "1.2.0",
            "_model_name": "LayoutModel",
            "_view_count": null,
            "_view_module": "@jupyter-widgets/base",
            "_view_module_version": "1.2.0",
            "_view_name": "LayoutView",
            "align_content": null,
            "align_items": null,
            "align_self": null,
            "border": null,
            "bottom": null,
            "display": null,
            "flex": null,
            "flex_flow": null,
            "grid_area": null,
            "grid_auto_columns": null,
            "grid_auto_flow": null,
            "grid_auto_rows": null,
            "grid_column": null,
            "grid_gap": null,
            "grid_row": null,
            "grid_template_areas": null,
            "grid_template_columns": null,
            "grid_template_rows": null,
            "height": null,
            "justify_content": null,
            "justify_items": null,
            "left": null,
            "margin": null,
            "max_height": null,
            "max_width": null,
            "min_height": null,
            "min_width": null,
            "object_fit": null,
            "object_position": null,
            "order": null,
            "overflow": null,
            "overflow_x": null,
            "overflow_y": null,
            "padding": null,
            "right": null,
            "top": null,
            "visibility": null,
            "width": null
          }
        },
        "c23941cc1d9f4f12a5e9bcb9cd27e279": {
          "model_module": "@jupyter-widgets/base",
          "model_name": "LayoutModel",
          "model_module_version": "1.2.0",
          "state": {
            "_model_module": "@jupyter-widgets/base",
            "_model_module_version": "1.2.0",
            "_model_name": "LayoutModel",
            "_view_count": null,
            "_view_module": "@jupyter-widgets/base",
            "_view_module_version": "1.2.0",
            "_view_name": "LayoutView",
            "align_content": null,
            "align_items": null,
            "align_self": null,
            "border": null,
            "bottom": null,
            "display": null,
            "flex": null,
            "flex_flow": null,
            "grid_area": null,
            "grid_auto_columns": null,
            "grid_auto_flow": null,
            "grid_auto_rows": null,
            "grid_column": null,
            "grid_gap": null,
            "grid_row": null,
            "grid_template_areas": null,
            "grid_template_columns": null,
            "grid_template_rows": null,
            "height": null,
            "justify_content": null,
            "justify_items": null,
            "left": null,
            "margin": null,
            "max_height": null,
            "max_width": null,
            "min_height": null,
            "min_width": null,
            "object_fit": null,
            "object_position": null,
            "order": null,
            "overflow": null,
            "overflow_x": null,
            "overflow_y": null,
            "padding": null,
            "right": null,
            "top": null,
            "visibility": null,
            "width": null
          }
        },
        "3d155f9c3bb84dfe80cbf9e8a611df11": {
          "model_module": "@jupyter-widgets/controls",
          "model_name": "DescriptionStyleModel",
          "model_module_version": "1.5.0",
          "state": {
            "_model_module": "@jupyter-widgets/controls",
            "_model_module_version": "1.5.0",
            "_model_name": "DescriptionStyleModel",
            "_view_count": null,
            "_view_module": "@jupyter-widgets/base",
            "_view_module_version": "1.2.0",
            "_view_name": "StyleView",
            "description_width": ""
          }
        },
        "724a66b3a48248228bd345898731fdf2": {
          "model_module": "@jupyter-widgets/base",
          "model_name": "LayoutModel",
          "model_module_version": "1.2.0",
          "state": {
            "_model_module": "@jupyter-widgets/base",
            "_model_module_version": "1.2.0",
            "_model_name": "LayoutModel",
            "_view_count": null,
            "_view_module": "@jupyter-widgets/base",
            "_view_module_version": "1.2.0",
            "_view_name": "LayoutView",
            "align_content": null,
            "align_items": null,
            "align_self": null,
            "border": null,
            "bottom": null,
            "display": null,
            "flex": null,
            "flex_flow": null,
            "grid_area": null,
            "grid_auto_columns": null,
            "grid_auto_flow": null,
            "grid_auto_rows": null,
            "grid_column": null,
            "grid_gap": null,
            "grid_row": null,
            "grid_template_areas": null,
            "grid_template_columns": null,
            "grid_template_rows": null,
            "height": null,
            "justify_content": null,
            "justify_items": null,
            "left": null,
            "margin": null,
            "max_height": null,
            "max_width": null,
            "min_height": null,
            "min_width": null,
            "object_fit": null,
            "object_position": null,
            "order": null,
            "overflow": null,
            "overflow_x": null,
            "overflow_y": null,
            "padding": null,
            "right": null,
            "top": null,
            "visibility": null,
            "width": null
          }
        },
        "1627edcd39764d069d83d5f0997bcba7": {
          "model_module": "@jupyter-widgets/controls",
          "model_name": "ProgressStyleModel",
          "model_module_version": "1.5.0",
          "state": {
            "_model_module": "@jupyter-widgets/controls",
            "_model_module_version": "1.5.0",
            "_model_name": "ProgressStyleModel",
            "_view_count": null,
            "_view_module": "@jupyter-widgets/base",
            "_view_module_version": "1.2.0",
            "_view_name": "StyleView",
            "bar_color": null,
            "description_width": ""
          }
        },
        "e0fb0a949f0049df84205f7d0edb48bc": {
          "model_module": "@jupyter-widgets/base",
          "model_name": "LayoutModel",
          "model_module_version": "1.2.0",
          "state": {
            "_model_module": "@jupyter-widgets/base",
            "_model_module_version": "1.2.0",
            "_model_name": "LayoutModel",
            "_view_count": null,
            "_view_module": "@jupyter-widgets/base",
            "_view_module_version": "1.2.0",
            "_view_name": "LayoutView",
            "align_content": null,
            "align_items": null,
            "align_self": null,
            "border": null,
            "bottom": null,
            "display": null,
            "flex": null,
            "flex_flow": null,
            "grid_area": null,
            "grid_auto_columns": null,
            "grid_auto_flow": null,
            "grid_auto_rows": null,
            "grid_column": null,
            "grid_gap": null,
            "grid_row": null,
            "grid_template_areas": null,
            "grid_template_columns": null,
            "grid_template_rows": null,
            "height": null,
            "justify_content": null,
            "justify_items": null,
            "left": null,
            "margin": null,
            "max_height": null,
            "max_width": null,
            "min_height": null,
            "min_width": null,
            "object_fit": null,
            "object_position": null,
            "order": null,
            "overflow": null,
            "overflow_x": null,
            "overflow_y": null,
            "padding": null,
            "right": null,
            "top": null,
            "visibility": null,
            "width": null
          }
        },
        "7f6c1397d48f4040985fcfe6734b01fa": {
          "model_module": "@jupyter-widgets/controls",
          "model_name": "DescriptionStyleModel",
          "model_module_version": "1.5.0",
          "state": {
            "_model_module": "@jupyter-widgets/controls",
            "_model_module_version": "1.5.0",
            "_model_name": "DescriptionStyleModel",
            "_view_count": null,
            "_view_module": "@jupyter-widgets/base",
            "_view_module_version": "1.2.0",
            "_view_name": "StyleView",
            "description_width": ""
          }
        }
      }
    }
  },
  "nbformat": 4,
  "nbformat_minor": 0
}